{
 "cells": [
  {
   "cell_type": "markdown",
   "id": "1ffd6361",
   "metadata": {},
   "source": [
    "# Exploratory Data Analysis and Feature Engineering"
   ]
  },
  {
   "cell_type": "markdown",
   "id": "f4f0a9e6",
   "metadata": {},
   "source": [
    "Goal of this notebook is to analyze the delta between creation of shipment and first hub scan (FHS) which happens when the parcel arrives at the last mile carrier. this time includes the time of transport which is our target."
   ]
  },
  {
   "cell_type": "code",
   "execution_count": 1,
   "id": "afa71102",
   "metadata": {},
   "outputs": [],
   "source": [
    "%load_ext autoreload\n",
    "%autoreload 2"
   ]
  },
  {
   "cell_type": "markdown",
   "id": "b0ea62e0",
   "metadata": {},
   "source": [
    "Installing packages from requirements.txt"
   ]
  },
  {
   "cell_type": "code",
   "execution_count": 2,
   "id": "5ce7c16c",
   "metadata": {},
   "outputs": [
    {
     "name": "stdout",
     "output_type": "stream",
     "text": [
      "Obtaining file:///Users/christianklaus/code/christianklausML/dispatcher-project\n",
      "  Preparing metadata (setup.py) ... \u001b[?25ldone\n",
      "\u001b[?25hRequirement already satisfied: pip>=9 in /Users/christianklaus/.pyenv/versions/3.8.12/envs/lewagon/lib/python3.8/site-packages (from dispatcher==1.0) (22.0.4)\n",
      "Requirement already satisfied: setuptools>=26 in /Users/christianklaus/.pyenv/versions/3.8.12/envs/lewagon/lib/python3.8/site-packages (from dispatcher==1.0) (56.0.0)\n",
      "Requirement already satisfied: twine in /Users/christianklaus/.pyenv/versions/3.8.12/envs/lewagon/lib/python3.8/site-packages (from dispatcher==1.0) (4.0.0)\n",
      "Requirement already satisfied: wheel>=0.29 in /Users/christianklaus/.pyenv/versions/3.8.12/envs/lewagon/lib/python3.8/site-packages (from dispatcher==1.0) (0.37.1)\n",
      "Requirement already satisfied: numpy in /Users/christianklaus/.pyenv/versions/3.8.12/envs/lewagon/lib/python3.8/site-packages (from dispatcher==1.0) (1.22.4)\n",
      "Requirement already satisfied: pandas in /Users/christianklaus/.pyenv/versions/3.8.12/envs/lewagon/lib/python3.8/site-packages (from dispatcher==1.0) (1.3.5)\n",
      "Requirement already satisfied: scikit-learn in /Users/christianklaus/.pyenv/versions/3.8.12/envs/lewagon/lib/python3.8/site-packages (from dispatcher==1.0) (1.1.1)\n",
      "Requirement already satisfied: fsspec==2022.3.0 in /Users/christianklaus/.pyenv/versions/3.8.12/envs/lewagon/lib/python3.8/site-packages (from dispatcher==1.0) (2022.3.0)\n",
      "Requirement already satisfied: datetime in /Users/christianklaus/.pyenv/versions/3.8.12/envs/lewagon/lib/python3.8/site-packages (from dispatcher==1.0) (4.5)\n",
      "Requirement already satisfied: mlxtend in /Users/christianklaus/.pyenv/versions/3.8.12/envs/lewagon/lib/python3.8/site-packages (from dispatcher==1.0) (0.20.0)\n",
      "Requirement already satisfied: tensorflow==2.9.1 in /Users/christianklaus/.pyenv/versions/3.8.12/envs/lewagon/lib/python3.8/site-packages (from dispatcher==1.0) (2.9.1)\n",
      "Requirement already satisfied: tensorflow-estimator==2.9.0 in /Users/christianklaus/.pyenv/versions/3.8.12/envs/lewagon/lib/python3.8/site-packages (from dispatcher==1.0) (2.9.0)\n",
      "Requirement already satisfied: tensorflow-io-gcs-filesystem==0.26.0 in /Users/christianklaus/.pyenv/versions/3.8.12/envs/lewagon/lib/python3.8/site-packages (from dispatcher==1.0) (0.26.0)\n",
      "Requirement already satisfied: scikeras==0.8.0 in /Users/christianklaus/.pyenv/versions/3.8.12/envs/lewagon/lib/python3.8/site-packages (from dispatcher==1.0) (0.8.0)\n",
      "Requirement already satisfied: black in /Users/christianklaus/.pyenv/versions/3.8.12/envs/lewagon/lib/python3.8/site-packages (from dispatcher==1.0) (21.12b0)\n",
      "Requirement already satisfied: coverage in /Users/christianklaus/.pyenv/versions/3.8.12/envs/lewagon/lib/python3.8/site-packages (from dispatcher==1.0) (6.2)\n",
      "Requirement already satisfied: flake8 in /Users/christianklaus/.pyenv/versions/3.8.12/envs/lewagon/lib/python3.8/site-packages (from dispatcher==1.0) (4.0.1)\n",
      "Requirement already satisfied: pytest in /Users/christianklaus/.pyenv/versions/3.8.12/envs/lewagon/lib/python3.8/site-packages (from dispatcher==1.0) (6.2.5)\n",
      "Requirement already satisfied: yapf in /Users/christianklaus/.pyenv/versions/3.8.12/envs/lewagon/lib/python3.8/site-packages (from dispatcher==1.0) (0.32.0)\n",
      "Requirement already satisfied: gcsfs==2022.3.0 in /Users/christianklaus/.pyenv/versions/3.8.12/envs/lewagon/lib/python3.8/site-packages (from dispatcher==1.0) (2022.3.0)\n",
      "Requirement already satisfied: mlflow in /Users/christianklaus/.pyenv/versions/3.8.12/envs/lewagon/lib/python3.8/site-packages (from dispatcher==1.0) (1.24.0)\n",
      "Requirement already satisfied: s3fs in /Users/christianklaus/.pyenv/versions/3.8.12/envs/lewagon/lib/python3.8/site-packages (from dispatcher==1.0) (2022.3.0)\n",
      "Requirement already satisfied: uvicorn in /Users/christianklaus/.pyenv/versions/3.8.12/envs/lewagon/lib/python3.8/site-packages (from dispatcher==1.0) (0.16.0)\n",
      "Requirement already satisfied: fastapi in /Users/christianklaus/.pyenv/versions/3.8.12/envs/lewagon/lib/python3.8/site-packages (from dispatcher==1.0) (0.70.1)\n",
      "Requirement already satisfied: six>=1.14 in /Users/christianklaus/.pyenv/versions/3.8.12/envs/lewagon/lib/python3.8/site-packages (from dispatcher==1.0) (1.14.0)\n",
      "Requirement already satisfied: joblib in /Users/christianklaus/.pyenv/versions/3.8.12/envs/lewagon/lib/python3.8/site-packages (from dispatcher==1.0) (1.0.1)\n",
      "Requirement already satisfied: memoized-property in /Users/christianklaus/.pyenv/versions/3.8.12/envs/lewagon/lib/python3.8/site-packages (from dispatcher==1.0) (1.0.3)\n",
      "Requirement already satisfied: termcolor in /Users/christianklaus/.pyenv/versions/3.8.12/envs/lewagon/lib/python3.8/site-packages (from dispatcher==1.0) (1.1.0)\n",
      "Requirement already satisfied: google-cloud-storage==2.3.0 in /Users/christianklaus/.pyenv/versions/3.8.12/envs/lewagon/lib/python3.8/site-packages (from dispatcher==1.0) (2.3.0)\n",
      "Requirement already satisfied: google==3.0.0 in /Users/christianklaus/.pyenv/versions/3.8.12/envs/lewagon/lib/python3.8/site-packages (from dispatcher==1.0) (3.0.0)\n",
      "Requirement already satisfied: google-cloud==0.34.0 in /Users/christianklaus/.pyenv/versions/3.8.12/envs/lewagon/lib/python3.8/site-packages (from dispatcher==1.0) (0.34.0)\n",
      "Requirement already satisfied: decorator>4.1.2 in /Users/christianklaus/.pyenv/versions/3.8.12/envs/lewagon/lib/python3.8/site-packages (from gcsfs==2022.3.0->dispatcher==1.0) (5.1.0)\n",
      "Requirement already satisfied: google-auth-oauthlib in /Users/christianklaus/.pyenv/versions/3.8.12/envs/lewagon/lib/python3.8/site-packages (from gcsfs==2022.3.0->dispatcher==1.0) (0.4.6)\n",
      "Requirement already satisfied: aiohttp<4 in /Users/christianklaus/.pyenv/versions/3.8.12/envs/lewagon/lib/python3.8/site-packages (from gcsfs==2022.3.0->dispatcher==1.0) (3.8.1)\n",
      "Requirement already satisfied: google-auth>=1.2 in /Users/christianklaus/.pyenv/versions/3.8.12/envs/lewagon/lib/python3.8/site-packages (from gcsfs==2022.3.0->dispatcher==1.0) (2.3.3)\n",
      "Requirement already satisfied: requests in /Users/christianklaus/.pyenv/versions/3.8.12/envs/lewagon/lib/python3.8/site-packages (from gcsfs==2022.3.0->dispatcher==1.0) (2.27.1)\n",
      "Requirement already satisfied: beautifulsoup4 in /Users/christianklaus/.pyenv/versions/3.8.12/envs/lewagon/lib/python3.8/site-packages (from google==3.0.0->dispatcher==1.0) (4.10.0)\n",
      "Requirement already satisfied: google-api-core!=2.0.*,!=2.1.*,!=2.2.*,!=2.3.0,<3.0.0dev,>=1.31.5 in /Users/christianklaus/.pyenv/versions/3.8.12/envs/lewagon/lib/python3.8/site-packages (from google-cloud-storage==2.3.0->dispatcher==1.0) (2.3.2)\n",
      "Requirement already satisfied: google-cloud-core<3.0dev,>=2.3.0 in /Users/christianklaus/.pyenv/versions/3.8.12/envs/lewagon/lib/python3.8/site-packages (from google-cloud-storage==2.3.0->dispatcher==1.0) (2.3.0)\n",
      "Requirement already satisfied: protobuf in /Users/christianklaus/.pyenv/versions/3.8.12/envs/lewagon/lib/python3.8/site-packages (from google-cloud-storage==2.3.0->dispatcher==1.0) (3.19.1)\n",
      "Requirement already satisfied: google-resumable-media>=2.3.2 in /Users/christianklaus/.pyenv/versions/3.8.12/envs/lewagon/lib/python3.8/site-packages (from google-cloud-storage==2.3.0->dispatcher==1.0) (2.3.2)\n",
      "Requirement already satisfied: packaging<22.0,>=0.21 in /Users/christianklaus/.pyenv/versions/3.8.12/envs/lewagon/lib/python3.8/site-packages (from scikeras==0.8.0->dispatcher==1.0) (21.3)\n",
      "Requirement already satisfied: libclang>=13.0.0 in /Users/christianklaus/.pyenv/versions/3.8.12/envs/lewagon/lib/python3.8/site-packages (from tensorflow==2.9.1->dispatcher==1.0) (14.0.6)\n",
      "Requirement already satisfied: h5py>=2.9.0 in /Users/christianklaus/.pyenv/versions/3.8.12/envs/lewagon/lib/python3.8/site-packages (from tensorflow==2.9.1->dispatcher==1.0) (3.6.0)\n",
      "Requirement already satisfied: opt-einsum>=2.3.2 in /Users/christianklaus/.pyenv/versions/3.8.12/envs/lewagon/lib/python3.8/site-packages (from tensorflow==2.9.1->dispatcher==1.0) (3.3.0)\n",
      "Requirement already satisfied: gast<=0.4.0,>=0.2.1 in /Users/christianklaus/.pyenv/versions/3.8.12/envs/lewagon/lib/python3.8/site-packages (from tensorflow==2.9.1->dispatcher==1.0) (0.4.0)\n",
      "Requirement already satisfied: tensorboard<2.10,>=2.9 in /Users/christianklaus/.pyenv/versions/3.8.12/envs/lewagon/lib/python3.8/site-packages (from tensorflow==2.9.1->dispatcher==1.0) (2.9.1)\n",
      "Requirement already satisfied: keras-preprocessing>=1.1.1 in /Users/christianklaus/.pyenv/versions/3.8.12/envs/lewagon/lib/python3.8/site-packages (from tensorflow==2.9.1->dispatcher==1.0) (1.1.2)\n",
      "Requirement already satisfied: flatbuffers<2,>=1.12 in /Users/christianklaus/.pyenv/versions/3.8.12/envs/lewagon/lib/python3.8/site-packages (from tensorflow==2.9.1->dispatcher==1.0) (1.12)\n",
      "Requirement already satisfied: astunparse>=1.6.0 in /Users/christianklaus/.pyenv/versions/3.8.12/envs/lewagon/lib/python3.8/site-packages (from tensorflow==2.9.1->dispatcher==1.0) (1.6.3)\n",
      "Requirement already satisfied: keras<2.10.0,>=2.9.0rc0 in /Users/christianklaus/.pyenv/versions/3.8.12/envs/lewagon/lib/python3.8/site-packages (from tensorflow==2.9.1->dispatcher==1.0) (2.9.0)\n",
      "Requirement already satisfied: typing-extensions>=3.6.6 in /Users/christianklaus/.pyenv/versions/3.8.12/envs/lewagon/lib/python3.8/site-packages (from tensorflow==2.9.1->dispatcher==1.0) (4.0.1)\n",
      "Requirement already satisfied: google-pasta>=0.1.1 in /Users/christianklaus/.pyenv/versions/3.8.12/envs/lewagon/lib/python3.8/site-packages (from tensorflow==2.9.1->dispatcher==1.0) (0.2.0)\n",
      "Requirement already satisfied: absl-py>=1.0.0 in /Users/christianklaus/.pyenv/versions/3.8.12/envs/lewagon/lib/python3.8/site-packages (from tensorflow==2.9.1->dispatcher==1.0) (1.2.0)\n",
      "Requirement already satisfied: wrapt>=1.11.0 in /Users/christianklaus/.pyenv/versions/3.8.12/envs/lewagon/lib/python3.8/site-packages (from tensorflow==2.9.1->dispatcher==1.0) (1.12.1)\n",
      "Requirement already satisfied: grpcio<2.0,>=1.24.3 in /Users/christianklaus/.pyenv/versions/3.8.12/envs/lewagon/lib/python3.8/site-packages (from tensorflow==2.9.1->dispatcher==1.0) (1.43.0)\n"
     ]
    },
    {
     "name": "stdout",
     "output_type": "stream",
     "text": [
      "Requirement already satisfied: scipy>=1.3.2 in /Users/christianklaus/.pyenv/versions/3.8.12/envs/lewagon/lib/python3.8/site-packages (from scikit-learn->dispatcher==1.0) (1.7.3)\n",
      "Requirement already satisfied: threadpoolctl>=2.0.0 in /Users/christianklaus/.pyenv/versions/3.8.12/envs/lewagon/lib/python3.8/site-packages (from scikit-learn->dispatcher==1.0) (3.0.0)\n",
      "Requirement already satisfied: pathspec<1,>=0.9.0 in /Users/christianklaus/.pyenv/versions/3.8.12/envs/lewagon/lib/python3.8/site-packages (from black->dispatcher==1.0) (0.9.0)\n",
      "Requirement already satisfied: tomli<2.0.0,>=0.2.6 in /Users/christianklaus/.pyenv/versions/3.8.12/envs/lewagon/lib/python3.8/site-packages (from black->dispatcher==1.0) (1.2.3)\n",
      "Requirement already satisfied: platformdirs>=2 in /Users/christianklaus/.pyenv/versions/3.8.12/envs/lewagon/lib/python3.8/site-packages (from black->dispatcher==1.0) (2.4.1)\n",
      "Requirement already satisfied: mypy-extensions>=0.4.3 in /Users/christianklaus/.pyenv/versions/3.8.12/envs/lewagon/lib/python3.8/site-packages (from black->dispatcher==1.0) (0.4.3)\n",
      "Requirement already satisfied: click>=7.1.2 in /Users/christianklaus/.pyenv/versions/3.8.12/envs/lewagon/lib/python3.8/site-packages (from black->dispatcher==1.0) (8.0.3)\n",
      "Requirement already satisfied: zope.interface in /Users/christianklaus/.pyenv/versions/3.8.12/envs/lewagon/lib/python3.8/site-packages (from datetime->dispatcher==1.0) (5.4.0)\n",
      "Requirement already satisfied: pytz in /Users/christianklaus/.pyenv/versions/3.8.12/envs/lewagon/lib/python3.8/site-packages (from datetime->dispatcher==1.0) (2021.3)\n",
      "Requirement already satisfied: pydantic!=1.7,!=1.7.1,!=1.7.2,!=1.7.3,!=1.8,!=1.8.1,<2.0.0,>=1.6.2 in /Users/christianklaus/.pyenv/versions/3.8.12/envs/lewagon/lib/python3.8/site-packages (from fastapi->dispatcher==1.0) (1.9.0)\n",
      "Requirement already satisfied: starlette==0.16.0 in /Users/christianklaus/.pyenv/versions/3.8.12/envs/lewagon/lib/python3.8/site-packages (from fastapi->dispatcher==1.0) (0.16.0)\n",
      "Requirement already satisfied: anyio<4,>=3.0.0 in /Users/christianklaus/.pyenv/versions/3.8.12/envs/lewagon/lib/python3.8/site-packages (from starlette==0.16.0->fastapi->dispatcher==1.0) (3.4.0)\n",
      "Requirement already satisfied: mccabe<0.7.0,>=0.6.0 in /Users/christianklaus/.pyenv/versions/3.8.12/envs/lewagon/lib/python3.8/site-packages (from flake8->dispatcher==1.0) (0.6.1)\n",
      "Requirement already satisfied: pycodestyle<2.9.0,>=2.8.0 in /Users/christianklaus/.pyenv/versions/3.8.12/envs/lewagon/lib/python3.8/site-packages (from flake8->dispatcher==1.0) (2.8.0)\n",
      "Requirement already satisfied: pyflakes<2.5.0,>=2.4.0 in /Users/christianklaus/.pyenv/versions/3.8.12/envs/lewagon/lib/python3.8/site-packages (from flake8->dispatcher==1.0) (2.4.0)\n",
      "Requirement already satisfied: Flask in /Users/christianklaus/.pyenv/versions/3.8.12/envs/lewagon/lib/python3.8/site-packages (from mlflow->dispatcher==1.0) (2.0.2)\n",
      "Requirement already satisfied: cloudpickle in /Users/christianklaus/.pyenv/versions/3.8.12/envs/lewagon/lib/python3.8/site-packages (from mlflow->dispatcher==1.0) (2.0.0)\n",
      "Requirement already satisfied: prometheus-flask-exporter in /Users/christianklaus/.pyenv/versions/3.8.12/envs/lewagon/lib/python3.8/site-packages (from mlflow->dispatcher==1.0) (0.18.7)\n",
      "Requirement already satisfied: alembic in /Users/christianklaus/.pyenv/versions/3.8.12/envs/lewagon/lib/python3.8/site-packages (from mlflow->dispatcher==1.0) (1.4.1)\n",
      "Requirement already satisfied: gunicorn in /Users/christianklaus/.pyenv/versions/3.8.12/envs/lewagon/lib/python3.8/site-packages (from mlflow->dispatcher==1.0) (20.1.0)\n",
      "Requirement already satisfied: entrypoints in /Users/christianklaus/.pyenv/versions/3.8.12/envs/lewagon/lib/python3.8/site-packages (from mlflow->dispatcher==1.0) (0.3)\n",
      "Requirement already satisfied: sqlparse>=0.3.1 in /Users/christianklaus/.pyenv/versions/3.8.12/envs/lewagon/lib/python3.8/site-packages (from mlflow->dispatcher==1.0) (0.4.2)\n",
      "Requirement already satisfied: gitpython>=2.1.0 in /Users/christianklaus/.pyenv/versions/3.8.12/envs/lewagon/lib/python3.8/site-packages (from mlflow->dispatcher==1.0) (3.1.24)\n",
      "Requirement already satisfied: importlib-metadata!=4.7.0,>=3.7.0 in /Users/christianklaus/.pyenv/versions/3.8.12/envs/lewagon/lib/python3.8/site-packages (from mlflow->dispatcher==1.0) (4.10.0)\n",
      "Requirement already satisfied: docker>=4.0.0 in /Users/christianklaus/.pyenv/versions/3.8.12/envs/lewagon/lib/python3.8/site-packages (from mlflow->dispatcher==1.0) (5.0.3)\n",
      "Requirement already satisfied: databricks-cli>=0.8.7 in /Users/christianklaus/.pyenv/versions/3.8.12/envs/lewagon/lib/python3.8/site-packages (from mlflow->dispatcher==1.0) (0.16.2)\n",
      "Requirement already satisfied: sqlalchemy in /Users/christianklaus/.pyenv/versions/3.8.12/envs/lewagon/lib/python3.8/site-packages (from mlflow->dispatcher==1.0) (1.4.29)\n",
      "Requirement already satisfied: pyyaml>=5.1 in /Users/christianklaus/.pyenv/versions/3.8.12/envs/lewagon/lib/python3.8/site-packages (from mlflow->dispatcher==1.0) (6.0)\n",
      "Requirement already satisfied: querystring-parser in /Users/christianklaus/.pyenv/versions/3.8.12/envs/lewagon/lib/python3.8/site-packages (from mlflow->dispatcher==1.0) (1.2.4)\n",
      "Requirement already satisfied: matplotlib>=3.0.0 in /Users/christianklaus/.pyenv/versions/3.8.12/envs/lewagon/lib/python3.8/site-packages (from mlxtend->dispatcher==1.0) (3.5.1)\n",
      "Requirement already satisfied: python-dateutil>=2.7.3 in /Users/christianklaus/.pyenv/versions/3.8.12/envs/lewagon/lib/python3.8/site-packages (from pandas->dispatcher==1.0) (2.8.2)\n",
      "Requirement already satisfied: iniconfig in /Users/christianklaus/.pyenv/versions/3.8.12/envs/lewagon/lib/python3.8/site-packages (from pytest->dispatcher==1.0) (1.1.1)\n",
      "Requirement already satisfied: pluggy<2.0,>=0.12 in /Users/christianklaus/.pyenv/versions/3.8.12/envs/lewagon/lib/python3.8/site-packages (from pytest->dispatcher==1.0) (1.0.0)\n",
      "Requirement already satisfied: py>=1.8.2 in /Users/christianklaus/.pyenv/versions/3.8.12/envs/lewagon/lib/python3.8/site-packages (from pytest->dispatcher==1.0) (1.11.0)\n",
      "Requirement already satisfied: attrs>=19.2.0 in /Users/christianklaus/.pyenv/versions/3.8.12/envs/lewagon/lib/python3.8/site-packages (from pytest->dispatcher==1.0) (21.4.0)\n",
      "Requirement already satisfied: toml in /Users/christianklaus/.pyenv/versions/3.8.12/envs/lewagon/lib/python3.8/site-packages (from pytest->dispatcher==1.0) (0.10.2)\n",
      "Requirement already satisfied: aiobotocore~=2.2.0 in /Users/christianklaus/.pyenv/versions/3.8.12/envs/lewagon/lib/python3.8/site-packages (from s3fs->dispatcher==1.0) (2.2.0)\n",
      "Requirement already satisfied: rich>=12.0.0 in /Users/christianklaus/.pyenv/versions/3.8.12/envs/lewagon/lib/python3.8/site-packages (from twine->dispatcher==1.0) (12.2.0)\n",
      "Requirement already satisfied: urllib3>=1.26.0 in /Users/christianklaus/.pyenv/versions/3.8.12/envs/lewagon/lib/python3.8/site-packages (from twine->dispatcher==1.0) (1.26.7)\n",
      "Requirement already satisfied: keyring>=15.1 in /Users/christianklaus/.pyenv/versions/3.8.12/envs/lewagon/lib/python3.8/site-packages (from twine->dispatcher==1.0) (23.5.0)\n",
      "Requirement already satisfied: readme-renderer>=21.0 in /Users/christianklaus/.pyenv/versions/3.8.12/envs/lewagon/lib/python3.8/site-packages (from twine->dispatcher==1.0) (35.0)\n",
      "Requirement already satisfied: requests-toolbelt!=0.9.0,>=0.8.0 in /Users/christianklaus/.pyenv/versions/3.8.12/envs/lewagon/lib/python3.8/site-packages (from twine->dispatcher==1.0) (0.9.1)\n",
      "Requirement already satisfied: pkginfo>=1.8.1 in /Users/christianklaus/.pyenv/versions/3.8.12/envs/lewagon/lib/python3.8/site-packages (from twine->dispatcher==1.0) (1.8.2)\n",
      "Requirement already satisfied: rfc3986>=1.4.0 in /Users/christianklaus/.pyenv/versions/3.8.12/envs/lewagon/lib/python3.8/site-packages (from twine->dispatcher==1.0) (2.0.0)\n",
      "Requirement already satisfied: h11>=0.8 in /Users/christianklaus/.pyenv/versions/3.8.12/envs/lewagon/lib/python3.8/site-packages (from uvicorn->dispatcher==1.0) (0.12.0)\n",
      "Requirement already satisfied: asgiref>=3.4.0 in /Users/christianklaus/.pyenv/versions/3.8.12/envs/lewagon/lib/python3.8/site-packages (from uvicorn->dispatcher==1.0) (3.4.1)\n",
      "Requirement already satisfied: aioitertools>=0.5.1 in /Users/christianklaus/.pyenv/versions/3.8.12/envs/lewagon/lib/python3.8/site-packages (from aiobotocore~=2.2.0->s3fs->dispatcher==1.0) (0.8.0)\n",
      "Requirement already satisfied: botocore<1.24.22,>=1.24.21 in /Users/christianklaus/.pyenv/versions/3.8.12/envs/lewagon/lib/python3.8/site-packages (from aiobotocore~=2.2.0->s3fs->dispatcher==1.0) (1.24.21)\n"
     ]
    },
    {
     "name": "stdout",
     "output_type": "stream",
     "text": [
      "Requirement already satisfied: async-timeout<5.0,>=4.0.0a3 in /Users/christianklaus/.pyenv/versions/3.8.12/envs/lewagon/lib/python3.8/site-packages (from aiohttp<4->gcsfs==2022.3.0->dispatcher==1.0) (4.0.2)\n",
      "Requirement already satisfied: aiosignal>=1.1.2 in /Users/christianklaus/.pyenv/versions/3.8.12/envs/lewagon/lib/python3.8/site-packages (from aiohttp<4->gcsfs==2022.3.0->dispatcher==1.0) (1.2.0)\n",
      "Requirement already satisfied: charset-normalizer<3.0,>=2.0 in /Users/christianklaus/.pyenv/versions/3.8.12/envs/lewagon/lib/python3.8/site-packages (from aiohttp<4->gcsfs==2022.3.0->dispatcher==1.0) (2.0.10)\n",
      "Requirement already satisfied: multidict<7.0,>=4.5 in /Users/christianklaus/.pyenv/versions/3.8.12/envs/lewagon/lib/python3.8/site-packages (from aiohttp<4->gcsfs==2022.3.0->dispatcher==1.0) (5.2.0)\n",
      "Requirement already satisfied: frozenlist>=1.1.1 in /Users/christianklaus/.pyenv/versions/3.8.12/envs/lewagon/lib/python3.8/site-packages (from aiohttp<4->gcsfs==2022.3.0->dispatcher==1.0) (1.2.0)\n",
      "Requirement already satisfied: yarl<2.0,>=1.0 in /Users/christianklaus/.pyenv/versions/3.8.12/envs/lewagon/lib/python3.8/site-packages (from aiohttp<4->gcsfs==2022.3.0->dispatcher==1.0) (1.7.2)\n",
      "Requirement already satisfied: tabulate>=0.7.7 in /Users/christianklaus/.pyenv/versions/3.8.12/envs/lewagon/lib/python3.8/site-packages (from databricks-cli>=0.8.7->mlflow->dispatcher==1.0) (0.8.9)\n",
      "Requirement already satisfied: websocket-client>=0.32.0 in /Users/christianklaus/.pyenv/versions/3.8.12/envs/lewagon/lib/python3.8/site-packages (from docker>=4.0.0->mlflow->dispatcher==1.0) (1.2.3)\n",
      "Requirement already satisfied: gitdb<5,>=4.0.1 in /Users/christianklaus/.pyenv/versions/3.8.12/envs/lewagon/lib/python3.8/site-packages (from gitpython>=2.1.0->mlflow->dispatcher==1.0) (4.0.9)\n",
      "Requirement already satisfied: googleapis-common-protos<2.0dev,>=1.52.0 in /Users/christianklaus/.pyenv/versions/3.8.12/envs/lewagon/lib/python3.8/site-packages (from google-api-core!=2.0.*,!=2.1.*,!=2.2.*,!=2.3.0,<3.0.0dev,>=1.31.5->google-cloud-storage==2.3.0->dispatcher==1.0) (1.54.0)\n",
      "Requirement already satisfied: rsa<5,>=3.1.4 in /Users/christianklaus/.pyenv/versions/3.8.12/envs/lewagon/lib/python3.8/site-packages (from google-auth>=1.2->gcsfs==2022.3.0->dispatcher==1.0) (4.8)\n",
      "Requirement already satisfied: cachetools<5.0,>=2.0.0 in /Users/christianklaus/.pyenv/versions/3.8.12/envs/lewagon/lib/python3.8/site-packages (from google-auth>=1.2->gcsfs==2022.3.0->dispatcher==1.0) (4.2.4)\n",
      "Requirement already satisfied: pyasn1-modules>=0.2.1 in /Users/christianklaus/.pyenv/versions/3.8.12/envs/lewagon/lib/python3.8/site-packages (from google-auth>=1.2->gcsfs==2022.3.0->dispatcher==1.0) (0.2.8)\n",
      "Requirement already satisfied: google-crc32c<2.0dev,>=1.0 in /Users/christianklaus/.pyenv/versions/3.8.12/envs/lewagon/lib/python3.8/site-packages (from google-resumable-media>=2.3.2->google-cloud-storage==2.3.0->dispatcher==1.0) (1.3.0)\n",
      "Requirement already satisfied: zipp>=0.5 in /Users/christianklaus/.pyenv/versions/3.8.12/envs/lewagon/lib/python3.8/site-packages (from importlib-metadata!=4.7.0,>=3.7.0->mlflow->dispatcher==1.0) (3.7.0)\n",
      "Requirement already satisfied: kiwisolver>=1.0.1 in /Users/christianklaus/.pyenv/versions/3.8.12/envs/lewagon/lib/python3.8/site-packages (from matplotlib>=3.0.0->mlxtend->dispatcher==1.0) (1.3.2)\n",
      "Requirement already satisfied: pyparsing>=2.2.1 in /Users/christianklaus/.pyenv/versions/3.8.12/envs/lewagon/lib/python3.8/site-packages (from matplotlib>=3.0.0->mlxtend->dispatcher==1.0) (3.0.6)\n",
      "Requirement already satisfied: fonttools>=4.22.0 in /Users/christianklaus/.pyenv/versions/3.8.12/envs/lewagon/lib/python3.8/site-packages (from matplotlib>=3.0.0->mlxtend->dispatcher==1.0) (4.28.5)\n",
      "Requirement already satisfied: pillow>=6.2.0 in /Users/christianklaus/.pyenv/versions/3.8.12/envs/lewagon/lib/python3.8/site-packages (from matplotlib>=3.0.0->mlxtend->dispatcher==1.0) (9.0.0)\n",
      "Requirement already satisfied: cycler>=0.10 in /Users/christianklaus/.pyenv/versions/3.8.12/envs/lewagon/lib/python3.8/site-packages (from matplotlib>=3.0.0->mlxtend->dispatcher==1.0) (0.11.0)\n",
      "Requirement already satisfied: bleach>=2.1.0 in /Users/christianklaus/.pyenv/versions/3.8.12/envs/lewagon/lib/python3.8/site-packages (from readme-renderer>=21.0->twine->dispatcher==1.0) (4.1.0)\n",
      "Requirement already satisfied: docutils>=0.13.1 in /Users/christianklaus/.pyenv/versions/3.8.12/envs/lewagon/lib/python3.8/site-packages (from readme-renderer>=21.0->twine->dispatcher==1.0) (0.18.1)\n",
      "Requirement already satisfied: Pygments>=2.5.1 in /Users/christianklaus/.pyenv/versions/3.8.12/envs/lewagon/lib/python3.8/site-packages (from readme-renderer>=21.0->twine->dispatcher==1.0) (2.11.2)\n",
      "Requirement already satisfied: idna<4,>=2.5 in /Users/christianklaus/.pyenv/versions/3.8.12/envs/lewagon/lib/python3.8/site-packages (from requests->gcsfs==2022.3.0->dispatcher==1.0) (3.3)\n",
      "Requirement already satisfied: certifi>=2017.4.17 in /Users/christianklaus/.pyenv/versions/3.8.12/envs/lewagon/lib/python3.8/site-packages (from requests->gcsfs==2022.3.0->dispatcher==1.0) (2021.10.8)\n",
      "Requirement already satisfied: commonmark<0.10.0,>=0.9.0 in /Users/christianklaus/.pyenv/versions/3.8.12/envs/lewagon/lib/python3.8/site-packages (from rich>=12.0.0->twine->dispatcher==1.0) (0.9.1)\n",
      "Requirement already satisfied: tensorboard-plugin-wit>=1.6.0 in /Users/christianklaus/.pyenv/versions/3.8.12/envs/lewagon/lib/python3.8/site-packages (from tensorboard<2.10,>=2.9->tensorflow==2.9.1->dispatcher==1.0) (1.8.1)\n",
      "Requirement already satisfied: werkzeug>=1.0.1 in /Users/christianklaus/.pyenv/versions/3.8.12/envs/lewagon/lib/python3.8/site-packages (from tensorboard<2.10,>=2.9->tensorflow==2.9.1->dispatcher==1.0) (2.0.2)\n",
      "Requirement already satisfied: markdown>=2.6.8 in /Users/christianklaus/.pyenv/versions/3.8.12/envs/lewagon/lib/python3.8/site-packages (from tensorboard<2.10,>=2.9->tensorflow==2.9.1->dispatcher==1.0) (3.3.6)\n",
      "Requirement already satisfied: tensorboard-data-server<0.7.0,>=0.6.0 in /Users/christianklaus/.pyenv/versions/3.8.12/envs/lewagon/lib/python3.8/site-packages (from tensorboard<2.10,>=2.9->tensorflow==2.9.1->dispatcher==1.0) (0.6.1)\n",
      "Requirement already satisfied: requests-oauthlib>=0.7.0 in /Users/christianklaus/.pyenv/versions/3.8.12/envs/lewagon/lib/python3.8/site-packages (from google-auth-oauthlib->gcsfs==2022.3.0->dispatcher==1.0) (1.3.0)\n",
      "Requirement already satisfied: Mako in /Users/christianklaus/.pyenv/versions/3.8.12/envs/lewagon/lib/python3.8/site-packages (from alembic->mlflow->dispatcher==1.0) (1.1.6)\n",
      "Requirement already satisfied: python-editor>=0.3 in /Users/christianklaus/.pyenv/versions/3.8.12/envs/lewagon/lib/python3.8/site-packages (from alembic->mlflow->dispatcher==1.0) (1.0.4)\n",
      "Requirement already satisfied: greenlet!=0.4.17 in /Users/christianklaus/.pyenv/versions/3.8.12/envs/lewagon/lib/python3.8/site-packages (from sqlalchemy->mlflow->dispatcher==1.0) (1.1.2)\n",
      "Requirement already satisfied: soupsieve>1.2 in /Users/christianklaus/.pyenv/versions/3.8.12/envs/lewagon/lib/python3.8/site-packages (from beautifulsoup4->google==3.0.0->dispatcher==1.0) (2.3.1)\n",
      "Requirement already satisfied: itsdangerous>=2.0 in /Users/christianklaus/.pyenv/versions/3.8.12/envs/lewagon/lib/python3.8/site-packages (from Flask->mlflow->dispatcher==1.0) (2.0.1)\n",
      "Requirement already satisfied: Jinja2>=3.0 in /Users/christianklaus/.pyenv/versions/3.8.12/envs/lewagon/lib/python3.8/site-packages (from Flask->mlflow->dispatcher==1.0) (3.0.3)\n",
      "Requirement already satisfied: prometheus-client in /Users/christianklaus/.pyenv/versions/3.8.12/envs/lewagon/lib/python3.8/site-packages (from prometheus-flask-exporter->mlflow->dispatcher==1.0) (0.12.0)\n",
      "Requirement already satisfied: sniffio>=1.1 in /Users/christianklaus/.pyenv/versions/3.8.12/envs/lewagon/lib/python3.8/site-packages (from anyio<4,>=3.0.0->starlette==0.16.0->fastapi->dispatcher==1.0) (1.2.0)\n",
      "Requirement already satisfied: webencodings in /Users/christianklaus/.pyenv/versions/3.8.12/envs/lewagon/lib/python3.8/site-packages (from bleach>=2.1.0->readme-renderer>=21.0->twine->dispatcher==1.0) (0.5.1)\n",
      "Requirement already satisfied: jmespath<2.0.0,>=0.7.1 in /Users/christianklaus/.pyenv/versions/3.8.12/envs/lewagon/lib/python3.8/site-packages (from botocore<1.24.22,>=1.24.21->aiobotocore~=2.2.0->s3fs->dispatcher==1.0) (0.10.0)\n"
     ]
    },
    {
     "name": "stdout",
     "output_type": "stream",
     "text": [
      "Requirement already satisfied: smmap<6,>=3.0.1 in /Users/christianklaus/.pyenv/versions/3.8.12/envs/lewagon/lib/python3.8/site-packages (from gitdb<5,>=4.0.1->gitpython>=2.1.0->mlflow->dispatcher==1.0) (5.0.0)\n",
      "Requirement already satisfied: MarkupSafe>=2.0 in /Users/christianklaus/.pyenv/versions/3.8.12/envs/lewagon/lib/python3.8/site-packages (from Jinja2>=3.0->Flask->mlflow->dispatcher==1.0) (2.0.1)\n",
      "Requirement already satisfied: pyasn1<0.5.0,>=0.4.6 in /Users/christianklaus/.pyenv/versions/3.8.12/envs/lewagon/lib/python3.8/site-packages (from pyasn1-modules>=0.2.1->google-auth>=1.2->gcsfs==2022.3.0->dispatcher==1.0) (0.4.8)\n",
      "Requirement already satisfied: oauthlib>=3.0.0 in /Users/christianklaus/.pyenv/versions/3.8.12/envs/lewagon/lib/python3.8/site-packages (from requests-oauthlib>=0.7.0->google-auth-oauthlib->gcsfs==2022.3.0->dispatcher==1.0) (3.1.1)\n",
      "Installing collected packages: dispatcher\n",
      "  Attempting uninstall: dispatcher\n",
      "    Found existing installation: dispatcher 1.0\n",
      "    Uninstalling dispatcher-1.0:\n",
      "      Successfully uninstalled dispatcher-1.0\n",
      "  Running setup.py develop for dispatcher\n",
      "Successfully installed dispatcher-1.0\n",
      "\u001b[33mWARNING: You are using pip version 22.0.4; however, version 22.2.2 is available.\n",
      "You should consider upgrading via the '/Users/christianklaus/.pyenv/versions/3.8.12/envs/lewagon/bin/python3.8 -m pip install --upgrade pip' command.\u001b[0m\u001b[33m\n",
      "\u001b[0m"
     ]
    }
   ],
   "source": [
    "!pip install -e ../."
   ]
  },
  {
   "cell_type": "code",
   "execution_count": 3,
   "id": "1cc35fc4",
   "metadata": {},
   "outputs": [],
   "source": [
    "import matplotlib.pyplot as plt\n",
    "plt.style.use(['dark_background'])\n",
    "import seaborn as sns\n",
    "plt.style.use(\"dark_background\")\n",
    "import pandas as pd\n",
    "import numpy as np\n",
    "import seaborn as sns\n",
    "import matplotlib.pyplot as plt\n",
    "from sklearn.preprocessing import OneHotEncoder\n",
    "\n",
    "import datetime"
   ]
  },
  {
   "cell_type": "code",
   "execution_count": 4,
   "id": "75f6857c",
   "metadata": {},
   "outputs": [],
   "source": [
    "from dispatcher.data.data import RawData\n",
    "from dispatcher.data.data import save_clean_shipment_data\n",
    "from dispatcher.data.ticket import Ticket\n",
    "from dispatcher.data.shipment import Shipment"
   ]
  },
  {
   "cell_type": "markdown",
   "id": "42f11bc9",
   "metadata": {},
   "source": [
    "## Loading"
   ]
  },
  {
   "cell_type": "markdown",
   "id": "a79cf29c",
   "metadata": {},
   "source": [
    "Let's load the `shipment` table using the `get_table_data` method from the `RawData` class. Param `clean` set to False, as we want to look at the raw data.\n",
    "\n",
    "The data schema with all the tables:\n",
    "![Data Schema](data_schema.png \"Data Schema\")\n"
   ]
  },
  {
   "cell_type": "markdown",
   "id": "38f2eff8",
   "metadata": {},
   "source": [
    "We want to use features from the tables `shipment`, `ticket`, and `ticket_type` to construct our target. The index of the final table should be the `SHIPMENT_ID`, as we want to analyze on shipment-level."
   ]
  },
  {
   "cell_type": "code",
   "execution_count": 5,
   "id": "e87bb9fa",
   "metadata": {},
   "outputs": [
    {
     "name": "stderr",
     "output_type": "stream",
     "text": [
      "/var/folders/_7/bhnzdc191yv6brswc0vzw5sr0000gn/T/ipykernel_21973/2084993844.py:1: DtypeWarning: Columns (4,12,22,24,26) have mixed types.Specify dtype option on import or set low_memory=False.\n",
      "  shipment = RawData.get_table_data('shipment', clean=False)\n"
     ]
    },
    {
     "data": {
      "text/html": [
       "<div>\n",
       "<style scoped>\n",
       "    .dataframe tbody tr th:only-of-type {\n",
       "        vertical-align: middle;\n",
       "    }\n",
       "\n",
       "    .dataframe tbody tr th {\n",
       "        vertical-align: top;\n",
       "    }\n",
       "\n",
       "    .dataframe thead th {\n",
       "        text-align: right;\n",
       "    }\n",
       "</style>\n",
       "<table border=\"1\" class=\"dataframe\">\n",
       "  <thead>\n",
       "    <tr style=\"text-align: right;\">\n",
       "      <th></th>\n",
       "      <th>ID</th>\n",
       "      <th>CARRIER_ID</th>\n",
       "      <th>SHOP_ID</th>\n",
       "      <th>CUSTOMER_ADDRESS_COUNTRY_ID</th>\n",
       "      <th>CUSTOMER_ADDRESS_ZIP_CODE</th>\n",
       "      <th>CARRIER_SERVICE</th>\n",
       "      <th>RETURN_PARCEL</th>\n",
       "      <th>PICKUP_POINT_SELECTED</th>\n",
       "      <th>WEIGHT</th>\n",
       "      <th>PLANNED_PICKUP_TIMESTAMP</th>\n",
       "      <th>...</th>\n",
       "      <th>RELATION_ID</th>\n",
       "      <th>RELATION_DISTANCE</th>\n",
       "      <th>RELATION_FREQUENCY</th>\n",
       "      <th>LOGISTICAL_DETAILS</th>\n",
       "      <th>RELATION_SEVEN_SENDERS_TRANSPORT_MODE</th>\n",
       "      <th>TMS_RELATION_TYPE</th>\n",
       "      <th>ORIGIN_ZIP_CODE</th>\n",
       "      <th>ORIGIN_COUNTRY</th>\n",
       "      <th>DESTINATION_ZIP_CODE</th>\n",
       "      <th>DESTINATION_COUNTRY</th>\n",
       "    </tr>\n",
       "  </thead>\n",
       "  <tbody>\n",
       "    <tr>\n",
       "      <th>0</th>\n",
       "      <td>169412848</td>\n",
       "      <td>2</td>\n",
       "      <td>405</td>\n",
       "      <td>216</td>\n",
       "      <td>8400</td>\n",
       "      <td>standard</td>\n",
       "      <td>0</td>\n",
       "      <td>0</td>\n",
       "      <td>6.2</td>\n",
       "      <td>2022-03-04 17:26:56.000</td>\n",
       "      <td>...</td>\n",
       "      <td>323</td>\n",
       "      <td>284.537697</td>\n",
       "      <td>5.0</td>\n",
       "      <td>Handover of parcels on one-way pallets: (1,20m...</td>\n",
       "      <td>NaN</td>\n",
       "      <td>outbound</td>\n",
       "      <td>96138</td>\n",
       "      <td>DE</td>\n",
       "      <td>9000</td>\n",
       "      <td>CH</td>\n",
       "    </tr>\n",
       "    <tr>\n",
       "      <th>1</th>\n",
       "      <td>169265841</td>\n",
       "      <td>2</td>\n",
       "      <td>405</td>\n",
       "      <td>216</td>\n",
       "      <td>1015</td>\n",
       "      <td>standard</td>\n",
       "      <td>0</td>\n",
       "      <td>0</td>\n",
       "      <td>26.3</td>\n",
       "      <td>2022-03-03 19:23:57.000</td>\n",
       "      <td>...</td>\n",
       "      <td>323</td>\n",
       "      <td>284.537697</td>\n",
       "      <td>5.0</td>\n",
       "      <td>Handover of parcels on one-way pallets: (1,20m...</td>\n",
       "      <td>NaN</td>\n",
       "      <td>outbound</td>\n",
       "      <td>96138</td>\n",
       "      <td>DE</td>\n",
       "      <td>9000</td>\n",
       "      <td>CH</td>\n",
       "    </tr>\n",
       "    <tr>\n",
       "      <th>2</th>\n",
       "      <td>170520112</td>\n",
       "      <td>2</td>\n",
       "      <td>405</td>\n",
       "      <td>216</td>\n",
       "      <td>6153</td>\n",
       "      <td>standard</td>\n",
       "      <td>0</td>\n",
       "      <td>0</td>\n",
       "      <td>8.4</td>\n",
       "      <td>2022-03-11 15:43:42.000</td>\n",
       "      <td>...</td>\n",
       "      <td>323</td>\n",
       "      <td>284.537697</td>\n",
       "      <td>5.0</td>\n",
       "      <td>Handover of parcels on one-way pallets: (1,20m...</td>\n",
       "      <td>NaN</td>\n",
       "      <td>outbound</td>\n",
       "      <td>96138</td>\n",
       "      <td>DE</td>\n",
       "      <td>9000</td>\n",
       "      <td>CH</td>\n",
       "    </tr>\n",
       "  </tbody>\n",
       "</table>\n",
       "<p>3 rows × 28 columns</p>\n",
       "</div>"
      ],
      "text/plain": [
       "          ID  CARRIER_ID  SHOP_ID  CUSTOMER_ADDRESS_COUNTRY_ID  \\\n",
       "0  169412848           2      405                          216   \n",
       "1  169265841           2      405                          216   \n",
       "2  170520112           2      405                          216   \n",
       "\n",
       "  CUSTOMER_ADDRESS_ZIP_CODE CARRIER_SERVICE  RETURN_PARCEL  \\\n",
       "0                      8400        standard              0   \n",
       "1                      1015        standard              0   \n",
       "2                      6153        standard              0   \n",
       "\n",
       "   PICKUP_POINT_SELECTED  WEIGHT PLANNED_PICKUP_TIMESTAMP  ... RELATION_ID  \\\n",
       "0                      0     6.2  2022-03-04 17:26:56.000  ...         323   \n",
       "1                      0    26.3  2022-03-03 19:23:57.000  ...         323   \n",
       "2                      0     8.4  2022-03-11 15:43:42.000  ...         323   \n",
       "\n",
       "   RELATION_DISTANCE RELATION_FREQUENCY  \\\n",
       "0         284.537697                5.0   \n",
       "1         284.537697                5.0   \n",
       "2         284.537697                5.0   \n",
       "\n",
       "                                  LOGISTICAL_DETAILS  \\\n",
       "0  Handover of parcels on one-way pallets: (1,20m...   \n",
       "1  Handover of parcels on one-way pallets: (1,20m...   \n",
       "2  Handover of parcels on one-way pallets: (1,20m...   \n",
       "\n",
       "   RELATION_SEVEN_SENDERS_TRANSPORT_MODE  TMS_RELATION_TYPE  ORIGIN_ZIP_CODE  \\\n",
       "0                                    NaN           outbound            96138   \n",
       "1                                    NaN           outbound            96138   \n",
       "2                                    NaN           outbound            96138   \n",
       "\n",
       "  ORIGIN_COUNTRY  DESTINATION_ZIP_CODE  DESTINATION_COUNTRY  \n",
       "0             DE                  9000                   CH  \n",
       "1             DE                  9000                   CH  \n",
       "2             DE                  9000                   CH  \n",
       "\n",
       "[3 rows x 28 columns]"
      ]
     },
     "execution_count": 5,
     "metadata": {},
     "output_type": "execute_result"
    }
   ],
   "source": [
    "shipment = RawData.get_table_data('shipment', clean=False)\n",
    "shipment.head(3)"
   ]
  },
  {
   "cell_type": "code",
   "execution_count": 6,
   "id": "3e1b3b1e",
   "metadata": {},
   "outputs": [
    {
     "data": {
      "text/plain": [
       "Index(['ID', 'CARRIER_ID', 'SHOP_ID', 'CUSTOMER_ADDRESS_COUNTRY_ID',\n",
       "       'CUSTOMER_ADDRESS_ZIP_CODE', 'CARRIER_SERVICE', 'RETURN_PARCEL',\n",
       "       'PICKUP_POINT_SELECTED', 'WEIGHT', 'PLANNED_PICKUP_TIMESTAMP',\n",
       "       'CREATED_AT', 'SHIPMENT_STATUS_ID', 'WAREHOUSE_ADDRESS', 'WAREHOUSE_ID',\n",
       "       'ORDER_ID', 'SLA_DAYS', 'TRACKABLE', 'SEVEN_SENDERS_TAG', 'RELATION_ID',\n",
       "       'RELATION_DISTANCE', 'RELATION_FREQUENCY', 'LOGISTICAL_DETAILS',\n",
       "       'RELATION_SEVEN_SENDERS_TRANSPORT_MODE', 'TMS_RELATION_TYPE',\n",
       "       'ORIGIN_ZIP_CODE', 'ORIGIN_COUNTRY', 'DESTINATION_ZIP_CODE',\n",
       "       'DESTINATION_COUNTRY'],\n",
       "      dtype='object')"
      ]
     },
     "execution_count": 6,
     "metadata": {},
     "output_type": "execute_result"
    }
   ],
   "source": [
    "shipment.keys()"
   ]
  },
  {
   "cell_type": "markdown",
   "id": "74a671ce",
   "metadata": {},
   "source": [
    "Let's throw out columns which are not potentially useful for predicting the time of transport."
   ]
  },
  {
   "cell_type": "code",
   "execution_count": 7,
   "id": "17d95312",
   "metadata": {},
   "outputs": [],
   "source": [
    "shipment = shipment[['ID', 'CARRIER_ID', 'SHOP_ID', 'CUSTOMER_ADDRESS_COUNTRY_ID',\n",
    "       'CUSTOMER_ADDRESS_ZIP_CODE', 'RETURN_PARCEL', 'PLANNED_PICKUP_TIMESTAMP',\n",
    "       'CREATED_AT', 'WAREHOUSE_ID',\n",
    "       'ORDER_ID', 'SLA_DAYS', 'TRACKABLE', 'RELATION_ID', 'RELATION_DISTANCE',\n",
    "       'ORIGIN_ZIP_CODE', 'ORIGIN_COUNTRY', 'DESTINATION_ZIP_CODE',\n",
    "       'DESTINATION_COUNTRY']]"
   ]
  },
  {
   "cell_type": "markdown",
   "id": "29128cbf",
   "metadata": {},
   "source": [
    "Most important feature here is the `CREATED_AT` timestamp which we will use with features from other tables to calculate the target."
   ]
  },
  {
   "cell_type": "markdown",
   "id": "30d2b6a2",
   "metadata": {},
   "source": [
    "Same procedure goes for the `ticket` table:"
   ]
  },
  {
   "cell_type": "code",
   "execution_count": 8,
   "id": "390059e5",
   "metadata": {},
   "outputs": [
    {
     "data": {
      "text/html": [
       "<div>\n",
       "<style scoped>\n",
       "    .dataframe tbody tr th:only-of-type {\n",
       "        vertical-align: middle;\n",
       "    }\n",
       "\n",
       "    .dataframe tbody tr th {\n",
       "        vertical-align: top;\n",
       "    }\n",
       "\n",
       "    .dataframe thead th {\n",
       "        text-align: right;\n",
       "    }\n",
       "</style>\n",
       "<table border=\"1\" class=\"dataframe\">\n",
       "  <thead>\n",
       "    <tr style=\"text-align: right;\">\n",
       "      <th></th>\n",
       "      <th>ID</th>\n",
       "      <th>SHIPMENT_ID</th>\n",
       "      <th>STATUS_ID</th>\n",
       "      <th>NOTES</th>\n",
       "      <th>TYPE_ID</th>\n",
       "      <th>CREATEDAT</th>\n",
       "      <th>SHIPMENT_TIMELINE_ID</th>\n",
       "      <th>STATUS</th>\n",
       "      <th>RECORD_UPDATED_AT</th>\n",
       "      <th>ORDER_ID</th>\n",
       "      <th>SHOP_ID</th>\n",
       "      <th>TIME</th>\n",
       "    </tr>\n",
       "  </thead>\n",
       "  <tbody>\n",
       "    <tr>\n",
       "      <th>0</th>\n",
       "      <td>1991335581</td>\n",
       "      <td>170551890.0</td>\n",
       "      <td>NaN</td>\n",
       "      <td>NaN</td>\n",
       "      <td>38</td>\n",
       "      <td>2022-05-13 05:31:35.000</td>\n",
       "      <td>994191806.0</td>\n",
       "      <td>new</td>\n",
       "      <td>2022-05-13 05:31:35.000</td>\n",
       "      <td>NaN</td>\n",
       "      <td>196</td>\n",
       "      <td>2022-03-15 10:45:00.000</td>\n",
       "    </tr>\n",
       "    <tr>\n",
       "      <th>1</th>\n",
       "      <td>1991335583</td>\n",
       "      <td>170551890.0</td>\n",
       "      <td>NaN</td>\n",
       "      <td>NaN</td>\n",
       "      <td>33</td>\n",
       "      <td>2022-05-13 05:31:35.000</td>\n",
       "      <td>994191806.0</td>\n",
       "      <td>new</td>\n",
       "      <td>2022-05-13 05:31:35.000</td>\n",
       "      <td>NaN</td>\n",
       "      <td>196</td>\n",
       "      <td>2022-03-15 10:45:00.000</td>\n",
       "    </tr>\n",
       "    <tr>\n",
       "      <th>2</th>\n",
       "      <td>1991335585</td>\n",
       "      <td>171118033.0</td>\n",
       "      <td>NaN</td>\n",
       "      <td>NaN</td>\n",
       "      <td>38</td>\n",
       "      <td>2022-05-13 05:31:36.000</td>\n",
       "      <td>994191808.0</td>\n",
       "      <td>new</td>\n",
       "      <td>2022-05-13 05:31:36.000</td>\n",
       "      <td>NaN</td>\n",
       "      <td>196</td>\n",
       "      <td>2022-03-18 10:32:00.000</td>\n",
       "    </tr>\n",
       "  </tbody>\n",
       "</table>\n",
       "</div>"
      ],
      "text/plain": [
       "           ID  SHIPMENT_ID  STATUS_ID  NOTES  TYPE_ID  \\\n",
       "0  1991335581  170551890.0        NaN    NaN       38   \n",
       "1  1991335583  170551890.0        NaN    NaN       33   \n",
       "2  1991335585  171118033.0        NaN    NaN       38   \n",
       "\n",
       "                 CREATEDAT  SHIPMENT_TIMELINE_ID STATUS  \\\n",
       "0  2022-05-13 05:31:35.000           994191806.0    new   \n",
       "1  2022-05-13 05:31:35.000           994191806.0    new   \n",
       "2  2022-05-13 05:31:36.000           994191808.0    new   \n",
       "\n",
       "         RECORD_UPDATED_AT  ORDER_ID  SHOP_ID                     TIME  \n",
       "0  2022-05-13 05:31:35.000       NaN      196  2022-03-15 10:45:00.000  \n",
       "1  2022-05-13 05:31:35.000       NaN      196  2022-03-15 10:45:00.000  \n",
       "2  2022-05-13 05:31:36.000       NaN      196  2022-03-18 10:32:00.000  "
      ]
     },
     "execution_count": 8,
     "metadata": {},
     "output_type": "execute_result"
    }
   ],
   "source": [
    "ticket = RawData.get_table_data('ticket', clean=False)\n",
    "ticket.head(3)"
   ]
  },
  {
   "cell_type": "code",
   "execution_count": 9,
   "id": "99e9f2e8",
   "metadata": {},
   "outputs": [],
   "source": [
    "ticket = ticket[['ID', 'SHIPMENT_ID', 'TYPE_ID',\n",
    "       'ORDER_ID',\n",
    "       'TIME']]"
   ]
  },
  {
   "cell_type": "markdown",
   "id": "328ec818",
   "metadata": {},
   "source": [
    "Now we'll do the loading and selecting for the `ticket_type` table, from which we are only going to use the `NAME` column, which describes the type of the ticket in one or two words."
   ]
  },
  {
   "cell_type": "code",
   "execution_count": 10,
   "id": "f59e730a",
   "metadata": {},
   "outputs": [
    {
     "data": {
      "text/html": [
       "<div>\n",
       "<style scoped>\n",
       "    .dataframe tbody tr th:only-of-type {\n",
       "        vertical-align: middle;\n",
       "    }\n",
       "\n",
       "    .dataframe tbody tr th {\n",
       "        vertical-align: top;\n",
       "    }\n",
       "\n",
       "    .dataframe thead th {\n",
       "        text-align: right;\n",
       "    }\n",
       "</style>\n",
       "<table border=\"1\" class=\"dataframe\">\n",
       "  <thead>\n",
       "    <tr style=\"text-align: right;\">\n",
       "      <th></th>\n",
       "      <th>ID</th>\n",
       "      <th>NAME</th>\n",
       "      <th>DESCRIPTION</th>\n",
       "      <th>CREATEDAT</th>\n",
       "      <th>EVENT_NAME</th>\n",
       "      <th>LEVEL</th>\n",
       "      <th>MEANING</th>\n",
       "      <th>LIMIT_OCCURRENCES</th>\n",
       "      <th>PARENT_ID</th>\n",
       "      <th>SEQUENCE_NUMBER</th>\n",
       "      <th>IS_CUSTOM</th>\n",
       "      <th>RECORD_UPDATED_AT</th>\n",
       "      <th>TRACKABLE</th>\n",
       "      <th>ACTIVE</th>\n",
       "    </tr>\n",
       "  </thead>\n",
       "  <tbody>\n",
       "    <tr>\n",
       "      <th>0</th>\n",
       "      <td>1</td>\n",
       "      <td>Carded</td>\n",
       "      <td>Customer received a notification card inside h...</td>\n",
       "      <td>NaN</td>\n",
       "      <td>NaN</td>\n",
       "      <td>shipment</td>\n",
       "      <td>good</td>\n",
       "      <td>1</td>\n",
       "      <td>NaN</td>\n",
       "      <td>NaN</td>\n",
       "      <td>0</td>\n",
       "      <td>2018-07-31 09:08:05.000</td>\n",
       "      <td>1</td>\n",
       "      <td>1</td>\n",
       "    </tr>\n",
       "    <tr>\n",
       "      <th>1</th>\n",
       "      <td>2</td>\n",
       "      <td>Wrong address</td>\n",
       "      <td>Consignee address not correct. Please contact ...</td>\n",
       "      <td>NaN</td>\n",
       "      <td>NaN</td>\n",
       "      <td>shipment</td>\n",
       "      <td>really_bad</td>\n",
       "      <td>-1</td>\n",
       "      <td>NaN</td>\n",
       "      <td>NaN</td>\n",
       "      <td>0</td>\n",
       "      <td>2018-07-31 09:08:05.000</td>\n",
       "      <td>1</td>\n",
       "      <td>1</td>\n",
       "    </tr>\n",
       "    <tr>\n",
       "      <th>2</th>\n",
       "      <td>3</td>\n",
       "      <td>Light damage</td>\n",
       "      <td>Shipment was damaged but is still on the way t...</td>\n",
       "      <td>NaN</td>\n",
       "      <td>NaN</td>\n",
       "      <td>shipment</td>\n",
       "      <td>bad</td>\n",
       "      <td>-1</td>\n",
       "      <td>NaN</td>\n",
       "      <td>NaN</td>\n",
       "      <td>0</td>\n",
       "      <td>2018-07-31 09:08:05.000</td>\n",
       "      <td>1</td>\n",
       "      <td>1</td>\n",
       "    </tr>\n",
       "  </tbody>\n",
       "</table>\n",
       "</div>"
      ],
      "text/plain": [
       "   ID           NAME                                        DESCRIPTION  \\\n",
       "0   1         Carded  Customer received a notification card inside h...   \n",
       "1   2  Wrong address  Consignee address not correct. Please contact ...   \n",
       "2   3   Light damage  Shipment was damaged but is still on the way t...   \n",
       "\n",
       "  CREATEDAT EVENT_NAME     LEVEL     MEANING  LIMIT_OCCURRENCES  PARENT_ID  \\\n",
       "0       NaN        NaN  shipment        good                  1        NaN   \n",
       "1       NaN        NaN  shipment  really_bad                 -1        NaN   \n",
       "2       NaN        NaN  shipment         bad                 -1        NaN   \n",
       "\n",
       "   SEQUENCE_NUMBER  IS_CUSTOM        RECORD_UPDATED_AT  TRACKABLE  ACTIVE  \n",
       "0              NaN          0  2018-07-31 09:08:05.000          1       1  \n",
       "1              NaN          0  2018-07-31 09:08:05.000          1       1  \n",
       "2              NaN          0  2018-07-31 09:08:05.000          1       1  "
      ]
     },
     "execution_count": 10,
     "metadata": {},
     "output_type": "execute_result"
    }
   ],
   "source": [
    "ticket_type = RawData.get_table_data('ticket_type', clean=False)\n",
    "ticket_type.head(3)"
   ]
  },
  {
   "cell_type": "code",
   "execution_count": 11,
   "id": "213f86f9",
   "metadata": {},
   "outputs": [],
   "source": [
    "ticket_type = ticket_type[['ID', 'NAME']]"
   ]
  },
  {
   "cell_type": "markdown",
   "id": "b125b56b",
   "metadata": {},
   "source": [
    "## Merging and Feature Creation"
   ]
  },
  {
   "cell_type": "markdown",
   "id": "cb5580ad",
   "metadata": {},
   "source": [
    "Let's first merge the tables `ticket` and `ticket_type`:"
   ]
  },
  {
   "cell_type": "code",
   "execution_count": 12,
   "id": "1638a915",
   "metadata": {},
   "outputs": [],
   "source": [
    "ticket = ticket.merge(ticket_type, how='left', left_on='TYPE_ID', right_on='ID')"
   ]
  },
  {
   "cell_type": "markdown",
   "id": "dabe397f",
   "metadata": {},
   "source": [
    "Next we'll have a look at the rows with `TICKET_ID` = 17, which is first hub scan (FHS). We want to create a new feature with the timestamp of the FHS. \n",
    "\n",
    "To achieve this, we'll have to do a little workaround, because we want to have the timestamp for every `SHIPMENT_ID` (row) of the final DataFrame. If we would directly write it in the `ticket` table und directly merge with the `shipment` table, all the rows with different `TYPE_ID` would stay empty. That's why we'll use two temporary DataFrames."
   ]
  },
  {
   "cell_type": "markdown",
   "id": "886a6f22",
   "metadata": {},
   "source": [
    " We'll create a new feature out of the timestamp of the FHS and save it into the temporary DataFrame `tmp`."
   ]
  },
  {
   "cell_type": "code",
   "execution_count": 13,
   "id": "b6635074",
   "metadata": {},
   "outputs": [],
   "source": [
    "ticket['FHS'] = ticket.loc[ticket[\"TYPE_ID\"] == 17]['TIME']"
   ]
  },
  {
   "cell_type": "code",
   "execution_count": 14,
   "id": "4b17d620",
   "metadata": {},
   "outputs": [],
   "source": [
    "tmp = ticket[['SHIPMENT_ID', 'FHS']]"
   ]
  },
  {
   "cell_type": "code",
   "execution_count": 15,
   "id": "94a05efc",
   "metadata": {},
   "outputs": [],
   "source": [
    "ticket = ticket.drop(columns=\"FHS\")"
   ]
  },
  {
   "cell_type": "markdown",
   "id": "d3028263",
   "metadata": {},
   "source": [
    "We'll drop NAs for this temporary DataFrame. This way we can make sure to have only one row per ticket in the DataFrame, which includes the timestamp FHS.\n",
    "\n",
    "*Note: A prerequisite for this to work is the fact, that every shipment has an FHS.*"
   ]
  },
  {
   "cell_type": "code",
   "execution_count": 16,
   "id": "f0301f1d",
   "metadata": {},
   "outputs": [],
   "source": [
    "tmp = tmp.dropna(subset=['FHS'])"
   ]
  },
  {
   "cell_type": "markdown",
   "id": "20f298cb",
   "metadata": {},
   "source": [
    "This DataFrame only contains the ticket rows where the FHS was happening."
   ]
  },
  {
   "cell_type": "markdown",
   "id": "55ef36fd",
   "metadata": {},
   "source": [
    "Now we will also create a new feature with the timestamp of `SHIPMENT_CREATED`, save it into `tmp2` and drop NAs. Just like above for the FHS."
   ]
  },
  {
   "cell_type": "code",
   "execution_count": 17,
   "id": "5b9a9e23",
   "metadata": {},
   "outputs": [],
   "source": [
    "ticket['SHIPMENT_CREATED'] = ticket.loc[ticket[\"NAME\"] == 'Shipment created']['TIME']"
   ]
  },
  {
   "cell_type": "code",
   "execution_count": 18,
   "id": "5fbdb3bf",
   "metadata": {},
   "outputs": [],
   "source": [
    "tmp2 = ticket[['SHIPMENT_ID', 'SHIPMENT_CREATED']]"
   ]
  },
  {
   "cell_type": "code",
   "execution_count": 19,
   "id": "8661e893",
   "metadata": {},
   "outputs": [],
   "source": [
    "ticket = ticket.drop(columns=\"SHIPMENT_CREATED\")"
   ]
  },
  {
   "cell_type": "code",
   "execution_count": 20,
   "id": "736990d2",
   "metadata": {},
   "outputs": [],
   "source": [
    "tmp2 = tmp2.dropna(subset=['SHIPMENT_CREATED'])"
   ]
  },
  {
   "cell_type": "markdown",
   "id": "af08437a",
   "metadata": {},
   "source": [
    "This DataFrame only contains the ticket rows where the shipment was created."
   ]
  },
  {
   "cell_type": "markdown",
   "id": "4f37ae6c",
   "metadata": {},
   "source": [
    "Now let's merge the `shipment` and `ticket` tables:"
   ]
  },
  {
   "cell_type": "code",
   "execution_count": 21,
   "id": "df0513ba",
   "metadata": {},
   "outputs": [],
   "source": [
    "shipment_ticket = shipment.merge(ticket, how='left', left_on='ID', right_on='SHIPMENT_ID')"
   ]
  },
  {
   "cell_type": "code",
   "execution_count": 22,
   "id": "339dfd05",
   "metadata": {},
   "outputs": [
    {
     "data": {
      "text/plain": [
       "ID                               0.000000\n",
       "CARRIER_ID                       0.000000\n",
       "SHOP_ID                          0.000000\n",
       "CUSTOMER_ADDRESS_COUNTRY_ID      0.000000\n",
       "CUSTOMER_ADDRESS_ZIP_CODE        0.000407\n",
       "RETURN_PARCEL                    0.000000\n",
       "PLANNED_PICKUP_TIMESTAMP         0.000000\n",
       "CREATED_AT                       0.000000\n",
       "WAREHOUSE_ID                     0.000000\n",
       "ORDER_ID_x                       0.000000\n",
       "SLA_DAYS                        63.034354\n",
       "TRACKABLE                        0.000000\n",
       "RELATION_ID                      0.000000\n",
       "RELATION_DISTANCE                7.059264\n",
       "ORIGIN_ZIP_CODE                  6.131718\n",
       "ORIGIN_COUNTRY                   6.131718\n",
       "DESTINATION_ZIP_CODE             7.059264\n",
       "DESTINATION_COUNTRY              7.059264\n",
       "ID_x                             0.010056\n",
       "SHIPMENT_ID                      0.010056\n",
       "TYPE_ID                          0.010056\n",
       "ORDER_ID_y                     100.000000\n",
       "TIME                             0.010056\n",
       "ID_y                             0.010056\n",
       "NAME                             0.010056\n",
       "dtype: float64"
      ]
     },
     "execution_count": 22,
     "metadata": {},
     "output_type": "execute_result"
    }
   ],
   "source": [
    "shipment_ticket.isnull().sum() * 100 / len(shipment_ticket)"
   ]
  },
  {
   "cell_type": "markdown",
   "id": "b27c374d",
   "metadata": {},
   "source": [
    "Let's drop the columns with a lot of missing values and the columns with `_y` and `_x`, which are fragments from the merge:"
   ]
  },
  {
   "cell_type": "code",
   "execution_count": 23,
   "id": "04369b67",
   "metadata": {},
   "outputs": [],
   "source": [
    "shipment_ticket = shipment_ticket.drop(columns=['SLA_DAYS', 'ORDER_ID_y', 'ID_y', 'ID_x', 'ORDER_ID_x'])"
   ]
  },
  {
   "cell_type": "markdown",
   "id": "486707ef",
   "metadata": {},
   "source": [
    "Now we want to merge with the two temporary DataFrames, to get the two new features `FHS` and `SHIPMENT_CREATED` into our main DataFrame."
   ]
  },
  {
   "cell_type": "code",
   "execution_count": 24,
   "id": "a0f8f1a5",
   "metadata": {},
   "outputs": [],
   "source": [
    "shipment_ticket = shipment_ticket.merge(tmp, how='left', left_on='ID', right_on='SHIPMENT_ID')"
   ]
  },
  {
   "cell_type": "code",
   "execution_count": 25,
   "id": "04e0a935",
   "metadata": {},
   "outputs": [],
   "source": [
    "shipment_ticket = shipment_ticket.merge(tmp2, how='left', left_on='ID', right_on='SHIPMENT_ID')"
   ]
  },
  {
   "cell_type": "markdown",
   "id": "725f0575",
   "metadata": {},
   "source": [
    "Again let's drop the columns with `_y` and `_x`, which are fragments from the merge:"
   ]
  },
  {
   "cell_type": "code",
   "execution_count": 26,
   "id": "6192be1e",
   "metadata": {},
   "outputs": [],
   "source": [
    "shipment_ticket = shipment_ticket.drop(columns=['SHIPMENT_ID', 'SHIPMENT_ID_x', 'SHIPMENT_ID_y'])"
   ]
  },
  {
   "cell_type": "code",
   "execution_count": 27,
   "id": "486e7211",
   "metadata": {},
   "outputs": [
    {
     "data": {
      "text/html": [
       "<div>\n",
       "<style scoped>\n",
       "    .dataframe tbody tr th:only-of-type {\n",
       "        vertical-align: middle;\n",
       "    }\n",
       "\n",
       "    .dataframe tbody tr th {\n",
       "        vertical-align: top;\n",
       "    }\n",
       "\n",
       "    .dataframe thead th {\n",
       "        text-align: right;\n",
       "    }\n",
       "</style>\n",
       "<table border=\"1\" class=\"dataframe\">\n",
       "  <thead>\n",
       "    <tr style=\"text-align: right;\">\n",
       "      <th></th>\n",
       "      <th>ID</th>\n",
       "      <th>CARRIER_ID</th>\n",
       "      <th>SHOP_ID</th>\n",
       "      <th>CUSTOMER_ADDRESS_COUNTRY_ID</th>\n",
       "      <th>CUSTOMER_ADDRESS_ZIP_CODE</th>\n",
       "      <th>RETURN_PARCEL</th>\n",
       "      <th>PLANNED_PICKUP_TIMESTAMP</th>\n",
       "      <th>CREATED_AT</th>\n",
       "      <th>WAREHOUSE_ID</th>\n",
       "      <th>TRACKABLE</th>\n",
       "      <th>...</th>\n",
       "      <th>RELATION_DISTANCE</th>\n",
       "      <th>ORIGIN_ZIP_CODE</th>\n",
       "      <th>ORIGIN_COUNTRY</th>\n",
       "      <th>DESTINATION_ZIP_CODE</th>\n",
       "      <th>DESTINATION_COUNTRY</th>\n",
       "      <th>TYPE_ID</th>\n",
       "      <th>TIME</th>\n",
       "      <th>NAME</th>\n",
       "      <th>FHS</th>\n",
       "      <th>SHIPMENT_CREATED</th>\n",
       "    </tr>\n",
       "  </thead>\n",
       "  <tbody>\n",
       "    <tr>\n",
       "      <th>0</th>\n",
       "      <td>169412848</td>\n",
       "      <td>2</td>\n",
       "      <td>405</td>\n",
       "      <td>216</td>\n",
       "      <td>8400</td>\n",
       "      <td>0</td>\n",
       "      <td>2022-03-04 17:26:56.000</td>\n",
       "      <td>2022-03-04 16:26:58.000</td>\n",
       "      <td>604</td>\n",
       "      <td>1</td>\n",
       "      <td>...</td>\n",
       "      <td>284.537697</td>\n",
       "      <td>96138</td>\n",
       "      <td>DE</td>\n",
       "      <td>9000</td>\n",
       "      <td>CH</td>\n",
       "      <td>17.0</td>\n",
       "      <td>2022-03-10 16:25:01.000</td>\n",
       "      <td>First hub scan</td>\n",
       "      <td>2022-03-10 16:25:01.000</td>\n",
       "      <td>2022-03-04 16:26:58.000</td>\n",
       "    </tr>\n",
       "    <tr>\n",
       "      <th>1</th>\n",
       "      <td>169412848</td>\n",
       "      <td>2</td>\n",
       "      <td>405</td>\n",
       "      <td>216</td>\n",
       "      <td>8400</td>\n",
       "      <td>0</td>\n",
       "      <td>2022-03-04 17:26:56.000</td>\n",
       "      <td>2022-03-04 16:26:58.000</td>\n",
       "      <td>604</td>\n",
       "      <td>1</td>\n",
       "      <td>...</td>\n",
       "      <td>284.537697</td>\n",
       "      <td>96138</td>\n",
       "      <td>DE</td>\n",
       "      <td>9000</td>\n",
       "      <td>CH</td>\n",
       "      <td>40.0</td>\n",
       "      <td>2022-03-11 07:42:31.000</td>\n",
       "      <td>Out for delivery</td>\n",
       "      <td>2022-03-10 16:25:01.000</td>\n",
       "      <td>2022-03-04 16:26:58.000</td>\n",
       "    </tr>\n",
       "    <tr>\n",
       "      <th>2</th>\n",
       "      <td>169412848</td>\n",
       "      <td>2</td>\n",
       "      <td>405</td>\n",
       "      <td>216</td>\n",
       "      <td>8400</td>\n",
       "      <td>0</td>\n",
       "      <td>2022-03-04 17:26:56.000</td>\n",
       "      <td>2022-03-04 16:26:58.000</td>\n",
       "      <td>604</td>\n",
       "      <td>1</td>\n",
       "      <td>...</td>\n",
       "      <td>284.537697</td>\n",
       "      <td>96138</td>\n",
       "      <td>DE</td>\n",
       "      <td>9000</td>\n",
       "      <td>CH</td>\n",
       "      <td>55.0</td>\n",
       "      <td>2022-03-07 08:01:05.000</td>\n",
       "      <td>Delivery requested at the carrier's</td>\n",
       "      <td>2022-03-10 16:25:01.000</td>\n",
       "      <td>2022-03-04 16:26:58.000</td>\n",
       "    </tr>\n",
       "  </tbody>\n",
       "</table>\n",
       "<p>3 rows × 21 columns</p>\n",
       "</div>"
      ],
      "text/plain": [
       "          ID  CARRIER_ID  SHOP_ID  CUSTOMER_ADDRESS_COUNTRY_ID  \\\n",
       "0  169412848           2      405                          216   \n",
       "1  169412848           2      405                          216   \n",
       "2  169412848           2      405                          216   \n",
       "\n",
       "  CUSTOMER_ADDRESS_ZIP_CODE  RETURN_PARCEL PLANNED_PICKUP_TIMESTAMP  \\\n",
       "0                      8400              0  2022-03-04 17:26:56.000   \n",
       "1                      8400              0  2022-03-04 17:26:56.000   \n",
       "2                      8400              0  2022-03-04 17:26:56.000   \n",
       "\n",
       "                CREATED_AT  WAREHOUSE_ID  TRACKABLE  ...  RELATION_DISTANCE  \\\n",
       "0  2022-03-04 16:26:58.000           604          1  ...         284.537697   \n",
       "1  2022-03-04 16:26:58.000           604          1  ...         284.537697   \n",
       "2  2022-03-04 16:26:58.000           604          1  ...         284.537697   \n",
       "\n",
       "   ORIGIN_ZIP_CODE ORIGIN_COUNTRY DESTINATION_ZIP_CODE DESTINATION_COUNTRY  \\\n",
       "0            96138             DE                 9000                  CH   \n",
       "1            96138             DE                 9000                  CH   \n",
       "2            96138             DE                 9000                  CH   \n",
       "\n",
       "  TYPE_ID                     TIME                                 NAME  \\\n",
       "0    17.0  2022-03-10 16:25:01.000                       First hub scan   \n",
       "1    40.0  2022-03-11 07:42:31.000                     Out for delivery   \n",
       "2    55.0  2022-03-07 08:01:05.000  Delivery requested at the carrier's   \n",
       "\n",
       "                       FHS         SHIPMENT_CREATED  \n",
       "0  2022-03-10 16:25:01.000  2022-03-04 16:26:58.000  \n",
       "1  2022-03-10 16:25:01.000  2022-03-04 16:26:58.000  \n",
       "2  2022-03-10 16:25:01.000  2022-03-04 16:26:58.000  \n",
       "\n",
       "[3 rows x 21 columns]"
      ]
     },
     "execution_count": 27,
     "metadata": {},
     "output_type": "execute_result"
    }
   ],
   "source": [
    "shipment_ticket.head(3)"
   ]
  },
  {
   "cell_type": "markdown",
   "id": "c46ae72e",
   "metadata": {},
   "source": [
    "Conversion of timestamps to datetime format:"
   ]
  },
  {
   "cell_type": "code",
   "execution_count": 28,
   "id": "511d11da",
   "metadata": {},
   "outputs": [],
   "source": [
    "shipment_ticket['FHS'] = pd.to_datetime(shipment_ticket['FHS'])"
   ]
  },
  {
   "cell_type": "code",
   "execution_count": 29,
   "id": "691f2bd1",
   "metadata": {},
   "outputs": [],
   "source": [
    "shipment_ticket['SHIPMENT_CREATED'] = pd.to_datetime(shipment_ticket['SHIPMENT_CREATED'])"
   ]
  },
  {
   "cell_type": "code",
   "execution_count": 30,
   "id": "c72a1a63",
   "metadata": {},
   "outputs": [],
   "source": [
    "shipment['CREATED_AT'] = pd.to_datetime(shipment['CREATED_AT'])"
   ]
  },
  {
   "cell_type": "code",
   "execution_count": 31,
   "id": "e339a44b",
   "metadata": {},
   "outputs": [],
   "source": [
    "shipment_ticket['PLANNED_PICKUP_TIMESTAMP'] = pd.to_datetime(shipment_ticket['PLANNED_PICKUP_TIMESTAMP'])"
   ]
  },
  {
   "cell_type": "markdown",
   "id": "e489593d",
   "metadata": {},
   "source": [
    "## Target Creation\n",
    "Now let's create our target:"
   ]
  },
  {
   "cell_type": "code",
   "execution_count": 32,
   "id": "8f8c6305",
   "metadata": {},
   "outputs": [],
   "source": [
    "shipment_ticket['FHS_MINUS_SHIPMENT_CREATED'] = shipment_ticket['FHS'] - shipment_ticket['SHIPMENT_CREATED']"
   ]
  },
  {
   "cell_type": "markdown",
   "id": "f1c0833f",
   "metadata": {},
   "source": [
    "Let's check if there are duplicates at the `SHIPMENT_ID`:"
   ]
  },
  {
   "cell_type": "code",
   "execution_count": 33,
   "id": "c7785333",
   "metadata": {},
   "outputs": [
    {
     "data": {
      "text/html": [
       "<div>\n",
       "<style scoped>\n",
       "    .dataframe tbody tr th:only-of-type {\n",
       "        vertical-align: middle;\n",
       "    }\n",
       "\n",
       "    .dataframe tbody tr th {\n",
       "        vertical-align: top;\n",
       "    }\n",
       "\n",
       "    .dataframe thead th {\n",
       "        text-align: right;\n",
       "    }\n",
       "</style>\n",
       "<table border=\"1\" class=\"dataframe\">\n",
       "  <thead>\n",
       "    <tr style=\"text-align: right;\">\n",
       "      <th></th>\n",
       "      <th>index</th>\n",
       "      <th>count</th>\n",
       "    </tr>\n",
       "  </thead>\n",
       "  <tbody>\n",
       "    <tr>\n",
       "      <th>0</th>\n",
       "      <td>169412848</td>\n",
       "      <td>8</td>\n",
       "    </tr>\n",
       "    <tr>\n",
       "      <th>1</th>\n",
       "      <td>169265841</td>\n",
       "      <td>8</td>\n",
       "    </tr>\n",
       "    <tr>\n",
       "      <th>2</th>\n",
       "      <td>170520112</td>\n",
       "      <td>8</td>\n",
       "    </tr>\n",
       "    <tr>\n",
       "      <th>3</th>\n",
       "      <td>169681312</td>\n",
       "      <td>8</td>\n",
       "    </tr>\n",
       "    <tr>\n",
       "      <th>4</th>\n",
       "      <td>169641352</td>\n",
       "      <td>8</td>\n",
       "    </tr>\n",
       "    <tr>\n",
       "      <th>...</th>\n",
       "      <td>...</td>\n",
       "      <td>...</td>\n",
       "    </tr>\n",
       "    <tr>\n",
       "      <th>1693772</th>\n",
       "      <td>170415809</td>\n",
       "      <td>12</td>\n",
       "    </tr>\n",
       "    <tr>\n",
       "      <th>1693773</th>\n",
       "      <td>171551372</td>\n",
       "      <td>10</td>\n",
       "    </tr>\n",
       "    <tr>\n",
       "      <th>1693774</th>\n",
       "      <td>169788705</td>\n",
       "      <td>13</td>\n",
       "    </tr>\n",
       "    <tr>\n",
       "      <th>1693775</th>\n",
       "      <td>171768164</td>\n",
       "      <td>10</td>\n",
       "    </tr>\n",
       "    <tr>\n",
       "      <th>1693776</th>\n",
       "      <td>173607170</td>\n",
       "      <td>11</td>\n",
       "    </tr>\n",
       "  </tbody>\n",
       "</table>\n",
       "<p>1693777 rows × 2 columns</p>\n",
       "</div>"
      ],
      "text/plain": [
       "             index  count\n",
       "0        169412848      8\n",
       "1        169265841      8\n",
       "2        170520112      8\n",
       "3        169681312      8\n",
       "4        169641352      8\n",
       "...            ...    ...\n",
       "1693772  170415809     12\n",
       "1693773  171551372     10\n",
       "1693774  169788705     13\n",
       "1693775  171768164     10\n",
       "1693776  173607170     11\n",
       "\n",
       "[1693777 rows x 2 columns]"
      ]
     },
     "execution_count": 33,
     "metadata": {},
     "output_type": "execute_result"
    }
   ],
   "source": [
    "shipment_ticket.ID.value_counts(dropna=False, sort=False).reset_index(name='count')"
   ]
  },
  {
   "cell_type": "markdown",
   "id": "7c8c62b2",
   "metadata": {},
   "source": [
    "There are multiple rows per `SHIPMENT_ID`, as there are multiple tickets per shipment. We should drop these, as we are only interested in one row per shipment. "
   ]
  },
  {
   "cell_type": "code",
   "execution_count": 34,
   "id": "d83d4810",
   "metadata": {},
   "outputs": [],
   "source": [
    "shipment_times = shipment_ticket.drop_duplicates(subset=['ID'])[['ID','FHS', 'SHIPMENT_CREATED', 'FHS_MINUS_SHIPMENT_CREATED']]"
   ]
  },
  {
   "cell_type": "markdown",
   "id": "dba17258",
   "metadata": {},
   "source": [
    "Let's filter the target, as we are not interested in outliers. So we will use a maximum number of days (let's start with 3 days) and a minimum of 0 days."
   ]
  },
  {
   "cell_type": "code",
   "execution_count": 35,
   "id": "ded93bba",
   "metadata": {},
   "outputs": [],
   "source": [
    "#play with time horizon: change days parameter\n",
    "shipment_times_filtered = shipment_times[shipment_times['FHS_MINUS_SHIPMENT_CREATED'] <= datetime.timedelta(days=7)]"
   ]
  },
  {
   "cell_type": "code",
   "execution_count": 36,
   "id": "3c287bc7",
   "metadata": {},
   "outputs": [
    {
     "name": "stderr",
     "output_type": "stream",
     "text": [
      "/var/folders/_7/bhnzdc191yv6brswc0vzw5sr0000gn/T/ipykernel_21973/1584034457.py:1: UserWarning: Boolean Series key will be reindexed to match DataFrame index.\n",
      "  shipment_times_filtered = shipment_times_filtered[shipment_times['FHS_MINUS_SHIPMENT_CREATED'] >= datetime.timedelta(days=0)]\n"
     ]
    }
   ],
   "source": [
    "shipment_times_filtered = shipment_times_filtered[shipment_times['FHS_MINUS_SHIPMENT_CREATED'] >= datetime.timedelta(days=0)]"
   ]
  },
  {
   "cell_type": "code",
   "execution_count": 37,
   "id": "f8e7473c",
   "metadata": {},
   "outputs": [
    {
     "data": {
      "text/html": [
       "<div>\n",
       "<style scoped>\n",
       "    .dataframe tbody tr th:only-of-type {\n",
       "        vertical-align: middle;\n",
       "    }\n",
       "\n",
       "    .dataframe tbody tr th {\n",
       "        vertical-align: top;\n",
       "    }\n",
       "\n",
       "    .dataframe thead th {\n",
       "        text-align: right;\n",
       "    }\n",
       "</style>\n",
       "<table border=\"1\" class=\"dataframe\">\n",
       "  <thead>\n",
       "    <tr style=\"text-align: right;\">\n",
       "      <th></th>\n",
       "      <th>ID</th>\n",
       "      <th>FHS</th>\n",
       "      <th>SHIPMENT_CREATED</th>\n",
       "      <th>FHS_MINUS_SHIPMENT_CREATED</th>\n",
       "    </tr>\n",
       "  </thead>\n",
       "  <tbody>\n",
       "    <tr>\n",
       "      <th>0</th>\n",
       "      <td>169412848</td>\n",
       "      <td>2022-03-10 16:25:01</td>\n",
       "      <td>2022-03-04 16:26:58</td>\n",
       "      <td>5 days 23:58:03</td>\n",
       "    </tr>\n",
       "    <tr>\n",
       "      <th>8</th>\n",
       "      <td>169265841</td>\n",
       "      <td>2022-03-09 15:32:34</td>\n",
       "      <td>2022-03-03 18:23:58</td>\n",
       "      <td>5 days 21:08:36</td>\n",
       "    </tr>\n",
       "    <tr>\n",
       "      <th>16</th>\n",
       "      <td>170520112</td>\n",
       "      <td>2022-03-15 22:19:45</td>\n",
       "      <td>2022-03-11 14:43:43</td>\n",
       "      <td>4 days 07:36:02</td>\n",
       "    </tr>\n",
       "  </tbody>\n",
       "</table>\n",
       "</div>"
      ],
      "text/plain": [
       "           ID                 FHS    SHIPMENT_CREATED  \\\n",
       "0   169412848 2022-03-10 16:25:01 2022-03-04 16:26:58   \n",
       "8   169265841 2022-03-09 15:32:34 2022-03-03 18:23:58   \n",
       "16  170520112 2022-03-15 22:19:45 2022-03-11 14:43:43   \n",
       "\n",
       "   FHS_MINUS_SHIPMENT_CREATED  \n",
       "0             5 days 23:58:03  \n",
       "8             5 days 21:08:36  \n",
       "16            4 days 07:36:02  "
      ]
     },
     "execution_count": 37,
     "metadata": {},
     "output_type": "execute_result"
    }
   ],
   "source": [
    "shipment_times_filtered.head(3)"
   ]
  },
  {
   "cell_type": "markdown",
   "id": "8b4e66f5",
   "metadata": {},
   "source": [
    "## Visualizations"
   ]
  },
  {
   "cell_type": "markdown",
   "id": "9b71463e",
   "metadata": {},
   "source": [
    "Let's have a look at the distribution of the target. Remember that this is the time between creation of shipment at the  shipper warehouse and first hub scan at the last mile carrier hub.  \n",
    "![Tracking Gap](tracking_gap.png \"Tracking Gap\")"
   ]
  },
  {
   "cell_type": "code",
   "execution_count": 38,
   "id": "ab2441ae",
   "metadata": {},
   "outputs": [
    {
     "data": {
      "text/plain": [
       "<AxesSubplot:xlabel='FHS_MINUS_SHIPMENT_CREATED', ylabel='Percent'>"
      ]
     },
     "execution_count": 38,
     "metadata": {},
     "output_type": "execute_result"
    },
    {
     "data": {
      "image/png": "[encoded data removed]",
      "text/plain": [
       "<Figure size 432x288 with 1 Axes>"
      ]
     },
     "metadata": {},
     "output_type": "display_data"
    }
   ],
   "source": [
    "sns.histplot(shipment_times_filtered['FHS_MINUS_SHIPMENT_CREATED'].astype('timedelta64[D]'), stat='percent', kde=False)"
   ]
  },
  {
   "cell_type": "markdown",
   "id": "6df70300",
   "metadata": {},
   "source": [
    "We see that the vast majority arrives at the last mile carrier hub within 1, 2 or 3 days (Note that the bin at 0 corresponds to timeframes until 23:59 hrs). \n",
    "\n",
    "So let's have a closer look at the first 2 days on hour-level."
   ]
  },
  {
   "cell_type": "code",
   "execution_count": 39,
   "id": "f0909a62",
   "metadata": {},
   "outputs": [],
   "source": [
    "#play with time horizon: change days parameter\n",
    "shipment_times_filtered = shipment_times[shipment_times['FHS_MINUS_SHIPMENT_CREATED'] <= datetime.timedelta(days=2)]"
   ]
  },
  {
   "cell_type": "code",
   "execution_count": 40,
   "id": "3f7d1965",
   "metadata": {},
   "outputs": [
    {
     "name": "stderr",
     "output_type": "stream",
     "text": [
      "/var/folders/_7/bhnzdc191yv6brswc0vzw5sr0000gn/T/ipykernel_21973/1584034457.py:1: UserWarning: Boolean Series key will be reindexed to match DataFrame index.\n",
      "  shipment_times_filtered = shipment_times_filtered[shipment_times['FHS_MINUS_SHIPMENT_CREATED'] >= datetime.timedelta(days=0)]\n"
     ]
    }
   ],
   "source": [
    "shipment_times_filtered = shipment_times_filtered[shipment_times['FHS_MINUS_SHIPMENT_CREATED'] >= datetime.timedelta(days=0)]"
   ]
  },
  {
   "cell_type": "code",
   "execution_count": 41,
   "id": "339c22a0",
   "metadata": {},
   "outputs": [
    {
     "data": {
      "text/plain": [
       "<AxesSubplot:xlabel='FHS_MINUS_SHIPMENT_CREATED', ylabel='Percent'>"
      ]
     },
     "execution_count": 41,
     "metadata": {},
     "output_type": "execute_result"
    },
    {
     "data": {
      "image/png": "[encoded data removed]",
      "text/plain": [
       "<Figure size 432x288 with 1 Axes>"
      ]
     },
     "metadata": {},
     "output_type": "display_data"
    }
   ],
   "source": [
    "sns.histplot(shipment_times_filtered['FHS_MINUS_SHIPMENT_CREATED'].astype('timedelta64[h]'), stat='percent', kde=False)"
   ]
  },
  {
   "cell_type": "markdown",
   "id": "af209cb9",
   "metadata": {},
   "source": [
    "There is a great peak at about 24 hours."
   ]
  },
  {
   "cell_type": "markdown",
   "id": "781ad8b2",
   "metadata": {},
   "source": [
    "## Data Analysis"
   ]
  },
  {
   "cell_type": "code",
   "execution_count": 42,
   "id": "14f23a08",
   "metadata": {},
   "outputs": [],
   "source": [
    "corr = shipment_ticket.corr(method ='pearson')"
   ]
  },
  {
   "cell_type": "code",
   "execution_count": 43,
   "id": "6a9ce2da",
   "metadata": {},
   "outputs": [
    {
     "data": {
      "text/plain": [
       "<AxesSubplot:>"
      ]
     },
     "execution_count": 43,
     "metadata": {},
     "output_type": "execute_result"
    },
    {
     "data": {
      "image/png": "[encoded data removed]",
      "text/plain": [
       "<Figure size 432x288 with 2 Axes>"
      ]
     },
     "metadata": {},
     "output_type": "display_data"
    }
   ],
   "source": [
    "sns.heatmap(corr)"
   ]
  },
  {
   "cell_type": "markdown",
   "id": "b11fed77",
   "metadata": {},
   "source": [
    "There are strong correlations between:\n",
    "- `CARRIER_ID` and `CUSTOMER_ADDRESS_COUNTRY_ID`\n",
    "- `WAREHOUSE_ID` and `SHOP_ID`\n",
    "- `WAREHOUSE_ID` and `RELATION_DISTANCE`\n",
    "- `SHOP_ID` and `RELATION_DISTANCE`\n",
    "\n",
    "So let's choose one for each of these pairs and drop the other one."
   ]
  },
  {
   "cell_type": "code",
   "execution_count": 44,
   "id": "a5309bcf",
   "metadata": {},
   "outputs": [],
   "source": [
    "shipment_ticket = shipment_ticket.drop(columns=['CUSTOMER_ADDRESS_COUNTRY_ID', 'SHOP_ID'])"
   ]
  },
  {
   "cell_type": "markdown",
   "id": "bbdb17d2",
   "metadata": {},
   "source": [
    "Let's have a look how many shipments are return parcels:"
   ]
  },
  {
   "cell_type": "code",
   "execution_count": 45,
   "id": "ed581df8",
   "metadata": {},
   "outputs": [
    {
     "data": {
      "text/plain": [
       "0.03248348073651458"
      ]
     },
     "execution_count": 45,
     "metadata": {},
     "output_type": "execute_result"
    }
   ],
   "source": [
    "len(shipment_ticket[(shipment_ticket['RETURN_PARCEL'] == 1)]) / len(shipment_ticket)"
   ]
  },
  {
   "cell_type": "markdown",
   "id": "2b64b63f",
   "metadata": {},
   "source": [
    "About 3%. Let's drop these as they are out of scope. We want to focus on non-return parcels."
   ]
  },
  {
   "cell_type": "code",
   "execution_count": 46,
   "id": "0beb77f8",
   "metadata": {},
   "outputs": [],
   "source": [
    "shipment_ticket = shipment_ticket[shipment_ticket['RETURN_PARCEL'] == 0]"
   ]
  },
  {
   "cell_type": "markdown",
   "id": "0ab883a2",
   "metadata": {},
   "source": [
    "Let's also drop NA rows for our target:"
   ]
  },
  {
   "cell_type": "code",
   "execution_count": 47,
   "id": "1d64e793",
   "metadata": {},
   "outputs": [
    {
     "data": {
      "text/plain": [
       "ID                            0.000000\n",
       "CARRIER_ID                    0.000000\n",
       "CUSTOMER_ADDRESS_ZIP_CODE     0.000415\n",
       "RETURN_PARCEL                 0.000000\n",
       "PLANNED_PICKUP_TIMESTAMP      0.000000\n",
       "CREATED_AT                    0.000000\n",
       "WAREHOUSE_ID                  0.000000\n",
       "TRACKABLE                     0.000000\n",
       "RELATION_ID                   0.000000\n",
       "RELATION_DISTANCE             7.382175\n",
       "ORIGIN_ZIP_CODE               6.437025\n",
       "ORIGIN_COUNTRY                6.437025\n",
       "DESTINATION_ZIP_CODE          7.382175\n",
       "DESTINATION_COUNTRY           7.382175\n",
       "TYPE_ID                       0.000000\n",
       "TIME                          0.000000\n",
       "NAME                          0.000000\n",
       "FHS                           0.429797\n",
       "SHIPMENT_CREATED              0.000000\n",
       "FHS_MINUS_SHIPMENT_CREATED    0.429797\n",
       "dtype: float64"
      ]
     },
     "execution_count": 47,
     "metadata": {},
     "output_type": "execute_result"
    }
   ],
   "source": [
    "shipment_ticket.isnull().sum() * 100 / len(shipment_ticket)"
   ]
  },
  {
   "cell_type": "code",
   "execution_count": 48,
   "id": "3debdc51",
   "metadata": {},
   "outputs": [],
   "source": [
    "shipment_ticket = shipment_ticket.dropna(subset=['SHIPMENT_CREATED', 'FHS'])"
   ]
  },
  {
   "cell_type": "markdown",
   "id": "ba481150",
   "metadata": {},
   "source": [
    "## Feature Engineering"
   ]
  },
  {
   "cell_type": "markdown",
   "id": "8f1d0e1c",
   "metadata": {},
   "source": [
    "Let's generate two new features:\n",
    "\n",
    "The probability that a parcel get's picked up on the next day is higher, if the creation of the shipment happened from Monday through Thursday. Also it's more probable if the creation happened before 3PM."
   ]
  },
  {
   "cell_type": "code",
   "execution_count": 49,
   "id": "e4d808c2",
   "metadata": {},
   "outputs": [],
   "source": [
    "# Day of week\n",
    "shipment_ticket['CREATED_DOW'] = shipment_ticket['SHIPMENT_CREATED'].dt.day_of_week"
   ]
  },
  {
   "cell_type": "code",
   "execution_count": 50,
   "id": "e2f37930",
   "metadata": {},
   "outputs": [],
   "source": [
    "# Hour\n",
    "shipment_ticket['CREATED_HR'] = shipment_ticket['SHIPMENT_CREATED'].dt.hour"
   ]
  },
  {
   "cell_type": "code",
   "execution_count": 51,
   "id": "25e25abe",
   "metadata": {},
   "outputs": [],
   "source": [
    "shipment_ticket['CREATED_MON_TUE_WED_THU'] = np.where(shipment_ticket.CREATED_DOW <= 3, 1, 0)"
   ]
  },
  {
   "cell_type": "code",
   "execution_count": 52,
   "id": "fc825211",
   "metadata": {},
   "outputs": [],
   "source": [
    "shipment_ticket['CREATED_BEFORE_3PM'] = np.where(shipment_ticket.CREATED_HR <= 16, 1, 0)"
   ]
  },
  {
   "cell_type": "code",
   "execution_count": 53,
   "id": "b94d200d",
   "metadata": {},
   "outputs": [],
   "source": [
    "shipment_ticket = shipment_ticket.astype({'CREATED_MON_TUE_WED_THU': 'int8',\n",
    "                       'CREATED_DOW': 'int8',\n",
    "                       })"
   ]
  },
  {
   "cell_type": "markdown",
   "id": "8b0b51ab",
   "metadata": {},
   "source": [
    "Let's also one-hot-encode the column `CREATED_DOW` as the day of week might be important."
   ]
  },
  {
   "cell_type": "code",
   "execution_count": 54,
   "id": "205a6dcd",
   "metadata": {},
   "outputs": [
    {
     "data": {
      "text/html": [
       "<div>\n",
       "<style scoped>\n",
       "    .dataframe tbody tr th:only-of-type {\n",
       "        vertical-align: middle;\n",
       "    }\n",
       "\n",
       "    .dataframe tbody tr th {\n",
       "        vertical-align: top;\n",
       "    }\n",
       "\n",
       "    .dataframe thead th {\n",
       "        text-align: right;\n",
       "    }\n",
       "</style>\n",
       "<table border=\"1\" class=\"dataframe\">\n",
       "  <thead>\n",
       "    <tr style=\"text-align: right;\">\n",
       "      <th></th>\n",
       "      <th>ID</th>\n",
       "      <th>CARRIER_ID</th>\n",
       "      <th>CUSTOMER_ADDRESS_ZIP_CODE</th>\n",
       "      <th>RETURN_PARCEL</th>\n",
       "      <th>PLANNED_PICKUP_TIMESTAMP</th>\n",
       "      <th>CREATED_AT</th>\n",
       "      <th>WAREHOUSE_ID</th>\n",
       "      <th>TRACKABLE</th>\n",
       "      <th>RELATION_ID</th>\n",
       "      <th>RELATION_DISTANCE</th>\n",
       "      <th>...</th>\n",
       "      <th>CREATED_HR</th>\n",
       "      <th>CREATED_MON_TUE_WED_THU</th>\n",
       "      <th>CREATED_BEFORE_3PM</th>\n",
       "      <th>CREATED_DOW_0</th>\n",
       "      <th>CREATED_DOW_1</th>\n",
       "      <th>CREATED_DOW_2</th>\n",
       "      <th>CREATED_DOW_3</th>\n",
       "      <th>CREATED_DOW_4</th>\n",
       "      <th>CREATED_DOW_5</th>\n",
       "      <th>CREATED_DOW_6</th>\n",
       "    </tr>\n",
       "  </thead>\n",
       "  <tbody>\n",
       "    <tr>\n",
       "      <th>8293802</th>\n",
       "      <td>172134961</td>\n",
       "      <td>9</td>\n",
       "      <td>56600</td>\n",
       "      <td>0</td>\n",
       "      <td>2022-03-22 19:45:00</td>\n",
       "      <td>2022-03-22 12:26:42.000</td>\n",
       "      <td>171</td>\n",
       "      <td>1</td>\n",
       "      <td>158</td>\n",
       "      <td>307.876494</td>\n",
       "      <td>...</td>\n",
       "      <td>12</td>\n",
       "      <td>1</td>\n",
       "      <td>1</td>\n",
       "      <td>0</td>\n",
       "      <td>1</td>\n",
       "      <td>0</td>\n",
       "      <td>0</td>\n",
       "      <td>0</td>\n",
       "      <td>0</td>\n",
       "      <td>0</td>\n",
       "    </tr>\n",
       "    <tr>\n",
       "      <th>4093244</th>\n",
       "      <td>173121966</td>\n",
       "      <td>5</td>\n",
       "      <td>6020</td>\n",
       "      <td>0</td>\n",
       "      <td>2022-03-28 19:13:30</td>\n",
       "      <td>2022-03-28 19:34:27.000</td>\n",
       "      <td>310</td>\n",
       "      <td>1</td>\n",
       "      <td>1325</td>\n",
       "      <td>817.205233</td>\n",
       "      <td>...</td>\n",
       "      <td>19</td>\n",
       "      <td>1</td>\n",
       "      <td>0</td>\n",
       "      <td>1</td>\n",
       "      <td>0</td>\n",
       "      <td>0</td>\n",
       "      <td>0</td>\n",
       "      <td>0</td>\n",
       "      <td>0</td>\n",
       "      <td>0</td>\n",
       "    </tr>\n",
       "    <tr>\n",
       "      <th>1970416</th>\n",
       "      <td>173460499</td>\n",
       "      <td>9</td>\n",
       "      <td>92160</td>\n",
       "      <td>0</td>\n",
       "      <td>2022-03-30 09:39:27</td>\n",
       "      <td>2022-03-30 09:39:27.000</td>\n",
       "      <td>731</td>\n",
       "      <td>1</td>\n",
       "      <td>514</td>\n",
       "      <td>607.946411</td>\n",
       "      <td>...</td>\n",
       "      <td>9</td>\n",
       "      <td>1</td>\n",
       "      <td>1</td>\n",
       "      <td>0</td>\n",
       "      <td>0</td>\n",
       "      <td>1</td>\n",
       "      <td>0</td>\n",
       "      <td>0</td>\n",
       "      <td>0</td>\n",
       "      <td>0</td>\n",
       "    </tr>\n",
       "  </tbody>\n",
       "</table>\n",
       "<p>3 rows × 30 columns</p>\n",
       "</div>"
      ],
      "text/plain": [
       "                ID  CARRIER_ID CUSTOMER_ADDRESS_ZIP_CODE  RETURN_PARCEL  \\\n",
       "8293802  172134961           9                     56600              0   \n",
       "4093244  173121966           5                      6020              0   \n",
       "1970416  173460499           9                     92160              0   \n",
       "\n",
       "        PLANNED_PICKUP_TIMESTAMP               CREATED_AT  WAREHOUSE_ID  \\\n",
       "8293802      2022-03-22 19:45:00  2022-03-22 12:26:42.000           171   \n",
       "4093244      2022-03-28 19:13:30  2022-03-28 19:34:27.000           310   \n",
       "1970416      2022-03-30 09:39:27  2022-03-30 09:39:27.000           731   \n",
       "\n",
       "         TRACKABLE  RELATION_ID  RELATION_DISTANCE  ... CREATED_HR  \\\n",
       "8293802          1          158         307.876494  ...         12   \n",
       "4093244          1         1325         817.205233  ...         19   \n",
       "1970416          1          514         607.946411  ...          9   \n",
       "\n",
       "        CREATED_MON_TUE_WED_THU CREATED_BEFORE_3PM CREATED_DOW_0  \\\n",
       "8293802                       1                  1             0   \n",
       "4093244                       1                  0             1   \n",
       "1970416                       1                  1             0   \n",
       "\n",
       "         CREATED_DOW_1 CREATED_DOW_2 CREATED_DOW_3 CREATED_DOW_4  \\\n",
       "8293802              1             0             0             0   \n",
       "4093244              0             0             0             0   \n",
       "1970416              0             1             0             0   \n",
       "\n",
       "        CREATED_DOW_5 CREATED_DOW_6  \n",
       "8293802             0             0  \n",
       "4093244             0             0  \n",
       "1970416             0             0  \n",
       "\n",
       "[3 rows x 30 columns]"
      ]
     },
     "execution_count": 54,
     "metadata": {},
     "output_type": "execute_result"
    }
   ],
   "source": [
    "shipment_ticket = pd.get_dummies(shipment_ticket, columns=['CREATED_DOW'])\n",
    "shipment_ticket.sample(3)"
   ]
  },
  {
   "cell_type": "markdown",
   "id": "bb649c65",
   "metadata": {},
   "source": [
    "## Conclusion"
   ]
  },
  {
   "cell_type": "markdown",
   "id": "eac6e8aa",
   "metadata": {},
   "source": [
    "- We did some pre-sorting of features on the initial tables\n",
    "- We merged the tables\n",
    "- We constructed features\n",
    "- We dropped NAs\n",
    "- We converted formats\n",
    "- We constructed our target and filtered with respect to our scope\n",
    "- We analysed the distribution of the target\n",
    "- We checked feature correlations and dropped redundant features\n",
    "- We threw out return parcels as they are out of scope\n",
    "- We engineered two features\n",
    "- We one-hot-encoded the day of week of `CREATED_AT`"
   ]
  },
  {
   "cell_type": "markdown",
   "id": "4de2922d",
   "metadata": {},
   "source": [
    "Now we are set to build a first model!"
   ]
  },
  {
   "cell_type": "code",
   "execution_count": null,
   "id": "7ce670b0",
   "metadata": {},
   "outputs": [],
   "source": []
  }
 ],
 "metadata": {
  "kernelspec": {
   "display_name": "Python 3 (ipykernel)",
   "language": "python",
   "name": "python3"
  },
  "language_info": {
   "codemirror_mode": {
    "name": "ipython",
    "version": 3
   },
   "file_extension": ".py",
   "mimetype": "text/x-python",
   "name": "python",
   "nbconvert_exporter": "python",
   "pygments_lexer": "ipython3",
   "version": "3.8.12"
  },
  "toc": {
   "base_numbering": 1,
   "nav_menu": {},
   "number_sections": true,
   "sideBar": true,
   "skip_h1_title": false,
   "title_cell": "Table of Contents",
   "title_sidebar": "Contents",
   "toc_cell": false,
   "toc_position": {},
   "toc_section_display": true,
   "toc_window_display": false
  }
 },
 "nbformat": 4,
 "nbformat_minor": 5
}

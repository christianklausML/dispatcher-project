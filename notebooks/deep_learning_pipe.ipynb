{
 "cells": [
  {
   "cell_type": "markdown",
   "id": "a4494aba-61e6-4840-9302-ed680a542100",
   "metadata": {},
   "source": [
    "# Deep Leraning Base Model\n",
    "\n",
    "The goal of this notebook is to build a full deep learning pipeline with the base DL model."
   ]
  },
  {
   "cell_type": "markdown",
   "id": "c88eee3f-bb2a-4994-951d-582718e2d507",
   "metadata": {},
   "source": [
    "## Imports and Data Load"
   ]
  },
  {
   "cell_type": "code",
   "execution_count": 1,
   "id": "1adc87b8",
   "metadata": {},
   "outputs": [],
   "source": [
    "%load_ext autoreload\n",
    "%autoreload 2"
   ]
  },
  {
   "cell_type": "code",
   "execution_count": 2,
   "id": "8f1a8ffa",
   "metadata": {},
   "outputs": [],
   "source": [
    "import pandas as pd\n",
    "import numpy as np\n",
    "from dispatcher.data.join import JoinTables\n",
    "from dispatcher.transformers.encoders import TimeFeaturesEncoder\n",
    "from sklearn import set_config; set_config(display='diagram')\n",
    "from sklearn.compose import ColumnTransformer, make_column_transformer, make_column_selector\n",
    "from sklearn.pipeline import Pipeline, make_pipeline\n",
    "from sklearn.impute import SimpleImputer\n",
    "from sklearn.preprocessing import StandardScaler\n",
    "from sklearn.preprocessing import OneHotEncoder\n",
    "from tensorflow.keras import Sequential, layers\n",
    "from tensorflow.keras.callbacks import EarlyStopping\n",
    "from scikeras.wrappers import KerasClassifier"
   ]
  },
  {
   "cell_type": "code",
   "execution_count": 3,
   "id": "7fbd0df4",
   "metadata": {},
   "outputs": [
    {
     "name": "stderr",
     "output_type": "stream",
     "text": [
      "/Users/christianklaus/code/christianklausML/dispatcher-project/dispatcher/data/ticket.py:24: DtypeWarning: Columns (4,12,22,24,26) have mixed types.Specify dtype option on import or set low_memory=False.\n",
      "  shipment_order = RawData.get_table_data('shipment', local=True,\n"
     ]
    },
    {
     "name": "stdout",
     "output_type": "stream",
     "text": [
      "ticket features loaded\n",
      "order features loaded.\n",
      "carrier features loaded.\n"
     ]
    },
    {
     "name": "stderr",
     "output_type": "stream",
     "text": [
      "/Users/christianklaus/code/christianklausML/dispatcher-project/dispatcher/data/shipment.py:10: DtypeWarning: Columns (4,12,14) have mixed types.Specify dtype option on import or set low_memory=False.\n",
      "  clean_shipment = RawData.get_table_data('shipment', local=True, clean=True)\n"
     ]
    },
    {
     "name": "stdout",
     "output_type": "stream",
     "text": [
      "warehouse features loaded\n",
      "\u001b[32mTables joined.\u001b[0m\n",
      "\u001b[32mNAs filled. (─‿‿─)\u001b[0m\n",
      "\u001b[32mNumber of rows: 1403405\u001b[0m\n",
      "\u001b[32m                   percent_missing\n",
      "WAREHOUSE_ID                     0\n",
      "RELATION_DISTANCE                0\n",
      "SCR_HRS                          0\n",
      "SCR_MIN                          0\n",
      "PPU_DOW                          0\u001b[0m\n",
      "\u001b[32m0.0% of rows dropped.\u001b[0m\n",
      "\u001b[32mtrain test split ready. ( ◑‿◑)\u001b[0m\n"
     ]
    }
   ],
   "source": [
    "X_train, X_test, y_train, y_test = JoinTables().join_tables()"
   ]
  },
  {
   "cell_type": "code",
   "execution_count": 4,
   "id": "723d30c1",
   "metadata": {},
   "outputs": [
    {
     "data": {
      "text/html": [
       "<div>\n",
       "<style scoped>\n",
       "    .dataframe tbody tr th:only-of-type {\n",
       "        vertical-align: middle;\n",
       "    }\n",
       "\n",
       "    .dataframe tbody tr th {\n",
       "        vertical-align: top;\n",
       "    }\n",
       "\n",
       "    .dataframe thead th {\n",
       "        text-align: right;\n",
       "    }\n",
       "</style>\n",
       "<table border=\"1\" class=\"dataframe\">\n",
       "  <thead>\n",
       "    <tr style=\"text-align: right;\">\n",
       "      <th></th>\n",
       "      <th>WAREHOUSE_ID</th>\n",
       "      <th>RELATION_DISTANCE</th>\n",
       "      <th>CARRIER_COMPANY_ID</th>\n",
       "      <th>SHOP_ID</th>\n",
       "      <th>DESTINATION_ZIP_CODE</th>\n",
       "      <th>CUSTOMER_ADDRESS_ZIP_CODE</th>\n",
       "      <th>CUSTOMER_ADDRESS_COUNTRY_ID</th>\n",
       "      <th>OC_MIN</th>\n",
       "      <th>OC_HRS</th>\n",
       "      <th>OC_DOW</th>\n",
       "      <th>OC_MONTH</th>\n",
       "      <th>PPU_MIN</th>\n",
       "      <th>PPU_HRS</th>\n",
       "      <th>PPU_DOW</th>\n",
       "      <th>SCR_MIN</th>\n",
       "      <th>SCR_HRS</th>\n",
       "      <th>SCR_DOW</th>\n",
       "    </tr>\n",
       "  </thead>\n",
       "  <tbody>\n",
       "    <tr>\n",
       "      <th>1466960</th>\n",
       "      <td>604</td>\n",
       "      <td>896.317844</td>\n",
       "      <td>76</td>\n",
       "      <td>405</td>\n",
       "      <td>CV8 3ED</td>\n",
       "      <td>NE10 0AZ</td>\n",
       "      <td>235</td>\n",
       "      <td>16</td>\n",
       "      <td>22</td>\n",
       "      <td>2</td>\n",
       "      <td>3</td>\n",
       "      <td>16</td>\n",
       "      <td>22</td>\n",
       "      <td>2</td>\n",
       "      <td>16</td>\n",
       "      <td>21</td>\n",
       "      <td>2</td>\n",
       "    </tr>\n",
       "    <tr>\n",
       "      <th>60826</th>\n",
       "      <td>405</td>\n",
       "      <td>245.468977</td>\n",
       "      <td>2</td>\n",
       "      <td>14</td>\n",
       "      <td>1099</td>\n",
       "      <td>1600</td>\n",
       "      <td>22</td>\n",
       "      <td>2</td>\n",
       "      <td>17</td>\n",
       "      <td>0</td>\n",
       "      <td>3</td>\n",
       "      <td>0</td>\n",
       "      <td>17</td>\n",
       "      <td>2</td>\n",
       "      <td>45</td>\n",
       "      <td>9</td>\n",
       "      <td>3</td>\n",
       "    </tr>\n",
       "    <tr>\n",
       "      <th>1107281</th>\n",
       "      <td>673</td>\n",
       "      <td>360.317753</td>\n",
       "      <td>28</td>\n",
       "      <td>465</td>\n",
       "      <td>21241</td>\n",
       "      <td>58212</td>\n",
       "      <td>215</td>\n",
       "      <td>50</td>\n",
       "      <td>21</td>\n",
       "      <td>1</td>\n",
       "      <td>3</td>\n",
       "      <td>50</td>\n",
       "      <td>21</td>\n",
       "      <td>1</td>\n",
       "      <td>55</td>\n",
       "      <td>23</td>\n",
       "      <td>1</td>\n",
       "    </tr>\n",
       "    <tr>\n",
       "      <th>1318912</th>\n",
       "      <td>310</td>\n",
       "      <td>827.111602</td>\n",
       "      <td>13</td>\n",
       "      <td>196</td>\n",
       "      <td>2333</td>\n",
       "      <td>9073</td>\n",
       "      <td>15</td>\n",
       "      <td>3</td>\n",
       "      <td>20</td>\n",
       "      <td>1</td>\n",
       "      <td>3</td>\n",
       "      <td>3</td>\n",
       "      <td>20</td>\n",
       "      <td>1</td>\n",
       "      <td>17</td>\n",
       "      <td>20</td>\n",
       "      <td>1</td>\n",
       "    </tr>\n",
       "    <tr>\n",
       "      <th>594668</th>\n",
       "      <td>613</td>\n",
       "      <td>689.355960</td>\n",
       "      <td>4</td>\n",
       "      <td>196</td>\n",
       "      <td>20018</td>\n",
       "      <td>12042</td>\n",
       "      <td>110</td>\n",
       "      <td>10</td>\n",
       "      <td>17</td>\n",
       "      <td>1</td>\n",
       "      <td>3</td>\n",
       "      <td>10</td>\n",
       "      <td>17</td>\n",
       "      <td>1</td>\n",
       "      <td>22</td>\n",
       "      <td>17</td>\n",
       "      <td>1</td>\n",
       "    </tr>\n",
       "  </tbody>\n",
       "</table>\n",
       "</div>"
      ],
      "text/plain": [
       "         WAREHOUSE_ID  RELATION_DISTANCE  CARRIER_COMPANY_ID  SHOP_ID  \\\n",
       "1466960           604         896.317844                  76      405   \n",
       "60826             405         245.468977                   2       14   \n",
       "1107281           673         360.317753                  28      465   \n",
       "1318912           310         827.111602                  13      196   \n",
       "594668            613         689.355960                   4      196   \n",
       "\n",
       "        DESTINATION_ZIP_CODE CUSTOMER_ADDRESS_ZIP_CODE  \\\n",
       "1466960              CV8 3ED                  NE10 0AZ   \n",
       "60826                   1099                      1600   \n",
       "1107281                21241                     58212   \n",
       "1318912                 2333                      9073   \n",
       "594668                 20018                     12042   \n",
       "\n",
       "         CUSTOMER_ADDRESS_COUNTRY_ID  OC_MIN  OC_HRS  OC_DOW  OC_MONTH  \\\n",
       "1466960                          235      16      22       2         3   \n",
       "60826                             22       2      17       0         3   \n",
       "1107281                          215      50      21       1         3   \n",
       "1318912                           15       3      20       1         3   \n",
       "594668                           110      10      17       1         3   \n",
       "\n",
       "         PPU_MIN  PPU_HRS  PPU_DOW  SCR_MIN  SCR_HRS  SCR_DOW  \n",
       "1466960       16       22        2       16       21        2  \n",
       "60826          0       17        2       45        9        3  \n",
       "1107281       50       21        1       55       23        1  \n",
       "1318912        3       20        1       17       20        1  \n",
       "594668        10       17        1       22       17        1  "
      ]
     },
     "execution_count": 4,
     "metadata": {},
     "output_type": "execute_result"
    }
   ],
   "source": [
    "X_train.head()"
   ]
  },
  {
   "cell_type": "code",
   "execution_count": 5,
   "id": "5a302c86-f311-4518-bd13-3bf7c862d312",
   "metadata": {},
   "outputs": [
    {
     "data": {
      "text/plain": [
       "WAREHOUSE_ID                     int64\n",
       "RELATION_DISTANCE              float64\n",
       "CARRIER_COMPANY_ID               int64\n",
       "SHOP_ID                          int64\n",
       "DESTINATION_ZIP_CODE            string\n",
       "CUSTOMER_ADDRESS_ZIP_CODE       string\n",
       "CUSTOMER_ADDRESS_COUNTRY_ID      int64\n",
       "OC_MIN                           int64\n",
       "OC_HRS                           int64\n",
       "OC_DOW                           int64\n",
       "OC_MONTH                         int64\n",
       "PPU_MIN                          int64\n",
       "PPU_HRS                          int64\n",
       "PPU_DOW                          int64\n",
       "SCR_MIN                          int64\n",
       "SCR_HRS                          int64\n",
       "SCR_DOW                          int64\n",
       "dtype: object"
      ]
     },
     "execution_count": 5,
     "metadata": {},
     "output_type": "execute_result"
    }
   ],
   "source": [
    "X_train.dtypes"
   ]
  },
  {
   "cell_type": "code",
   "execution_count": 6,
   "id": "53188340-14b6-41b4-bef2-312d0b3a75fa",
   "metadata": {},
   "outputs": [
    {
     "data": {
      "text/plain": [
       "(1122719, 5)"
      ]
     },
     "execution_count": 6,
     "metadata": {},
     "output_type": "execute_result"
    }
   ],
   "source": [
    "y_train.shape"
   ]
  },
  {
   "cell_type": "markdown",
   "id": "3f155d3a-691b-46a4-a314-455b7fb68a46",
   "metadata": {},
   "source": [
    "## Pipeline Building\n"
   ]
  },
  {
   "cell_type": "code",
   "execution_count": 11,
   "id": "271921db-b064-4bca-92ad-9d9b8422b0b9",
   "metadata": {},
   "outputs": [],
   "source": [
    "def get_model():\n",
    "    model = Sequential()\n",
    "    model.add(layers.Dense(50, activation='relu', input_dim=200))\n",
    "    model.add(layers.Dense(25, activation='relu'))\n",
    "    model.add(layers.Dense(16, activation='relu'))\n",
    "    model.add(layers.Dense(5, activation='softmax'))\n",
    "    model.compile(loss='categorical_crossentropy',\n",
    "                  optimizer='adam', \n",
    "                  metrics=['accuracy']) \n",
    "    return model\n",
    "\n",
    "es = EarlyStopping(patience=10)\n",
    "clf = KerasClassifier(get_model, epochs=10, batch_size=32,\n",
    "                     verbose=1, callbacks= [es], validation_split=0.3)"
   ]
  },
  {
   "cell_type": "code",
   "execution_count": 12,
   "id": "d8903236-6c57-44d2-b7f6-317838db526f",
   "metadata": {},
   "outputs": [
    {
     "data": {
      "text/html": [
       "<style>#sk-container-id-2 {color: black;background-color: white;}#sk-container-id-2 pre{padding: 0;}#sk-container-id-2 div.sk-toggleable {background-color: white;}#sk-container-id-2 label.sk-toggleable__label {cursor: pointer;display: block;width: 100%;margin-bottom: 0;padding: 0.3em;box-sizing: border-box;text-align: center;}#sk-container-id-2 label.sk-toggleable__label-arrow:before {content: \"▸\";float: left;margin-right: 0.25em;color: #696969;}#sk-container-id-2 label.sk-toggleable__label-arrow:hover:before {color: black;}#sk-container-id-2 div.sk-estimator:hover label.sk-toggleable__label-arrow:before {color: black;}#sk-container-id-2 div.sk-toggleable__content {max-height: 0;max-width: 0;overflow: hidden;text-align: left;background-color: #f0f8ff;}#sk-container-id-2 div.sk-toggleable__content pre {margin: 0.2em;color: black;border-radius: 0.25em;background-color: #f0f8ff;}#sk-container-id-2 input.sk-toggleable__control:checked~div.sk-toggleable__content {max-height: 200px;max-width: 100%;overflow: auto;}#sk-container-id-2 input.sk-toggleable__control:checked~label.sk-toggleable__label-arrow:before {content: \"▾\";}#sk-container-id-2 div.sk-estimator input.sk-toggleable__control:checked~label.sk-toggleable__label {background-color: #d4ebff;}#sk-container-id-2 div.sk-label input.sk-toggleable__control:checked~label.sk-toggleable__label {background-color: #d4ebff;}#sk-container-id-2 input.sk-hidden--visually {border: 0;clip: rect(1px 1px 1px 1px);clip: rect(1px, 1px, 1px, 1px);height: 1px;margin: -1px;overflow: hidden;padding: 0;position: absolute;width: 1px;}#sk-container-id-2 div.sk-estimator {font-family: monospace;background-color: #f0f8ff;border: 1px dotted black;border-radius: 0.25em;box-sizing: border-box;margin-bottom: 0.5em;}#sk-container-id-2 div.sk-estimator:hover {background-color: #d4ebff;}#sk-container-id-2 div.sk-parallel-item::after {content: \"\";width: 100%;border-bottom: 1px solid gray;flex-grow: 1;}#sk-container-id-2 div.sk-label:hover label.sk-toggleable__label {background-color: #d4ebff;}#sk-container-id-2 div.sk-serial::before {content: \"\";position: absolute;border-left: 1px solid gray;box-sizing: border-box;top: 0;bottom: 0;left: 50%;z-index: 0;}#sk-container-id-2 div.sk-serial {display: flex;flex-direction: column;align-items: center;background-color: white;padding-right: 0.2em;padding-left: 0.2em;position: relative;}#sk-container-id-2 div.sk-item {position: relative;z-index: 1;}#sk-container-id-2 div.sk-parallel {display: flex;align-items: stretch;justify-content: center;background-color: white;position: relative;}#sk-container-id-2 div.sk-item::before, #sk-container-id-2 div.sk-parallel-item::before {content: \"\";position: absolute;border-left: 1px solid gray;box-sizing: border-box;top: 0;bottom: 0;left: 50%;z-index: -1;}#sk-container-id-2 div.sk-parallel-item {display: flex;flex-direction: column;z-index: 1;position: relative;background-color: white;}#sk-container-id-2 div.sk-parallel-item:first-child::after {align-self: flex-end;width: 50%;}#sk-container-id-2 div.sk-parallel-item:last-child::after {align-self: flex-start;width: 50%;}#sk-container-id-2 div.sk-parallel-item:only-child::after {width: 0;}#sk-container-id-2 div.sk-dashed-wrapped {border: 1px dashed gray;margin: 0 0.4em 0.5em 0.4em;box-sizing: border-box;padding-bottom: 0.4em;background-color: white;}#sk-container-id-2 div.sk-label label {font-family: monospace;font-weight: bold;display: inline-block;line-height: 1.2em;}#sk-container-id-2 div.sk-label-container {text-align: center;}#sk-container-id-2 div.sk-container {/* jupyter's `normalize.less` sets `[hidden] { display: none; }` but bootstrap.min.css set `[hidden] { display: none !important; }` so we also need the `!important` here to be able to override the default hidden behavior on the sphinx rendered scikit-learn.org. See: https://github.com/scikit-learn/scikit-learn/issues/21755 */display: inline-block !important;position: relative;}#sk-container-id-2 div.sk-text-repr-fallback {display: none;}</style><div id=\"sk-container-id-2\" class=\"sk-top-container\"><div class=\"sk-text-repr-fallback\"><pre>Pipeline(steps=[(&#x27;columntransformer&#x27;,\n",
       "                 ColumnTransformer(transformers=[(&#x27;pipeline&#x27;,\n",
       "                                                  Pipeline(steps=[(&#x27;standardscaler&#x27;,\n",
       "                                                                   StandardScaler())]),\n",
       "                                                  [&#x27;RELATION_DISTANCE&#x27;]),\n",
       "                                                 (&#x27;onehotencoder&#x27;,\n",
       "                                                  OneHotEncoder(sparse=False),\n",
       "                                                  [&#x27;WAREHOUSE_ID&#x27;,\n",
       "                                                   &#x27;CARRIER_COMPANY_ID&#x27;,\n",
       "                                                   &#x27;PPU_HRS&#x27;, &#x27;PPU_DOW&#x27;,\n",
       "                                                   &#x27;SCR_HRS&#x27;, &#x27;SCR_DOW&#x27;])])),\n",
       "                (&#x27;kerasclassifier&#x27;,\n",
       "                 KerasClassifier(batch_size=32, callbacks=[&lt;keras.callbacks.EarlyStopping object at 0x15f71ba30&gt;], epochs=10, model=&lt;function get_model at 0x15f6fbca0&gt;, validation_split=0.3))])</pre><b>In a Jupyter environment, please rerun this cell to show the HTML representation or trust the notebook. <br />On GitHub, the HTML representation is unable to render, please try loading this page with nbviewer.org.</b></div><div class=\"sk-container\" hidden><div class=\"sk-item sk-dashed-wrapped\"><div class=\"sk-label-container\"><div class=\"sk-label sk-toggleable\"><input class=\"sk-toggleable__control sk-hidden--visually\" id=\"sk-estimator-id-8\" type=\"checkbox\" ><label for=\"sk-estimator-id-8\" class=\"sk-toggleable__label sk-toggleable__label-arrow\">Pipeline</label><div class=\"sk-toggleable__content\"><pre>Pipeline(steps=[(&#x27;columntransformer&#x27;,\n",
       "                 ColumnTransformer(transformers=[(&#x27;pipeline&#x27;,\n",
       "                                                  Pipeline(steps=[(&#x27;standardscaler&#x27;,\n",
       "                                                                   StandardScaler())]),\n",
       "                                                  [&#x27;RELATION_DISTANCE&#x27;]),\n",
       "                                                 (&#x27;onehotencoder&#x27;,\n",
       "                                                  OneHotEncoder(sparse=False),\n",
       "                                                  [&#x27;WAREHOUSE_ID&#x27;,\n",
       "                                                   &#x27;CARRIER_COMPANY_ID&#x27;,\n",
       "                                                   &#x27;PPU_HRS&#x27;, &#x27;PPU_DOW&#x27;,\n",
       "                                                   &#x27;SCR_HRS&#x27;, &#x27;SCR_DOW&#x27;])])),\n",
       "                (&#x27;kerasclassifier&#x27;,\n",
       "                 KerasClassifier(batch_size=32, callbacks=[&lt;keras.callbacks.EarlyStopping object at 0x15f71ba30&gt;], epochs=10, model=&lt;function get_model at 0x15f6fbca0&gt;, validation_split=0.3))])</pre></div></div></div><div class=\"sk-serial\"><div class=\"sk-item sk-dashed-wrapped\"><div class=\"sk-label-container\"><div class=\"sk-label sk-toggleable\"><input class=\"sk-toggleable__control sk-hidden--visually\" id=\"sk-estimator-id-9\" type=\"checkbox\" ><label for=\"sk-estimator-id-9\" class=\"sk-toggleable__label sk-toggleable__label-arrow\">columntransformer: ColumnTransformer</label><div class=\"sk-toggleable__content\"><pre>ColumnTransformer(transformers=[(&#x27;pipeline&#x27;,\n",
       "                                 Pipeline(steps=[(&#x27;standardscaler&#x27;,\n",
       "                                                  StandardScaler())]),\n",
       "                                 [&#x27;RELATION_DISTANCE&#x27;]),\n",
       "                                (&#x27;onehotencoder&#x27;, OneHotEncoder(sparse=False),\n",
       "                                 [&#x27;WAREHOUSE_ID&#x27;, &#x27;CARRIER_COMPANY_ID&#x27;,\n",
       "                                  &#x27;PPU_HRS&#x27;, &#x27;PPU_DOW&#x27;, &#x27;SCR_HRS&#x27;,\n",
       "                                  &#x27;SCR_DOW&#x27;])])</pre></div></div></div><div class=\"sk-parallel\"><div class=\"sk-parallel-item\"><div class=\"sk-item\"><div class=\"sk-label-container\"><div class=\"sk-label sk-toggleable\"><input class=\"sk-toggleable__control sk-hidden--visually\" id=\"sk-estimator-id-10\" type=\"checkbox\" ><label for=\"sk-estimator-id-10\" class=\"sk-toggleable__label sk-toggleable__label-arrow\">pipeline</label><div class=\"sk-toggleable__content\"><pre>[&#x27;RELATION_DISTANCE&#x27;]</pre></div></div></div><div class=\"sk-serial\"><div class=\"sk-item\"><div class=\"sk-serial\"><div class=\"sk-item\"><div class=\"sk-estimator sk-toggleable\"><input class=\"sk-toggleable__control sk-hidden--visually\" id=\"sk-estimator-id-11\" type=\"checkbox\" ><label for=\"sk-estimator-id-11\" class=\"sk-toggleable__label sk-toggleable__label-arrow\">StandardScaler</label><div class=\"sk-toggleable__content\"><pre>StandardScaler()</pre></div></div></div></div></div></div></div></div><div class=\"sk-parallel-item\"><div class=\"sk-item\"><div class=\"sk-label-container\"><div class=\"sk-label sk-toggleable\"><input class=\"sk-toggleable__control sk-hidden--visually\" id=\"sk-estimator-id-12\" type=\"checkbox\" ><label for=\"sk-estimator-id-12\" class=\"sk-toggleable__label sk-toggleable__label-arrow\">onehotencoder</label><div class=\"sk-toggleable__content\"><pre>[&#x27;WAREHOUSE_ID&#x27;, &#x27;CARRIER_COMPANY_ID&#x27;, &#x27;PPU_HRS&#x27;, &#x27;PPU_DOW&#x27;, &#x27;SCR_HRS&#x27;, &#x27;SCR_DOW&#x27;]</pre></div></div></div><div class=\"sk-serial\"><div class=\"sk-item\"><div class=\"sk-estimator sk-toggleable\"><input class=\"sk-toggleable__control sk-hidden--visually\" id=\"sk-estimator-id-13\" type=\"checkbox\" ><label for=\"sk-estimator-id-13\" class=\"sk-toggleable__label sk-toggleable__label-arrow\">OneHotEncoder</label><div class=\"sk-toggleable__content\"><pre>OneHotEncoder(sparse=False)</pre></div></div></div></div></div></div></div></div><div class=\"sk-item\"><div class=\"sk-estimator sk-toggleable\"><input class=\"sk-toggleable__control sk-hidden--visually\" id=\"sk-estimator-id-14\" type=\"checkbox\" ><label for=\"sk-estimator-id-14\" class=\"sk-toggleable__label sk-toggleable__label-arrow\">KerasClassifier</label><div class=\"sk-toggleable__content\"><pre>KerasClassifier(\n",
       "\tmodel=&lt;function get_model at 0x15f6fbca0&gt;\n",
       "\tbuild_fn=None\n",
       "\twarm_start=False\n",
       "\trandom_state=None\n",
       "\toptimizer=rmsprop\n",
       "\tloss=None\n",
       "\tmetrics=None\n",
       "\tbatch_size=32\n",
       "\tvalidation_batch_size=None\n",
       "\tverbose=1\n",
       "\tcallbacks=[&lt;keras.callbacks.EarlyStopping object at 0x15f71ba30&gt;]\n",
       "\tvalidation_split=0.3\n",
       "\tshuffle=True\n",
       "\trun_eagerly=False\n",
       "\tepochs=10\n",
       "\tclass_weight=None\n",
       ")</pre></div></div></div></div></div></div></div>"
      ],
      "text/plain": [
       "Pipeline(steps=[('columntransformer',\n",
       "                 ColumnTransformer(transformers=[('pipeline',\n",
       "                                                  Pipeline(steps=[('standardscaler',\n",
       "                                                                   StandardScaler())]),\n",
       "                                                  ['RELATION_DISTANCE']),\n",
       "                                                 ('onehotencoder',\n",
       "                                                  OneHotEncoder(sparse=False),\n",
       "                                                  ['WAREHOUSE_ID',\n",
       "                                                   'CARRIER_COMPANY_ID',\n",
       "                                                   'PPU_HRS', 'PPU_DOW',\n",
       "                                                   'SCR_HRS', 'SCR_DOW'])])),\n",
       "                ('kerasclassifier',\n",
       "                 KerasClassifier(batch_size=32, callbacks=[<keras.callbacks.EarlyStopping object at 0x15f71ba30>], epochs=10, model=<function get_model at 0x15f6fbca0>, validation_split=0.3))])"
      ]
     },
     "execution_count": 12,
     "metadata": {},
     "output_type": "execute_result"
    }
   ],
   "source": [
    "num_transformer = make_pipeline(StandardScaler())\n",
    "num_col = ['RELATION_DISTANCE']\n",
    "\n",
    "cat_transformer = OneHotEncoder(sparse=False)\n",
    "cat_col = ['WAREHOUSE_ID','CARRIER_COMPANY_ID',\n",
    "          'PPU_HRS','PPU_DOW',\n",
    "          'SCR_HRS','SCR_DOW']\n",
    "\n",
    "preproc = make_column_transformer(\n",
    "    (num_transformer, num_col),\n",
    "    (cat_transformer, cat_col),\n",
    "    remainder='drop')\n",
    "\n",
    "pipeline = make_pipeline(preproc, clf)\n",
    "pipeline"
   ]
  },
  {
   "cell_type": "code",
   "execution_count": 13,
   "id": "c8663990-34bb-4392-b628-43c7cf2b7054",
   "metadata": {},
   "outputs": [
    {
     "name": "stdout",
     "output_type": "stream",
     "text": [
      "Epoch 1/10\n",
      "24560/24560 [==============================] - 60s 2ms/step - loss: 0.4993 - accuracy: 0.7927 - val_loss: 0.4418 - val_accuracy: 0.8106\n",
      "Epoch 2/10\n",
      "24560/24560 [==============================] - 59s 2ms/step - loss: 0.4368 - accuracy: 0.8157 - val_loss: 0.4266 - val_accuracy: 0.8197\n",
      "Epoch 3/10\n",
      "24560/24560 [==============================] - 49s 2ms/step - loss: 0.4240 - accuracy: 0.8202 - val_loss: 0.4193 - val_accuracy: 0.8228\n",
      "Epoch 4/10\n",
      "24560/24560 [==============================] - 49s 2ms/step - loss: 0.4172 - accuracy: 0.8222 - val_loss: 0.4205 - val_accuracy: 0.8223\n",
      "Epoch 5/10\n",
      "24560/24560 [==============================] - 50s 2ms/step - loss: 0.4126 - accuracy: 0.8239 - val_loss: 0.4110 - val_accuracy: 0.8243\n",
      "Epoch 6/10\n",
      "24560/24560 [==============================] - 48s 2ms/step - loss: 0.4094 - accuracy: 0.8247 - val_loss: 0.4086 - val_accuracy: 0.8225\n",
      "Epoch 7/10\n",
      "24560/24560 [==============================] - 49s 2ms/step - loss: 0.4067 - accuracy: 0.8260 - val_loss: 0.4054 - val_accuracy: 0.8276\n",
      "Epoch 8/10\n",
      "24560/24560 [==============================] - 51s 2ms/step - loss: 0.4048 - accuracy: 0.8259 - val_loss: 0.4063 - val_accuracy: 0.8236\n",
      "Epoch 9/10\n",
      "24560/24560 [==============================] - 50s 2ms/step - loss: 0.4028 - accuracy: 0.8272 - val_loss: 0.4051 - val_accuracy: 0.8276\n",
      "Epoch 10/10\n",
      "24560/24560 [==============================] - 51s 2ms/step - loss: 0.4015 - accuracy: 0.8274 - val_loss: 0.4073 - val_accuracy: 0.8249\n"
     ]
    },
    {
     "data": {
      "text/html": [
       "<style>#sk-container-id-3 {color: black;background-color: white;}#sk-container-id-3 pre{padding: 0;}#sk-container-id-3 div.sk-toggleable {background-color: white;}#sk-container-id-3 label.sk-toggleable__label {cursor: pointer;display: block;width: 100%;margin-bottom: 0;padding: 0.3em;box-sizing: border-box;text-align: center;}#sk-container-id-3 label.sk-toggleable__label-arrow:before {content: \"▸\";float: left;margin-right: 0.25em;color: #696969;}#sk-container-id-3 label.sk-toggleable__label-arrow:hover:before {color: black;}#sk-container-id-3 div.sk-estimator:hover label.sk-toggleable__label-arrow:before {color: black;}#sk-container-id-3 div.sk-toggleable__content {max-height: 0;max-width: 0;overflow: hidden;text-align: left;background-color: #f0f8ff;}#sk-container-id-3 div.sk-toggleable__content pre {margin: 0.2em;color: black;border-radius: 0.25em;background-color: #f0f8ff;}#sk-container-id-3 input.sk-toggleable__control:checked~div.sk-toggleable__content {max-height: 200px;max-width: 100%;overflow: auto;}#sk-container-id-3 input.sk-toggleable__control:checked~label.sk-toggleable__label-arrow:before {content: \"▾\";}#sk-container-id-3 div.sk-estimator input.sk-toggleable__control:checked~label.sk-toggleable__label {background-color: #d4ebff;}#sk-container-id-3 div.sk-label input.sk-toggleable__control:checked~label.sk-toggleable__label {background-color: #d4ebff;}#sk-container-id-3 input.sk-hidden--visually {border: 0;clip: rect(1px 1px 1px 1px);clip: rect(1px, 1px, 1px, 1px);height: 1px;margin: -1px;overflow: hidden;padding: 0;position: absolute;width: 1px;}#sk-container-id-3 div.sk-estimator {font-family: monospace;background-color: #f0f8ff;border: 1px dotted black;border-radius: 0.25em;box-sizing: border-box;margin-bottom: 0.5em;}#sk-container-id-3 div.sk-estimator:hover {background-color: #d4ebff;}#sk-container-id-3 div.sk-parallel-item::after {content: \"\";width: 100%;border-bottom: 1px solid gray;flex-grow: 1;}#sk-container-id-3 div.sk-label:hover label.sk-toggleable__label {background-color: #d4ebff;}#sk-container-id-3 div.sk-serial::before {content: \"\";position: absolute;border-left: 1px solid gray;box-sizing: border-box;top: 0;bottom: 0;left: 50%;z-index: 0;}#sk-container-id-3 div.sk-serial {display: flex;flex-direction: column;align-items: center;background-color: white;padding-right: 0.2em;padding-left: 0.2em;position: relative;}#sk-container-id-3 div.sk-item {position: relative;z-index: 1;}#sk-container-id-3 div.sk-parallel {display: flex;align-items: stretch;justify-content: center;background-color: white;position: relative;}#sk-container-id-3 div.sk-item::before, #sk-container-id-3 div.sk-parallel-item::before {content: \"\";position: absolute;border-left: 1px solid gray;box-sizing: border-box;top: 0;bottom: 0;left: 50%;z-index: -1;}#sk-container-id-3 div.sk-parallel-item {display: flex;flex-direction: column;z-index: 1;position: relative;background-color: white;}#sk-container-id-3 div.sk-parallel-item:first-child::after {align-self: flex-end;width: 50%;}#sk-container-id-3 div.sk-parallel-item:last-child::after {align-self: flex-start;width: 50%;}#sk-container-id-3 div.sk-parallel-item:only-child::after {width: 0;}#sk-container-id-3 div.sk-dashed-wrapped {border: 1px dashed gray;margin: 0 0.4em 0.5em 0.4em;box-sizing: border-box;padding-bottom: 0.4em;background-color: white;}#sk-container-id-3 div.sk-label label {font-family: monospace;font-weight: bold;display: inline-block;line-height: 1.2em;}#sk-container-id-3 div.sk-label-container {text-align: center;}#sk-container-id-3 div.sk-container {/* jupyter's `normalize.less` sets `[hidden] { display: none; }` but bootstrap.min.css set `[hidden] { display: none !important; }` so we also need the `!important` here to be able to override the default hidden behavior on the sphinx rendered scikit-learn.org. See: https://github.com/scikit-learn/scikit-learn/issues/21755 */display: inline-block !important;position: relative;}#sk-container-id-3 div.sk-text-repr-fallback {display: none;}</style><div id=\"sk-container-id-3\" class=\"sk-top-container\"><div class=\"sk-text-repr-fallback\"><pre>Pipeline(steps=[(&#x27;columntransformer&#x27;,\n",
       "                 ColumnTransformer(transformers=[(&#x27;pipeline&#x27;,\n",
       "                                                  Pipeline(steps=[(&#x27;standardscaler&#x27;,\n",
       "                                                                   StandardScaler())]),\n",
       "                                                  [&#x27;RELATION_DISTANCE&#x27;]),\n",
       "                                                 (&#x27;onehotencoder&#x27;,\n",
       "                                                  OneHotEncoder(sparse=False),\n",
       "                                                  [&#x27;WAREHOUSE_ID&#x27;,\n",
       "                                                   &#x27;CARRIER_COMPANY_ID&#x27;,\n",
       "                                                   &#x27;PPU_HRS&#x27;, &#x27;PPU_DOW&#x27;,\n",
       "                                                   &#x27;SCR_HRS&#x27;, &#x27;SCR_DOW&#x27;])])),\n",
       "                (&#x27;kerasclassifier&#x27;,\n",
       "                 KerasClassifier(batch_size=32, callbacks=[&lt;keras.callbacks.EarlyStopping object at 0x15f71ba30&gt;], epochs=10, model=&lt;function get_model at 0x15f6fbca0&gt;, validation_split=0.3))])</pre><b>In a Jupyter environment, please rerun this cell to show the HTML representation or trust the notebook. <br />On GitHub, the HTML representation is unable to render, please try loading this page with nbviewer.org.</b></div><div class=\"sk-container\" hidden><div class=\"sk-item sk-dashed-wrapped\"><div class=\"sk-label-container\"><div class=\"sk-label sk-toggleable\"><input class=\"sk-toggleable__control sk-hidden--visually\" id=\"sk-estimator-id-15\" type=\"checkbox\" ><label for=\"sk-estimator-id-15\" class=\"sk-toggleable__label sk-toggleable__label-arrow\">Pipeline</label><div class=\"sk-toggleable__content\"><pre>Pipeline(steps=[(&#x27;columntransformer&#x27;,\n",
       "                 ColumnTransformer(transformers=[(&#x27;pipeline&#x27;,\n",
       "                                                  Pipeline(steps=[(&#x27;standardscaler&#x27;,\n",
       "                                                                   StandardScaler())]),\n",
       "                                                  [&#x27;RELATION_DISTANCE&#x27;]),\n",
       "                                                 (&#x27;onehotencoder&#x27;,\n",
       "                                                  OneHotEncoder(sparse=False),\n",
       "                                                  [&#x27;WAREHOUSE_ID&#x27;,\n",
       "                                                   &#x27;CARRIER_COMPANY_ID&#x27;,\n",
       "                                                   &#x27;PPU_HRS&#x27;, &#x27;PPU_DOW&#x27;,\n",
       "                                                   &#x27;SCR_HRS&#x27;, &#x27;SCR_DOW&#x27;])])),\n",
       "                (&#x27;kerasclassifier&#x27;,\n",
       "                 KerasClassifier(batch_size=32, callbacks=[&lt;keras.callbacks.EarlyStopping object at 0x15f71ba30&gt;], epochs=10, model=&lt;function get_model at 0x15f6fbca0&gt;, validation_split=0.3))])</pre></div></div></div><div class=\"sk-serial\"><div class=\"sk-item sk-dashed-wrapped\"><div class=\"sk-label-container\"><div class=\"sk-label sk-toggleable\"><input class=\"sk-toggleable__control sk-hidden--visually\" id=\"sk-estimator-id-16\" type=\"checkbox\" ><label for=\"sk-estimator-id-16\" class=\"sk-toggleable__label sk-toggleable__label-arrow\">columntransformer: ColumnTransformer</label><div class=\"sk-toggleable__content\"><pre>ColumnTransformer(transformers=[(&#x27;pipeline&#x27;,\n",
       "                                 Pipeline(steps=[(&#x27;standardscaler&#x27;,\n",
       "                                                  StandardScaler())]),\n",
       "                                 [&#x27;RELATION_DISTANCE&#x27;]),\n",
       "                                (&#x27;onehotencoder&#x27;, OneHotEncoder(sparse=False),\n",
       "                                 [&#x27;WAREHOUSE_ID&#x27;, &#x27;CARRIER_COMPANY_ID&#x27;,\n",
       "                                  &#x27;PPU_HRS&#x27;, &#x27;PPU_DOW&#x27;, &#x27;SCR_HRS&#x27;,\n",
       "                                  &#x27;SCR_DOW&#x27;])])</pre></div></div></div><div class=\"sk-parallel\"><div class=\"sk-parallel-item\"><div class=\"sk-item\"><div class=\"sk-label-container\"><div class=\"sk-label sk-toggleable\"><input class=\"sk-toggleable__control sk-hidden--visually\" id=\"sk-estimator-id-17\" type=\"checkbox\" ><label for=\"sk-estimator-id-17\" class=\"sk-toggleable__label sk-toggleable__label-arrow\">pipeline</label><div class=\"sk-toggleable__content\"><pre>[&#x27;RELATION_DISTANCE&#x27;]</pre></div></div></div><div class=\"sk-serial\"><div class=\"sk-item\"><div class=\"sk-serial\"><div class=\"sk-item\"><div class=\"sk-estimator sk-toggleable\"><input class=\"sk-toggleable__control sk-hidden--visually\" id=\"sk-estimator-id-18\" type=\"checkbox\" ><label for=\"sk-estimator-id-18\" class=\"sk-toggleable__label sk-toggleable__label-arrow\">StandardScaler</label><div class=\"sk-toggleable__content\"><pre>StandardScaler()</pre></div></div></div></div></div></div></div></div><div class=\"sk-parallel-item\"><div class=\"sk-item\"><div class=\"sk-label-container\"><div class=\"sk-label sk-toggleable\"><input class=\"sk-toggleable__control sk-hidden--visually\" id=\"sk-estimator-id-19\" type=\"checkbox\" ><label for=\"sk-estimator-id-19\" class=\"sk-toggleable__label sk-toggleable__label-arrow\">onehotencoder</label><div class=\"sk-toggleable__content\"><pre>[&#x27;WAREHOUSE_ID&#x27;, &#x27;CARRIER_COMPANY_ID&#x27;, &#x27;PPU_HRS&#x27;, &#x27;PPU_DOW&#x27;, &#x27;SCR_HRS&#x27;, &#x27;SCR_DOW&#x27;]</pre></div></div></div><div class=\"sk-serial\"><div class=\"sk-item\"><div class=\"sk-estimator sk-toggleable\"><input class=\"sk-toggleable__control sk-hidden--visually\" id=\"sk-estimator-id-20\" type=\"checkbox\" ><label for=\"sk-estimator-id-20\" class=\"sk-toggleable__label sk-toggleable__label-arrow\">OneHotEncoder</label><div class=\"sk-toggleable__content\"><pre>OneHotEncoder(sparse=False)</pre></div></div></div></div></div></div></div></div><div class=\"sk-item\"><div class=\"sk-estimator sk-toggleable\"><input class=\"sk-toggleable__control sk-hidden--visually\" id=\"sk-estimator-id-21\" type=\"checkbox\" ><label for=\"sk-estimator-id-21\" class=\"sk-toggleable__label sk-toggleable__label-arrow\">KerasClassifier</label><div class=\"sk-toggleable__content\"><pre>KerasClassifier(\n",
       "\tmodel=&lt;function get_model at 0x15f6fbca0&gt;\n",
       "\tbuild_fn=None\n",
       "\twarm_start=False\n",
       "\trandom_state=None\n",
       "\toptimizer=rmsprop\n",
       "\tloss=None\n",
       "\tmetrics=None\n",
       "\tbatch_size=32\n",
       "\tvalidation_batch_size=None\n",
       "\tverbose=1\n",
       "\tcallbacks=[&lt;keras.callbacks.EarlyStopping object at 0x15f71ba30&gt;]\n",
       "\tvalidation_split=0.3\n",
       "\tshuffle=True\n",
       "\trun_eagerly=False\n",
       "\tepochs=10\n",
       "\tclass_weight=None\n",
       ")</pre></div></div></div></div></div></div></div>"
      ],
      "text/plain": [
       "Pipeline(steps=[('columntransformer',\n",
       "                 ColumnTransformer(transformers=[('pipeline',\n",
       "                                                  Pipeline(steps=[('standardscaler',\n",
       "                                                                   StandardScaler())]),\n",
       "                                                  ['RELATION_DISTANCE']),\n",
       "                                                 ('onehotencoder',\n",
       "                                                  OneHotEncoder(sparse=False),\n",
       "                                                  ['WAREHOUSE_ID',\n",
       "                                                   'CARRIER_COMPANY_ID',\n",
       "                                                   'PPU_HRS', 'PPU_DOW',\n",
       "                                                   'SCR_HRS', 'SCR_DOW'])])),\n",
       "                ('kerasclassifier',\n",
       "                 KerasClassifier(batch_size=32, callbacks=[<keras.callbacks.EarlyStopping object at 0x15f71ba30>], epochs=10, model=<function get_model at 0x15f6fbca0>, validation_split=0.3))])"
      ]
     },
     "execution_count": 13,
     "metadata": {},
     "output_type": "execute_result"
    }
   ],
   "source": [
    "pipeline.fit(X_train, y_train)"
   ]
  },
  {
   "cell_type": "code",
   "execution_count": null,
   "id": "bed83d20-1fde-4e4d-af43-00f42f5471c0",
   "metadata": {},
   "outputs": [],
   "source": [
    "score = pipeline.score(X_test, y_test)\n",
    "score"
   ]
  },
  {
   "cell_type": "code",
   "execution_count": null,
   "id": "ac174c04-5c6b-4672-a6b8-82ac1397199f",
   "metadata": {},
   "outputs": [],
   "source": [
    "X_train"
   ]
  },
  {
   "cell_type": "code",
   "execution_count": null,
   "id": "3b7ffaf0-423b-4f47-8230-4b7fa0f3612e",
   "metadata": {},
   "outputs": [],
   "source": []
  }
 ],
 "metadata": {
  "kernelspec": {
   "display_name": "Python 3 (ipykernel)",
   "language": "python",
   "name": "python3"
  },
  "language_info": {
   "codemirror_mode": {
    "name": "ipython",
    "version": 3
   },
   "file_extension": ".py",
   "mimetype": "text/x-python",
   "name": "python",
   "nbconvert_exporter": "python",
   "pygments_lexer": "ipython3",
   "version": "3.8.12"
  },
  "toc": {
   "base_numbering": 1,
   "nav_menu": {},
   "number_sections": true,
   "sideBar": true,
   "skip_h1_title": false,
   "title_cell": "Table of Contents",
   "title_sidebar": "Contents",
   "toc_cell": false,
   "toc_position": {},
   "toc_section_display": true,
   "toc_window_display": false
  }
 },
 "nbformat": 4,
 "nbformat_minor": 5
}

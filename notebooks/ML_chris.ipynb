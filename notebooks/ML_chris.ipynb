{
 "cells": [
  {
   "cell_type": "markdown",
   "id": "84a1a95d",
   "metadata": {},
   "source": [
    "# Machine Learning Model"
   ]
  },
  {
   "cell_type": "markdown",
   "id": "54d73539",
   "metadata": {},
   "source": [
    "Goal of this notebook is to create a pipeline with a machine learning model which predicts how many days after the creation of a shipment it get's picked up and arrives at the last mile carrier hub."
   ]
  },
  {
   "cell_type": "code",
   "execution_count": 1,
   "id": "1adc87b8",
   "metadata": {},
   "outputs": [],
   "source": [
    "%load_ext autoreload\n",
    "%autoreload 2"
   ]
  },
  {
   "cell_type": "code",
   "execution_count": 2,
   "id": "5cba6ba8",
   "metadata": {},
   "outputs": [
    {
     "name": "stdout",
     "output_type": "stream",
     "text": [
      "Obtaining file:///Users/christianklaus/code/christianklausML/dispatcher-project\n",
      "  Preparing metadata (setup.py) ... \u001b[?25ldone\n",
      "\u001b[?25hRequirement already satisfied: pip>=9 in /Users/christianklaus/.pyenv/versions/3.8.12/envs/lewagon/lib/python3.8/site-packages (from dispatcher==1.0) (22.0.4)\n",
      "Requirement already satisfied: setuptools>=26 in /Users/christianklaus/.pyenv/versions/3.8.12/envs/lewagon/lib/python3.8/site-packages (from dispatcher==1.0) (56.0.0)\n",
      "Requirement already satisfied: twine in /Users/christianklaus/.pyenv/versions/3.8.12/envs/lewagon/lib/python3.8/site-packages (from dispatcher==1.0) (4.0.0)\n",
      "Requirement already satisfied: wheel>=0.29 in /Users/christianklaus/.pyenv/versions/3.8.12/envs/lewagon/lib/python3.8/site-packages (from dispatcher==1.0) (0.37.1)\n",
      "Requirement already satisfied: numpy in /Users/christianklaus/.pyenv/versions/3.8.12/envs/lewagon/lib/python3.8/site-packages (from dispatcher==1.0) (1.22.4)\n",
      "Requirement already satisfied: pandas in /Users/christianklaus/.pyenv/versions/3.8.12/envs/lewagon/lib/python3.8/site-packages (from dispatcher==1.0) (1.3.5)\n",
      "Requirement already satisfied: scikit-learn in /Users/christianklaus/.pyenv/versions/3.8.12/envs/lewagon/lib/python3.8/site-packages (from dispatcher==1.0) (1.1.1)\n",
      "Requirement already satisfied: fsspec==2022.3.0 in /Users/christianklaus/.pyenv/versions/3.8.12/envs/lewagon/lib/python3.8/site-packages (from dispatcher==1.0) (2022.3.0)\n",
      "Requirement already satisfied: datetime in /Users/christianklaus/.pyenv/versions/3.8.12/envs/lewagon/lib/python3.8/site-packages (from dispatcher==1.0) (4.5)\n",
      "Requirement already satisfied: mlxtend in /Users/christianklaus/.pyenv/versions/3.8.12/envs/lewagon/lib/python3.8/site-packages (from dispatcher==1.0) (0.20.0)\n",
      "Requirement already satisfied: tensorflow==2.9.1 in /Users/christianklaus/.pyenv/versions/3.8.12/envs/lewagon/lib/python3.8/site-packages (from dispatcher==1.0) (2.9.1)\n",
      "Requirement already satisfied: tensorflow-estimator==2.9.0 in /Users/christianklaus/.pyenv/versions/3.8.12/envs/lewagon/lib/python3.8/site-packages (from dispatcher==1.0) (2.9.0)\n",
      "Requirement already satisfied: tensorflow-io-gcs-filesystem==0.26.0 in /Users/christianklaus/.pyenv/versions/3.8.12/envs/lewagon/lib/python3.8/site-packages (from dispatcher==1.0) (0.26.0)\n",
      "Requirement already satisfied: scikeras==0.8.0 in /Users/christianklaus/.pyenv/versions/3.8.12/envs/lewagon/lib/python3.8/site-packages (from dispatcher==1.0) (0.8.0)\n",
      "Requirement already satisfied: black in /Users/christianklaus/.pyenv/versions/3.8.12/envs/lewagon/lib/python3.8/site-packages (from dispatcher==1.0) (21.12b0)\n",
      "Requirement already satisfied: coverage in /Users/christianklaus/.pyenv/versions/3.8.12/envs/lewagon/lib/python3.8/site-packages (from dispatcher==1.0) (6.2)\n",
      "Requirement already satisfied: flake8 in /Users/christianklaus/.pyenv/versions/3.8.12/envs/lewagon/lib/python3.8/site-packages (from dispatcher==1.0) (4.0.1)\n",
      "Requirement already satisfied: pytest in /Users/christianklaus/.pyenv/versions/3.8.12/envs/lewagon/lib/python3.8/site-packages (from dispatcher==1.0) (6.2.5)\n",
      "Requirement already satisfied: yapf in /Users/christianklaus/.pyenv/versions/3.8.12/envs/lewagon/lib/python3.8/site-packages (from dispatcher==1.0) (0.32.0)\n",
      "Requirement already satisfied: gcsfs==2022.3.0 in /Users/christianklaus/.pyenv/versions/3.8.12/envs/lewagon/lib/python3.8/site-packages (from dispatcher==1.0) (2022.3.0)\n",
      "Requirement already satisfied: mlflow in /Users/christianklaus/.pyenv/versions/3.8.12/envs/lewagon/lib/python3.8/site-packages (from dispatcher==1.0) (1.24.0)\n",
      "Requirement already satisfied: s3fs in /Users/christianklaus/.pyenv/versions/3.8.12/envs/lewagon/lib/python3.8/site-packages (from dispatcher==1.0) (2022.3.0)\n",
      "Requirement already satisfied: uvicorn in /Users/christianklaus/.pyenv/versions/3.8.12/envs/lewagon/lib/python3.8/site-packages (from dispatcher==1.0) (0.16.0)\n",
      "Requirement already satisfied: fastapi in /Users/christianklaus/.pyenv/versions/3.8.12/envs/lewagon/lib/python3.8/site-packages (from dispatcher==1.0) (0.70.1)\n",
      "Requirement already satisfied: six>=1.14 in /Users/christianklaus/.pyenv/versions/3.8.12/envs/lewagon/lib/python3.8/site-packages (from dispatcher==1.0) (1.14.0)\n",
      "Requirement already satisfied: joblib in /Users/christianklaus/.pyenv/versions/3.8.12/envs/lewagon/lib/python3.8/site-packages (from dispatcher==1.0) (1.0.1)\n",
      "Requirement already satisfied: memoized-property in /Users/christianklaus/.pyenv/versions/3.8.12/envs/lewagon/lib/python3.8/site-packages (from dispatcher==1.0) (1.0.3)\n",
      "Requirement already satisfied: termcolor in /Users/christianklaus/.pyenv/versions/3.8.12/envs/lewagon/lib/python3.8/site-packages (from dispatcher==1.0) (1.1.0)\n",
      "Requirement already satisfied: google-cloud-storage==2.3.0 in /Users/christianklaus/.pyenv/versions/3.8.12/envs/lewagon/lib/python3.8/site-packages (from dispatcher==1.0) (2.3.0)\n",
      "Requirement already satisfied: google==3.0.0 in /Users/christianklaus/.pyenv/versions/3.8.12/envs/lewagon/lib/python3.8/site-packages (from dispatcher==1.0) (3.0.0)\n",
      "Requirement already satisfied: google-cloud==0.34.0 in /Users/christianklaus/.pyenv/versions/3.8.12/envs/lewagon/lib/python3.8/site-packages (from dispatcher==1.0) (0.34.0)\n",
      "Requirement already satisfied: google-auth-oauthlib in /Users/christianklaus/.pyenv/versions/3.8.12/envs/lewagon/lib/python3.8/site-packages (from gcsfs==2022.3.0->dispatcher==1.0) (0.4.6)\n",
      "Requirement already satisfied: decorator>4.1.2 in /Users/christianklaus/.pyenv/versions/3.8.12/envs/lewagon/lib/python3.8/site-packages (from gcsfs==2022.3.0->dispatcher==1.0) (5.1.0)\n",
      "Requirement already satisfied: aiohttp<4 in /Users/christianklaus/.pyenv/versions/3.8.12/envs/lewagon/lib/python3.8/site-packages (from gcsfs==2022.3.0->dispatcher==1.0) (3.8.1)\n",
      "Requirement already satisfied: requests in /Users/christianklaus/.pyenv/versions/3.8.12/envs/lewagon/lib/python3.8/site-packages (from gcsfs==2022.3.0->dispatcher==1.0) (2.27.1)\n",
      "Requirement already satisfied: google-auth>=1.2 in /Users/christianklaus/.pyenv/versions/3.8.12/envs/lewagon/lib/python3.8/site-packages (from gcsfs==2022.3.0->dispatcher==1.0) (2.3.3)\n",
      "Requirement already satisfied: beautifulsoup4 in /Users/christianklaus/.pyenv/versions/3.8.12/envs/lewagon/lib/python3.8/site-packages (from google==3.0.0->dispatcher==1.0) (4.10.0)\n",
      "Requirement already satisfied: google-api-core!=2.0.*,!=2.1.*,!=2.2.*,!=2.3.0,<3.0.0dev,>=1.31.5 in /Users/christianklaus/.pyenv/versions/3.8.12/envs/lewagon/lib/python3.8/site-packages (from google-cloud-storage==2.3.0->dispatcher==1.0) (2.3.2)\n",
      "Requirement already satisfied: google-resumable-media>=2.3.2 in /Users/christianklaus/.pyenv/versions/3.8.12/envs/lewagon/lib/python3.8/site-packages (from google-cloud-storage==2.3.0->dispatcher==1.0) (2.3.2)\n",
      "Requirement already satisfied: protobuf in /Users/christianklaus/.pyenv/versions/3.8.12/envs/lewagon/lib/python3.8/site-packages (from google-cloud-storage==2.3.0->dispatcher==1.0) (3.19.1)\n",
      "Requirement already satisfied: google-cloud-core<3.0dev,>=2.3.0 in /Users/christianklaus/.pyenv/versions/3.8.12/envs/lewagon/lib/python3.8/site-packages (from google-cloud-storage==2.3.0->dispatcher==1.0) (2.3.0)\n",
      "Requirement already satisfied: packaging<22.0,>=0.21 in /Users/christianklaus/.pyenv/versions/3.8.12/envs/lewagon/lib/python3.8/site-packages (from scikeras==0.8.0->dispatcher==1.0) (21.3)\n",
      "Requirement already satisfied: google-pasta>=0.1.1 in /Users/christianklaus/.pyenv/versions/3.8.12/envs/lewagon/lib/python3.8/site-packages (from tensorflow==2.9.1->dispatcher==1.0) (0.2.0)\n",
      "Requirement already satisfied: h5py>=2.9.0 in /Users/christianklaus/.pyenv/versions/3.8.12/envs/lewagon/lib/python3.8/site-packages (from tensorflow==2.9.1->dispatcher==1.0) (3.6.0)\n",
      "Requirement already satisfied: keras-preprocessing>=1.1.1 in /Users/christianklaus/.pyenv/versions/3.8.12/envs/lewagon/lib/python3.8/site-packages (from tensorflow==2.9.1->dispatcher==1.0) (1.1.2)\n",
      "Requirement already satisfied: grpcio<2.0,>=1.24.3 in /Users/christianklaus/.pyenv/versions/3.8.12/envs/lewagon/lib/python3.8/site-packages (from tensorflow==2.9.1->dispatcher==1.0) (1.43.0)\n",
      "Requirement already satisfied: absl-py>=1.0.0 in /Users/christianklaus/.pyenv/versions/3.8.12/envs/lewagon/lib/python3.8/site-packages (from tensorflow==2.9.1->dispatcher==1.0) (1.2.0)\n",
      "Requirement already satisfied: typing-extensions>=3.6.6 in /Users/christianklaus/.pyenv/versions/3.8.12/envs/lewagon/lib/python3.8/site-packages (from tensorflow==2.9.1->dispatcher==1.0) (4.0.1)\n",
      "Requirement already satisfied: wrapt>=1.11.0 in /Users/christianklaus/.pyenv/versions/3.8.12/envs/lewagon/lib/python3.8/site-packages (from tensorflow==2.9.1->dispatcher==1.0) (1.12.1)\n",
      "Requirement already satisfied: keras<2.10.0,>=2.9.0rc0 in /Users/christianklaus/.pyenv/versions/3.8.12/envs/lewagon/lib/python3.8/site-packages (from tensorflow==2.9.1->dispatcher==1.0) (2.9.0)\n",
      "Requirement already satisfied: opt-einsum>=2.3.2 in /Users/christianklaus/.pyenv/versions/3.8.12/envs/lewagon/lib/python3.8/site-packages (from tensorflow==2.9.1->dispatcher==1.0) (3.3.0)\n",
      "Requirement already satisfied: tensorboard<2.10,>=2.9 in /Users/christianklaus/.pyenv/versions/3.8.12/envs/lewagon/lib/python3.8/site-packages (from tensorflow==2.9.1->dispatcher==1.0) (2.9.1)\n",
      "Requirement already satisfied: flatbuffers<2,>=1.12 in /Users/christianklaus/.pyenv/versions/3.8.12/envs/lewagon/lib/python3.8/site-packages (from tensorflow==2.9.1->dispatcher==1.0) (1.12)\n",
      "Requirement already satisfied: gast<=0.4.0,>=0.2.1 in /Users/christianklaus/.pyenv/versions/3.8.12/envs/lewagon/lib/python3.8/site-packages (from tensorflow==2.9.1->dispatcher==1.0) (0.4.0)\n",
      "Requirement already satisfied: libclang>=13.0.0 in /Users/christianklaus/.pyenv/versions/3.8.12/envs/lewagon/lib/python3.8/site-packages (from tensorflow==2.9.1->dispatcher==1.0) (14.0.6)\n",
      "Requirement already satisfied: astunparse>=1.6.0 in /Users/christianklaus/.pyenv/versions/3.8.12/envs/lewagon/lib/python3.8/site-packages (from tensorflow==2.9.1->dispatcher==1.0) (1.6.3)\n"
     ]
    },
    {
     "name": "stdout",
     "output_type": "stream",
     "text": [
      "Requirement already satisfied: scipy>=1.3.2 in /Users/christianklaus/.pyenv/versions/3.8.12/envs/lewagon/lib/python3.8/site-packages (from scikit-learn->dispatcher==1.0) (1.7.3)\n",
      "Requirement already satisfied: threadpoolctl>=2.0.0 in /Users/christianklaus/.pyenv/versions/3.8.12/envs/lewagon/lib/python3.8/site-packages (from scikit-learn->dispatcher==1.0) (3.0.0)\n",
      "Requirement already satisfied: tomli<2.0.0,>=0.2.6 in /Users/christianklaus/.pyenv/versions/3.8.12/envs/lewagon/lib/python3.8/site-packages (from black->dispatcher==1.0) (1.2.3)\n",
      "Requirement already satisfied: click>=7.1.2 in /Users/christianklaus/.pyenv/versions/3.8.12/envs/lewagon/lib/python3.8/site-packages (from black->dispatcher==1.0) (8.0.3)\n",
      "Requirement already satisfied: mypy-extensions>=0.4.3 in /Users/christianklaus/.pyenv/versions/3.8.12/envs/lewagon/lib/python3.8/site-packages (from black->dispatcher==1.0) (0.4.3)\n",
      "Requirement already satisfied: pathspec<1,>=0.9.0 in /Users/christianklaus/.pyenv/versions/3.8.12/envs/lewagon/lib/python3.8/site-packages (from black->dispatcher==1.0) (0.9.0)\n",
      "Requirement already satisfied: platformdirs>=2 in /Users/christianklaus/.pyenv/versions/3.8.12/envs/lewagon/lib/python3.8/site-packages (from black->dispatcher==1.0) (2.4.1)\n",
      "Requirement already satisfied: pytz in /Users/christianklaus/.pyenv/versions/3.8.12/envs/lewagon/lib/python3.8/site-packages (from datetime->dispatcher==1.0) (2021.3)\n",
      "Requirement already satisfied: zope.interface in /Users/christianklaus/.pyenv/versions/3.8.12/envs/lewagon/lib/python3.8/site-packages (from datetime->dispatcher==1.0) (5.4.0)\n",
      "Requirement already satisfied: starlette==0.16.0 in /Users/christianklaus/.pyenv/versions/3.8.12/envs/lewagon/lib/python3.8/site-packages (from fastapi->dispatcher==1.0) (0.16.0)\n",
      "Requirement already satisfied: pydantic!=1.7,!=1.7.1,!=1.7.2,!=1.7.3,!=1.8,!=1.8.1,<2.0.0,>=1.6.2 in /Users/christianklaus/.pyenv/versions/3.8.12/envs/lewagon/lib/python3.8/site-packages (from fastapi->dispatcher==1.0) (1.9.0)\n",
      "Requirement already satisfied: anyio<4,>=3.0.0 in /Users/christianklaus/.pyenv/versions/3.8.12/envs/lewagon/lib/python3.8/site-packages (from starlette==0.16.0->fastapi->dispatcher==1.0) (3.4.0)\n",
      "Requirement already satisfied: mccabe<0.7.0,>=0.6.0 in /Users/christianklaus/.pyenv/versions/3.8.12/envs/lewagon/lib/python3.8/site-packages (from flake8->dispatcher==1.0) (0.6.1)\n",
      "Requirement already satisfied: pyflakes<2.5.0,>=2.4.0 in /Users/christianklaus/.pyenv/versions/3.8.12/envs/lewagon/lib/python3.8/site-packages (from flake8->dispatcher==1.0) (2.4.0)\n",
      "Requirement already satisfied: pycodestyle<2.9.0,>=2.8.0 in /Users/christianklaus/.pyenv/versions/3.8.12/envs/lewagon/lib/python3.8/site-packages (from flake8->dispatcher==1.0) (2.8.0)\n",
      "Requirement already satisfied: Flask in /Users/christianklaus/.pyenv/versions/3.8.12/envs/lewagon/lib/python3.8/site-packages (from mlflow->dispatcher==1.0) (2.0.2)\n",
      "Requirement already satisfied: cloudpickle in /Users/christianklaus/.pyenv/versions/3.8.12/envs/lewagon/lib/python3.8/site-packages (from mlflow->dispatcher==1.0) (2.0.0)\n",
      "Requirement already satisfied: sqlalchemy in /Users/christianklaus/.pyenv/versions/3.8.12/envs/lewagon/lib/python3.8/site-packages (from mlflow->dispatcher==1.0) (1.4.29)\n",
      "Requirement already satisfied: gitpython>=2.1.0 in /Users/christianklaus/.pyenv/versions/3.8.12/envs/lewagon/lib/python3.8/site-packages (from mlflow->dispatcher==1.0) (3.1.24)\n",
      "Requirement already satisfied: alembic in /Users/christianklaus/.pyenv/versions/3.8.12/envs/lewagon/lib/python3.8/site-packages (from mlflow->dispatcher==1.0) (1.4.1)\n",
      "Requirement already satisfied: pyyaml>=5.1 in /Users/christianklaus/.pyenv/versions/3.8.12/envs/lewagon/lib/python3.8/site-packages (from mlflow->dispatcher==1.0) (6.0)\n",
      "Requirement already satisfied: entrypoints in /Users/christianklaus/.pyenv/versions/3.8.12/envs/lewagon/lib/python3.8/site-packages (from mlflow->dispatcher==1.0) (0.3)\n",
      "Requirement already satisfied: sqlparse>=0.3.1 in /Users/christianklaus/.pyenv/versions/3.8.12/envs/lewagon/lib/python3.8/site-packages (from mlflow->dispatcher==1.0) (0.4.2)\n",
      "Requirement already satisfied: querystring-parser in /Users/christianklaus/.pyenv/versions/3.8.12/envs/lewagon/lib/python3.8/site-packages (from mlflow->dispatcher==1.0) (1.2.4)\n",
      "Requirement already satisfied: databricks-cli>=0.8.7 in /Users/christianklaus/.pyenv/versions/3.8.12/envs/lewagon/lib/python3.8/site-packages (from mlflow->dispatcher==1.0) (0.16.2)\n",
      "Requirement already satisfied: docker>=4.0.0 in /Users/christianklaus/.pyenv/versions/3.8.12/envs/lewagon/lib/python3.8/site-packages (from mlflow->dispatcher==1.0) (5.0.3)\n",
      "Requirement already satisfied: gunicorn in /Users/christianklaus/.pyenv/versions/3.8.12/envs/lewagon/lib/python3.8/site-packages (from mlflow->dispatcher==1.0) (20.1.0)\n",
      "Requirement already satisfied: prometheus-flask-exporter in /Users/christianklaus/.pyenv/versions/3.8.12/envs/lewagon/lib/python3.8/site-packages (from mlflow->dispatcher==1.0) (0.18.7)\n",
      "Requirement already satisfied: importlib-metadata!=4.7.0,>=3.7.0 in /Users/christianklaus/.pyenv/versions/3.8.12/envs/lewagon/lib/python3.8/site-packages (from mlflow->dispatcher==1.0) (4.10.0)\n",
      "Requirement already satisfied: matplotlib>=3.0.0 in /Users/christianklaus/.pyenv/versions/3.8.12/envs/lewagon/lib/python3.8/site-packages (from mlxtend->dispatcher==1.0) (3.5.1)\n",
      "Requirement already satisfied: python-dateutil>=2.7.3 in /Users/christianklaus/.pyenv/versions/3.8.12/envs/lewagon/lib/python3.8/site-packages (from pandas->dispatcher==1.0) (2.8.2)\n",
      "Requirement already satisfied: pluggy<2.0,>=0.12 in /Users/christianklaus/.pyenv/versions/3.8.12/envs/lewagon/lib/python3.8/site-packages (from pytest->dispatcher==1.0) (1.0.0)\n",
      "Requirement already satisfied: iniconfig in /Users/christianklaus/.pyenv/versions/3.8.12/envs/lewagon/lib/python3.8/site-packages (from pytest->dispatcher==1.0) (1.1.1)\n",
      "Requirement already satisfied: py>=1.8.2 in /Users/christianklaus/.pyenv/versions/3.8.12/envs/lewagon/lib/python3.8/site-packages (from pytest->dispatcher==1.0) (1.11.0)\n",
      "Requirement already satisfied: attrs>=19.2.0 in /Users/christianklaus/.pyenv/versions/3.8.12/envs/lewagon/lib/python3.8/site-packages (from pytest->dispatcher==1.0) (21.4.0)\n",
      "Requirement already satisfied: toml in /Users/christianklaus/.pyenv/versions/3.8.12/envs/lewagon/lib/python3.8/site-packages (from pytest->dispatcher==1.0) (0.10.2)\n",
      "Requirement already satisfied: aiobotocore~=2.2.0 in /Users/christianklaus/.pyenv/versions/3.8.12/envs/lewagon/lib/python3.8/site-packages (from s3fs->dispatcher==1.0) (2.2.0)\n",
      "Requirement already satisfied: requests-toolbelt!=0.9.0,>=0.8.0 in /Users/christianklaus/.pyenv/versions/3.8.12/envs/lewagon/lib/python3.8/site-packages (from twine->dispatcher==1.0) (0.9.1)\n",
      "Requirement already satisfied: rich>=12.0.0 in /Users/christianklaus/.pyenv/versions/3.8.12/envs/lewagon/lib/python3.8/site-packages (from twine->dispatcher==1.0) (12.2.0)\n",
      "Requirement already satisfied: keyring>=15.1 in /Users/christianklaus/.pyenv/versions/3.8.12/envs/lewagon/lib/python3.8/site-packages (from twine->dispatcher==1.0) (23.5.0)\n",
      "Requirement already satisfied: urllib3>=1.26.0 in /Users/christianklaus/.pyenv/versions/3.8.12/envs/lewagon/lib/python3.8/site-packages (from twine->dispatcher==1.0) (1.26.7)\n",
      "Requirement already satisfied: rfc3986>=1.4.0 in /Users/christianklaus/.pyenv/versions/3.8.12/envs/lewagon/lib/python3.8/site-packages (from twine->dispatcher==1.0) (2.0.0)\n",
      "Requirement already satisfied: readme-renderer>=21.0 in /Users/christianklaus/.pyenv/versions/3.8.12/envs/lewagon/lib/python3.8/site-packages (from twine->dispatcher==1.0) (35.0)\n",
      "Requirement already satisfied: pkginfo>=1.8.1 in /Users/christianklaus/.pyenv/versions/3.8.12/envs/lewagon/lib/python3.8/site-packages (from twine->dispatcher==1.0) (1.8.2)\n",
      "Requirement already satisfied: h11>=0.8 in /Users/christianklaus/.pyenv/versions/3.8.12/envs/lewagon/lib/python3.8/site-packages (from uvicorn->dispatcher==1.0) (0.12.0)\n",
      "Requirement already satisfied: asgiref>=3.4.0 in /Users/christianklaus/.pyenv/versions/3.8.12/envs/lewagon/lib/python3.8/site-packages (from uvicorn->dispatcher==1.0) (3.4.1)\n",
      "Requirement already satisfied: aioitertools>=0.5.1 in /Users/christianklaus/.pyenv/versions/3.8.12/envs/lewagon/lib/python3.8/site-packages (from aiobotocore~=2.2.0->s3fs->dispatcher==1.0) (0.8.0)\n",
      "Requirement already satisfied: botocore<1.24.22,>=1.24.21 in /Users/christianklaus/.pyenv/versions/3.8.12/envs/lewagon/lib/python3.8/site-packages (from aiobotocore~=2.2.0->s3fs->dispatcher==1.0) (1.24.21)\n"
     ]
    },
    {
     "name": "stdout",
     "output_type": "stream",
     "text": [
      "Requirement already satisfied: aiosignal>=1.1.2 in /Users/christianklaus/.pyenv/versions/3.8.12/envs/lewagon/lib/python3.8/site-packages (from aiohttp<4->gcsfs==2022.3.0->dispatcher==1.0) (1.2.0)\n",
      "Requirement already satisfied: multidict<7.0,>=4.5 in /Users/christianklaus/.pyenv/versions/3.8.12/envs/lewagon/lib/python3.8/site-packages (from aiohttp<4->gcsfs==2022.3.0->dispatcher==1.0) (5.2.0)\n",
      "Requirement already satisfied: charset-normalizer<3.0,>=2.0 in /Users/christianklaus/.pyenv/versions/3.8.12/envs/lewagon/lib/python3.8/site-packages (from aiohttp<4->gcsfs==2022.3.0->dispatcher==1.0) (2.0.10)\n",
      "Requirement already satisfied: yarl<2.0,>=1.0 in /Users/christianklaus/.pyenv/versions/3.8.12/envs/lewagon/lib/python3.8/site-packages (from aiohttp<4->gcsfs==2022.3.0->dispatcher==1.0) (1.7.2)\n",
      "Requirement already satisfied: frozenlist>=1.1.1 in /Users/christianklaus/.pyenv/versions/3.8.12/envs/lewagon/lib/python3.8/site-packages (from aiohttp<4->gcsfs==2022.3.0->dispatcher==1.0) (1.2.0)\n",
      "Requirement already satisfied: async-timeout<5.0,>=4.0.0a3 in /Users/christianklaus/.pyenv/versions/3.8.12/envs/lewagon/lib/python3.8/site-packages (from aiohttp<4->gcsfs==2022.3.0->dispatcher==1.0) (4.0.2)\n",
      "Requirement already satisfied: tabulate>=0.7.7 in /Users/christianklaus/.pyenv/versions/3.8.12/envs/lewagon/lib/python3.8/site-packages (from databricks-cli>=0.8.7->mlflow->dispatcher==1.0) (0.8.9)\n",
      "Requirement already satisfied: websocket-client>=0.32.0 in /Users/christianklaus/.pyenv/versions/3.8.12/envs/lewagon/lib/python3.8/site-packages (from docker>=4.0.0->mlflow->dispatcher==1.0) (1.2.3)\n",
      "Requirement already satisfied: gitdb<5,>=4.0.1 in /Users/christianklaus/.pyenv/versions/3.8.12/envs/lewagon/lib/python3.8/site-packages (from gitpython>=2.1.0->mlflow->dispatcher==1.0) (4.0.9)\n",
      "Requirement already satisfied: googleapis-common-protos<2.0dev,>=1.52.0 in /Users/christianklaus/.pyenv/versions/3.8.12/envs/lewagon/lib/python3.8/site-packages (from google-api-core!=2.0.*,!=2.1.*,!=2.2.*,!=2.3.0,<3.0.0dev,>=1.31.5->google-cloud-storage==2.3.0->dispatcher==1.0) (1.54.0)\n",
      "Requirement already satisfied: rsa<5,>=3.1.4 in /Users/christianklaus/.pyenv/versions/3.8.12/envs/lewagon/lib/python3.8/site-packages (from google-auth>=1.2->gcsfs==2022.3.0->dispatcher==1.0) (4.8)\n",
      "Requirement already satisfied: pyasn1-modules>=0.2.1 in /Users/christianklaus/.pyenv/versions/3.8.12/envs/lewagon/lib/python3.8/site-packages (from google-auth>=1.2->gcsfs==2022.3.0->dispatcher==1.0) (0.2.8)\n",
      "Requirement already satisfied: cachetools<5.0,>=2.0.0 in /Users/christianklaus/.pyenv/versions/3.8.12/envs/lewagon/lib/python3.8/site-packages (from google-auth>=1.2->gcsfs==2022.3.0->dispatcher==1.0) (4.2.4)\n",
      "Requirement already satisfied: google-crc32c<2.0dev,>=1.0 in /Users/christianklaus/.pyenv/versions/3.8.12/envs/lewagon/lib/python3.8/site-packages (from google-resumable-media>=2.3.2->google-cloud-storage==2.3.0->dispatcher==1.0) (1.3.0)\n",
      "Requirement already satisfied: zipp>=0.5 in /Users/christianklaus/.pyenv/versions/3.8.12/envs/lewagon/lib/python3.8/site-packages (from importlib-metadata!=4.7.0,>=3.7.0->mlflow->dispatcher==1.0) (3.7.0)\n",
      "Requirement already satisfied: cycler>=0.10 in /Users/christianklaus/.pyenv/versions/3.8.12/envs/lewagon/lib/python3.8/site-packages (from matplotlib>=3.0.0->mlxtend->dispatcher==1.0) (0.11.0)\n",
      "Requirement already satisfied: kiwisolver>=1.0.1 in /Users/christianklaus/.pyenv/versions/3.8.12/envs/lewagon/lib/python3.8/site-packages (from matplotlib>=3.0.0->mlxtend->dispatcher==1.0) (1.3.2)\n",
      "Requirement already satisfied: pillow>=6.2.0 in /Users/christianklaus/.pyenv/versions/3.8.12/envs/lewagon/lib/python3.8/site-packages (from matplotlib>=3.0.0->mlxtend->dispatcher==1.0) (9.0.0)\n",
      "Requirement already satisfied: fonttools>=4.22.0 in /Users/christianklaus/.pyenv/versions/3.8.12/envs/lewagon/lib/python3.8/site-packages (from matplotlib>=3.0.0->mlxtend->dispatcher==1.0) (4.28.5)\n",
      "Requirement already satisfied: pyparsing>=2.2.1 in /Users/christianklaus/.pyenv/versions/3.8.12/envs/lewagon/lib/python3.8/site-packages (from matplotlib>=3.0.0->mlxtend->dispatcher==1.0) (3.0.6)\n",
      "Requirement already satisfied: bleach>=2.1.0 in /Users/christianklaus/.pyenv/versions/3.8.12/envs/lewagon/lib/python3.8/site-packages (from readme-renderer>=21.0->twine->dispatcher==1.0) (4.1.0)\n",
      "Requirement already satisfied: Pygments>=2.5.1 in /Users/christianklaus/.pyenv/versions/3.8.12/envs/lewagon/lib/python3.8/site-packages (from readme-renderer>=21.0->twine->dispatcher==1.0) (2.11.2)\n",
      "Requirement already satisfied: docutils>=0.13.1 in /Users/christianklaus/.pyenv/versions/3.8.12/envs/lewagon/lib/python3.8/site-packages (from readme-renderer>=21.0->twine->dispatcher==1.0) (0.18.1)\n",
      "Requirement already satisfied: certifi>=2017.4.17 in /Users/christianklaus/.pyenv/versions/3.8.12/envs/lewagon/lib/python3.8/site-packages (from requests->gcsfs==2022.3.0->dispatcher==1.0) (2021.10.8)\n",
      "Requirement already satisfied: idna<4,>=2.5 in /Users/christianklaus/.pyenv/versions/3.8.12/envs/lewagon/lib/python3.8/site-packages (from requests->gcsfs==2022.3.0->dispatcher==1.0) (3.3)\n",
      "Requirement already satisfied: commonmark<0.10.0,>=0.9.0 in /Users/christianklaus/.pyenv/versions/3.8.12/envs/lewagon/lib/python3.8/site-packages (from rich>=12.0.0->twine->dispatcher==1.0) (0.9.1)\n",
      "Requirement already satisfied: tensorboard-plugin-wit>=1.6.0 in /Users/christianklaus/.pyenv/versions/3.8.12/envs/lewagon/lib/python3.8/site-packages (from tensorboard<2.10,>=2.9->tensorflow==2.9.1->dispatcher==1.0) (1.8.1)\n",
      "Requirement already satisfied: werkzeug>=1.0.1 in /Users/christianklaus/.pyenv/versions/3.8.12/envs/lewagon/lib/python3.8/site-packages (from tensorboard<2.10,>=2.9->tensorflow==2.9.1->dispatcher==1.0) (2.0.2)\n",
      "Requirement already satisfied: tensorboard-data-server<0.7.0,>=0.6.0 in /Users/christianklaus/.pyenv/versions/3.8.12/envs/lewagon/lib/python3.8/site-packages (from tensorboard<2.10,>=2.9->tensorflow==2.9.1->dispatcher==1.0) (0.6.1)\n",
      "Requirement already satisfied: markdown>=2.6.8 in /Users/christianklaus/.pyenv/versions/3.8.12/envs/lewagon/lib/python3.8/site-packages (from tensorboard<2.10,>=2.9->tensorflow==2.9.1->dispatcher==1.0) (3.3.6)\n",
      "Requirement already satisfied: requests-oauthlib>=0.7.0 in /Users/christianklaus/.pyenv/versions/3.8.12/envs/lewagon/lib/python3.8/site-packages (from google-auth-oauthlib->gcsfs==2022.3.0->dispatcher==1.0) (1.3.0)\n",
      "Requirement already satisfied: Mako in /Users/christianklaus/.pyenv/versions/3.8.12/envs/lewagon/lib/python3.8/site-packages (from alembic->mlflow->dispatcher==1.0) (1.1.6)\n",
      "Requirement already satisfied: python-editor>=0.3 in /Users/christianklaus/.pyenv/versions/3.8.12/envs/lewagon/lib/python3.8/site-packages (from alembic->mlflow->dispatcher==1.0) (1.0.4)\n",
      "Requirement already satisfied: greenlet!=0.4.17 in /Users/christianklaus/.pyenv/versions/3.8.12/envs/lewagon/lib/python3.8/site-packages (from sqlalchemy->mlflow->dispatcher==1.0) (1.1.2)\n",
      "Requirement already satisfied: soupsieve>1.2 in /Users/christianklaus/.pyenv/versions/3.8.12/envs/lewagon/lib/python3.8/site-packages (from beautifulsoup4->google==3.0.0->dispatcher==1.0) (2.3.1)\n",
      "Requirement already satisfied: itsdangerous>=2.0 in /Users/christianklaus/.pyenv/versions/3.8.12/envs/lewagon/lib/python3.8/site-packages (from Flask->mlflow->dispatcher==1.0) (2.0.1)\n",
      "Requirement already satisfied: Jinja2>=3.0 in /Users/christianklaus/.pyenv/versions/3.8.12/envs/lewagon/lib/python3.8/site-packages (from Flask->mlflow->dispatcher==1.0) (3.0.3)\n",
      "Requirement already satisfied: prometheus-client in /Users/christianklaus/.pyenv/versions/3.8.12/envs/lewagon/lib/python3.8/site-packages (from prometheus-flask-exporter->mlflow->dispatcher==1.0) (0.12.0)\n",
      "Requirement already satisfied: sniffio>=1.1 in /Users/christianklaus/.pyenv/versions/3.8.12/envs/lewagon/lib/python3.8/site-packages (from anyio<4,>=3.0.0->starlette==0.16.0->fastapi->dispatcher==1.0) (1.2.0)\n",
      "Requirement already satisfied: webencodings in /Users/christianklaus/.pyenv/versions/3.8.12/envs/lewagon/lib/python3.8/site-packages (from bleach>=2.1.0->readme-renderer>=21.0->twine->dispatcher==1.0) (0.5.1)\n",
      "Requirement already satisfied: jmespath<2.0.0,>=0.7.1 in /Users/christianklaus/.pyenv/versions/3.8.12/envs/lewagon/lib/python3.8/site-packages (from botocore<1.24.22,>=1.24.21->aiobotocore~=2.2.0->s3fs->dispatcher==1.0) (0.10.0)\n"
     ]
    },
    {
     "name": "stdout",
     "output_type": "stream",
     "text": [
      "Requirement already satisfied: smmap<6,>=3.0.1 in /Users/christianklaus/.pyenv/versions/3.8.12/envs/lewagon/lib/python3.8/site-packages (from gitdb<5,>=4.0.1->gitpython>=2.1.0->mlflow->dispatcher==1.0) (5.0.0)\n",
      "Requirement already satisfied: MarkupSafe>=2.0 in /Users/christianklaus/.pyenv/versions/3.8.12/envs/lewagon/lib/python3.8/site-packages (from Jinja2>=3.0->Flask->mlflow->dispatcher==1.0) (2.0.1)\n",
      "Requirement already satisfied: pyasn1<0.5.0,>=0.4.6 in /Users/christianklaus/.pyenv/versions/3.8.12/envs/lewagon/lib/python3.8/site-packages (from pyasn1-modules>=0.2.1->google-auth>=1.2->gcsfs==2022.3.0->dispatcher==1.0) (0.4.8)\n",
      "Requirement already satisfied: oauthlib>=3.0.0 in /Users/christianklaus/.pyenv/versions/3.8.12/envs/lewagon/lib/python3.8/site-packages (from requests-oauthlib>=0.7.0->google-auth-oauthlib->gcsfs==2022.3.0->dispatcher==1.0) (3.1.1)\n",
      "Installing collected packages: dispatcher\n",
      "  Attempting uninstall: dispatcher\n",
      "    Found existing installation: dispatcher 1.0\n",
      "    Uninstalling dispatcher-1.0:\n",
      "      Successfully uninstalled dispatcher-1.0\n",
      "  Running setup.py develop for dispatcher\n",
      "Successfully installed dispatcher-1.0\n",
      "\u001b[33mWARNING: You are using pip version 22.0.4; however, version 22.2.2 is available.\n",
      "You should consider upgrading via the '/Users/christianklaus/.pyenv/versions/3.8.12/envs/lewagon/bin/python3.8 -m pip install --upgrade pip' command.\u001b[0m\u001b[33m\n",
      "\u001b[0m"
     ]
    }
   ],
   "source": [
    "!pip install -e ../."
   ]
  },
  {
   "cell_type": "code",
   "execution_count": 3,
   "id": "8f1a8ffa",
   "metadata": {},
   "outputs": [],
   "source": [
    "import matplotlib.pyplot as plt\n",
    "plt.style.use(['dark_background'])\n",
    "import seaborn as sns\n",
    "plt.style.use(\"dark_background\")\n",
    "import pandas as pd\n",
    "import numpy as np\n",
    "from dispatcher.data.join import JoinTables\n",
    "import datetime\n",
    "import math\n",
    "from dispatcher.transformers.encoders import TimeFeaturesEncoder, DayFeaturesEncoder\n",
    "from sklearn.linear_model import LogisticRegression\n",
    "from sklearn.model_selection import cross_validate\n",
    "from sklearn.preprocessing import OneHotEncoder\n",
    "from sklearn.compose import ColumnTransformer, make_column_transformer, make_column_selector\n",
    "from sklearn.pipeline import Pipeline, make_pipeline\n",
    "from sklearn.impute import SimpleImputer\n",
    "from sklearn.preprocessing import StandardScaler\n",
    "from sklearn.base import TransformerMixin, BaseEstimator"
   ]
  },
  {
   "cell_type": "markdown",
   "id": "7507ee73",
   "metadata": {},
   "source": [
    "To generate our train-test-split we'll use a function to join and pre-process the initial tables. We predefined this function in the package `join.py`."
   ]
  },
  {
   "cell_type": "code",
   "execution_count": 28,
   "id": "7fbd0df4",
   "metadata": {},
   "outputs": [
    {
     "name": "stderr",
     "output_type": "stream",
     "text": [
      "/Users/christianklaus/code/christianklausML/dispatcher-project/dispatcher/data/ticket.py:24: DtypeWarning: Columns (4,12,22,24,26) have mixed types.Specify dtype option on import or set low_memory=False.\n",
      "  shipment_order = RawData.get_table_data('shipment', local=True,\n"
     ]
    },
    {
     "name": "stdout",
     "output_type": "stream",
     "text": [
      "ticket features loaded\n",
      "order features loaded.\n",
      "carrier features loaded.\n"
     ]
    },
    {
     "name": "stderr",
     "output_type": "stream",
     "text": [
      "/Users/christianklaus/code/christianklausML/dispatcher-project/dispatcher/data/shipment.py:10: DtypeWarning: Columns (4,12,14) have mixed types.Specify dtype option on import or set low_memory=False.\n",
      "  clean_shipment = RawData.get_table_data('shipment', local=True, clean=True)\n"
     ]
    },
    {
     "name": "stdout",
     "output_type": "stream",
     "text": [
      "warehouse features loaded\n",
      "\u001b[32mTables joined.\u001b[0m\n",
      "\u001b[32mNAs filled. (─‿‿─)\u001b[0m\n",
      "\u001b[32mNumber of rows: 1403405\u001b[0m\n",
      "\u001b[32m                   percent_missing\n",
      "WAREHOUSE_ID                     0\n",
      "RELATION_DISTANCE                0\n",
      "SCR_HRS                          0\n",
      "SCR_MIN                          0\n",
      "PPU_DOW                          0\u001b[0m\n",
      "\u001b[32m0.0% of rows dropped.\u001b[0m\n",
      "\u001b[32mtrain test split ready. ( ◑‿◑)\u001b[0m\n"
     ]
    }
   ],
   "source": [
    "X_train, X_test, y_train, y_test = JoinTables().join_tables()"
   ]
  },
  {
   "cell_type": "markdown",
   "id": "2a579e85",
   "metadata": {},
   "source": [
    "The following class helps to debug the pipeline."
   ]
  },
  {
   "cell_type": "code",
   "execution_count": 9,
   "id": "1fbf1cb3",
   "metadata": {},
   "outputs": [],
   "source": [
    "class Debug(BaseEstimator, TransformerMixin):\n",
    "\n",
    "    def transform(self, X):\n",
    "        print(pd.DataFrame(X).head())\n",
    "        print(X.shape)\n",
    "        return X\n",
    "\n",
    "    def fit(self, X, y=None, **fit_params):\n",
    "        return self"
   ]
  },
  {
   "cell_type": "code",
   "execution_count": 14,
   "id": "723d30c1",
   "metadata": {},
   "outputs": [
    {
     "data": {
      "text/plain": [
       "Index(['WAREHOUSE_ID', 'RELATION_DISTANCE', 'CARRIER_COMPANY_ID', 'SHOP_ID',\n",
       "       'DESTINATION_ZIP_CODE', 'CUSTOMER_ADDRESS_ZIP_CODE',\n",
       "       'CUSTOMER_ADDRESS_COUNTRY_ID', 'OC_MIN', 'OC_HRS', 'OC_DOW', 'OC_MONTH',\n",
       "       'PPU_MIN', 'PPU_HRS', 'PPU_DOW', 'SCR_MIN', 'SCR_HRS', 'SCR_DOW'],\n",
       "      dtype='object')"
      ]
     },
     "execution_count": 14,
     "metadata": {},
     "output_type": "execute_result"
    }
   ],
   "source": [
    "X_train.keys()"
   ]
  },
  {
   "cell_type": "code",
   "execution_count": 29,
   "id": "4d2f0aca",
   "metadata": {},
   "outputs": [
    {
     "data": {
      "text/plain": [
       "127874     1.0\n",
       "198548     2.0\n",
       "542386     1.0\n",
       "1528287    0.0\n",
       "1322138    1.0\n",
       "          ... \n",
       "183554     4.0\n",
       "1223641    1.0\n",
       "192345     4.0\n",
       "1220372    1.0\n",
       "998077     0.0\n",
       "Name: DIFF_TRUE, Length: 1122719, dtype: float64"
      ]
     },
     "execution_count": 29,
     "metadata": {},
     "output_type": "execute_result"
    }
   ],
   "source": [
    "y_train"
   ]
  },
  {
   "cell_type": "code",
   "execution_count": null,
   "id": "89a36dee",
   "metadata": {},
   "outputs": [],
   "source": [
    "X_train.sample(10)"
   ]
  },
  {
   "cell_type": "code",
   "execution_count": 6,
   "id": "439a919d",
   "metadata": {},
   "outputs": [],
   "source": [
    " # visualizing pipelines in HTML\n",
    "from sklearn import set_config; set_config(display='diagram')"
   ]
  },
  {
   "cell_type": "code",
   "execution_count": 7,
   "id": "55456c12",
   "metadata": {},
   "outputs": [],
   "source": [
    "SimpleImputer.get_feature_names_out = (lambda self, names=None: self.feature_names_in_)"
   ]
  },
  {
   "cell_type": "raw",
   "id": "bb33eb62",
   "metadata": {},
   "source": [
    "For the numerical features we'll use a SimpleImputer and a StandardScaler. Categorical features are one-hot-encoded.  "
   ]
  },
  {
   "cell_type": "code",
   "execution_count": 32,
   "id": "b8f12ecd",
   "metadata": {},
   "outputs": [
    {
     "data": {
      "text/html": [
       "<style>#sk-container-id-9 {color: black;background-color: white;}#sk-container-id-9 pre{padding: 0;}#sk-container-id-9 div.sk-toggleable {background-color: white;}#sk-container-id-9 label.sk-toggleable__label {cursor: pointer;display: block;width: 100%;margin-bottom: 0;padding: 0.3em;box-sizing: border-box;text-align: center;}#sk-container-id-9 label.sk-toggleable__label-arrow:before {content: \"▸\";float: left;margin-right: 0.25em;color: #696969;}#sk-container-id-9 label.sk-toggleable__label-arrow:hover:before {color: black;}#sk-container-id-9 div.sk-estimator:hover label.sk-toggleable__label-arrow:before {color: black;}#sk-container-id-9 div.sk-toggleable__content {max-height: 0;max-width: 0;overflow: hidden;text-align: left;background-color: #f0f8ff;}#sk-container-id-9 div.sk-toggleable__content pre {margin: 0.2em;color: black;border-radius: 0.25em;background-color: #f0f8ff;}#sk-container-id-9 input.sk-toggleable__control:checked~div.sk-toggleable__content {max-height: 200px;max-width: 100%;overflow: auto;}#sk-container-id-9 input.sk-toggleable__control:checked~label.sk-toggleable__label-arrow:before {content: \"▾\";}#sk-container-id-9 div.sk-estimator input.sk-toggleable__control:checked~label.sk-toggleable__label {background-color: #d4ebff;}#sk-container-id-9 div.sk-label input.sk-toggleable__control:checked~label.sk-toggleable__label {background-color: #d4ebff;}#sk-container-id-9 input.sk-hidden--visually {border: 0;clip: rect(1px 1px 1px 1px);clip: rect(1px, 1px, 1px, 1px);height: 1px;margin: -1px;overflow: hidden;padding: 0;position: absolute;width: 1px;}#sk-container-id-9 div.sk-estimator {font-family: monospace;background-color: #f0f8ff;border: 1px dotted black;border-radius: 0.25em;box-sizing: border-box;margin-bottom: 0.5em;}#sk-container-id-9 div.sk-estimator:hover {background-color: #d4ebff;}#sk-container-id-9 div.sk-parallel-item::after {content: \"\";width: 100%;border-bottom: 1px solid gray;flex-grow: 1;}#sk-container-id-9 div.sk-label:hover label.sk-toggleable__label {background-color: #d4ebff;}#sk-container-id-9 div.sk-serial::before {content: \"\";position: absolute;border-left: 1px solid gray;box-sizing: border-box;top: 0;bottom: 0;left: 50%;z-index: 0;}#sk-container-id-9 div.sk-serial {display: flex;flex-direction: column;align-items: center;background-color: white;padding-right: 0.2em;padding-left: 0.2em;position: relative;}#sk-container-id-9 div.sk-item {position: relative;z-index: 1;}#sk-container-id-9 div.sk-parallel {display: flex;align-items: stretch;justify-content: center;background-color: white;position: relative;}#sk-container-id-9 div.sk-item::before, #sk-container-id-9 div.sk-parallel-item::before {content: \"\";position: absolute;border-left: 1px solid gray;box-sizing: border-box;top: 0;bottom: 0;left: 50%;z-index: -1;}#sk-container-id-9 div.sk-parallel-item {display: flex;flex-direction: column;z-index: 1;position: relative;background-color: white;}#sk-container-id-9 div.sk-parallel-item:first-child::after {align-self: flex-end;width: 50%;}#sk-container-id-9 div.sk-parallel-item:last-child::after {align-self: flex-start;width: 50%;}#sk-container-id-9 div.sk-parallel-item:only-child::after {width: 0;}#sk-container-id-9 div.sk-dashed-wrapped {border: 1px dashed gray;margin: 0 0.4em 0.5em 0.4em;box-sizing: border-box;padding-bottom: 0.4em;background-color: white;}#sk-container-id-9 div.sk-label label {font-family: monospace;font-weight: bold;display: inline-block;line-height: 1.2em;}#sk-container-id-9 div.sk-label-container {text-align: center;}#sk-container-id-9 div.sk-container {/* jupyter's `normalize.less` sets `[hidden] { display: none; }` but bootstrap.min.css set `[hidden] { display: none !important; }` so we also need the `!important` here to be able to override the default hidden behavior on the sphinx rendered scikit-learn.org. See: https://github.com/scikit-learn/scikit-learn/issues/21755 */display: inline-block !important;position: relative;}#sk-container-id-9 div.sk-text-repr-fallback {display: none;}</style><div id=\"sk-container-id-9\" class=\"sk-top-container\"><div class=\"sk-text-repr-fallback\"><pre>Pipeline(steps=[(&#x27;columntransformer&#x27;,\n",
       "                 ColumnTransformer(transformers=[(&#x27;num_tr&#x27;,\n",
       "                                                  Pipeline(steps=[(&#x27;imputer&#x27;,\n",
       "                                                                   SimpleImputer()),\n",
       "                                                                  (&#x27;scaler&#x27;,\n",
       "                                                                   StandardScaler())]),\n",
       "                                                  [&#x27;RELATION_DISTANCE&#x27;]),\n",
       "                                                 (&#x27;cat_tr&#x27;,\n",
       "                                                  OneHotEncoder(handle_unknown=&#x27;infrequent_if_exist&#x27;,\n",
       "                                                                max_categories=3),\n",
       "                                                  [&#x27;WAREHOUSE_ID&#x27;,\n",
       "                                                   &#x27;CARRIER_COMPANY_ID&#x27;,\n",
       "                                                   &#x27;SCR_DOW&#x27;, &#x27;SCR_HRS&#x27;])])),\n",
       "                (&#x27;debug&#x27;, Debug()),\n",
       "                (&#x27;logisticregression&#x27;, LogisticRegression(max_iter=1000))])</pre><b>In a Jupyter environment, please rerun this cell to show the HTML representation or trust the notebook. <br />On GitHub, the HTML representation is unable to render, please try loading this page with nbviewer.org.</b></div><div class=\"sk-container\" hidden><div class=\"sk-item sk-dashed-wrapped\"><div class=\"sk-label-container\"><div class=\"sk-label sk-toggleable\"><input class=\"sk-toggleable__control sk-hidden--visually\" id=\"sk-estimator-id-81\" type=\"checkbox\" ><label for=\"sk-estimator-id-81\" class=\"sk-toggleable__label sk-toggleable__label-arrow\">Pipeline</label><div class=\"sk-toggleable__content\"><pre>Pipeline(steps=[(&#x27;columntransformer&#x27;,\n",
       "                 ColumnTransformer(transformers=[(&#x27;num_tr&#x27;,\n",
       "                                                  Pipeline(steps=[(&#x27;imputer&#x27;,\n",
       "                                                                   SimpleImputer()),\n",
       "                                                                  (&#x27;scaler&#x27;,\n",
       "                                                                   StandardScaler())]),\n",
       "                                                  [&#x27;RELATION_DISTANCE&#x27;]),\n",
       "                                                 (&#x27;cat_tr&#x27;,\n",
       "                                                  OneHotEncoder(handle_unknown=&#x27;infrequent_if_exist&#x27;,\n",
       "                                                                max_categories=3),\n",
       "                                                  [&#x27;WAREHOUSE_ID&#x27;,\n",
       "                                                   &#x27;CARRIER_COMPANY_ID&#x27;,\n",
       "                                                   &#x27;SCR_DOW&#x27;, &#x27;SCR_HRS&#x27;])])),\n",
       "                (&#x27;debug&#x27;, Debug()),\n",
       "                (&#x27;logisticregression&#x27;, LogisticRegression(max_iter=1000))])</pre></div></div></div><div class=\"sk-serial\"><div class=\"sk-item sk-dashed-wrapped\"><div class=\"sk-label-container\"><div class=\"sk-label sk-toggleable\"><input class=\"sk-toggleable__control sk-hidden--visually\" id=\"sk-estimator-id-82\" type=\"checkbox\" ><label for=\"sk-estimator-id-82\" class=\"sk-toggleable__label sk-toggleable__label-arrow\">columntransformer: ColumnTransformer</label><div class=\"sk-toggleable__content\"><pre>ColumnTransformer(transformers=[(&#x27;num_tr&#x27;,\n",
       "                                 Pipeline(steps=[(&#x27;imputer&#x27;, SimpleImputer()),\n",
       "                                                 (&#x27;scaler&#x27;, StandardScaler())]),\n",
       "                                 [&#x27;RELATION_DISTANCE&#x27;]),\n",
       "                                (&#x27;cat_tr&#x27;,\n",
       "                                 OneHotEncoder(handle_unknown=&#x27;infrequent_if_exist&#x27;,\n",
       "                                               max_categories=3),\n",
       "                                 [&#x27;WAREHOUSE_ID&#x27;, &#x27;CARRIER_COMPANY_ID&#x27;,\n",
       "                                  &#x27;SCR_DOW&#x27;, &#x27;SCR_HRS&#x27;])])</pre></div></div></div><div class=\"sk-parallel\"><div class=\"sk-parallel-item\"><div class=\"sk-item\"><div class=\"sk-label-container\"><div class=\"sk-label sk-toggleable\"><input class=\"sk-toggleable__control sk-hidden--visually\" id=\"sk-estimator-id-83\" type=\"checkbox\" ><label for=\"sk-estimator-id-83\" class=\"sk-toggleable__label sk-toggleable__label-arrow\">num_tr</label><div class=\"sk-toggleable__content\"><pre>[&#x27;RELATION_DISTANCE&#x27;]</pre></div></div></div><div class=\"sk-serial\"><div class=\"sk-item\"><div class=\"sk-serial\"><div class=\"sk-item\"><div class=\"sk-estimator sk-toggleable\"><input class=\"sk-toggleable__control sk-hidden--visually\" id=\"sk-estimator-id-84\" type=\"checkbox\" ><label for=\"sk-estimator-id-84\" class=\"sk-toggleable__label sk-toggleable__label-arrow\">SimpleImputer</label><div class=\"sk-toggleable__content\"><pre>SimpleImputer()</pre></div></div></div><div class=\"sk-item\"><div class=\"sk-estimator sk-toggleable\"><input class=\"sk-toggleable__control sk-hidden--visually\" id=\"sk-estimator-id-85\" type=\"checkbox\" ><label for=\"sk-estimator-id-85\" class=\"sk-toggleable__label sk-toggleable__label-arrow\">StandardScaler</label><div class=\"sk-toggleable__content\"><pre>StandardScaler()</pre></div></div></div></div></div></div></div></div><div class=\"sk-parallel-item\"><div class=\"sk-item\"><div class=\"sk-label-container\"><div class=\"sk-label sk-toggleable\"><input class=\"sk-toggleable__control sk-hidden--visually\" id=\"sk-estimator-id-86\" type=\"checkbox\" ><label for=\"sk-estimator-id-86\" class=\"sk-toggleable__label sk-toggleable__label-arrow\">cat_tr</label><div class=\"sk-toggleable__content\"><pre>[&#x27;WAREHOUSE_ID&#x27;, &#x27;CARRIER_COMPANY_ID&#x27;, &#x27;SCR_DOW&#x27;, &#x27;SCR_HRS&#x27;]</pre></div></div></div><div class=\"sk-serial\"><div class=\"sk-item\"><div class=\"sk-estimator sk-toggleable\"><input class=\"sk-toggleable__control sk-hidden--visually\" id=\"sk-estimator-id-87\" type=\"checkbox\" ><label for=\"sk-estimator-id-87\" class=\"sk-toggleable__label sk-toggleable__label-arrow\">OneHotEncoder</label><div class=\"sk-toggleable__content\"><pre>OneHotEncoder(handle_unknown=&#x27;infrequent_if_exist&#x27;, max_categories=3)</pre></div></div></div></div></div></div></div></div><div class=\"sk-item\"><div class=\"sk-estimator sk-toggleable\"><input class=\"sk-toggleable__control sk-hidden--visually\" id=\"sk-estimator-id-88\" type=\"checkbox\" ><label for=\"sk-estimator-id-88\" class=\"sk-toggleable__label sk-toggleable__label-arrow\">Debug</label><div class=\"sk-toggleable__content\"><pre>Debug()</pre></div></div></div><div class=\"sk-item\"><div class=\"sk-estimator sk-toggleable\"><input class=\"sk-toggleable__control sk-hidden--visually\" id=\"sk-estimator-id-89\" type=\"checkbox\" ><label for=\"sk-estimator-id-89\" class=\"sk-toggleable__label sk-toggleable__label-arrow\">LogisticRegression</label><div class=\"sk-toggleable__content\"><pre>LogisticRegression(max_iter=1000)</pre></div></div></div></div></div></div></div>"
      ],
      "text/plain": [
       "Pipeline(steps=[('columntransformer',\n",
       "                 ColumnTransformer(transformers=[('num_tr',\n",
       "                                                  Pipeline(steps=[('imputer',\n",
       "                                                                   SimpleImputer()),\n",
       "                                                                  ('scaler',\n",
       "                                                                   StandardScaler())]),\n",
       "                                                  ['RELATION_DISTANCE']),\n",
       "                                                 ('cat_tr',\n",
       "                                                  OneHotEncoder(handle_unknown='infrequent_if_exist',\n",
       "                                                                max_categories=3),\n",
       "                                                  ['WAREHOUSE_ID',\n",
       "                                                   'CARRIER_COMPANY_ID',\n",
       "                                                   'SCR_DOW', 'SCR_HRS'])])),\n",
       "                ('debug', Debug()),\n",
       "                ('logisticregression', LogisticRegression(max_iter=1000))])"
      ]
     },
     "execution_count": 32,
     "metadata": {},
     "output_type": "execute_result"
    }
   ],
   "source": [
    "num_transformer = Pipeline([\n",
    "    ('imputer', SimpleImputer()),\n",
    "    ('scaler', StandardScaler())])\n",
    "#max_categories > 30 for one col and > 20 for two cols take very long\n",
    "cat_transformer = OneHotEncoder(max_categories=3, handle_unknown='infrequent_if_exist')\n",
    "\n",
    "preprocessor = ColumnTransformer([\n",
    "    ('num_tr', num_transformer, ['RELATION_DISTANCE']),\n",
    "    ('cat_tr', cat_transformer, ['WAREHOUSE_ID', 'CARRIER_COMPANY_ID', 'SCR_DOW', 'SCR_HRS'])],\n",
    "    remainder='drop')\n",
    "\n",
    "pipe = make_pipeline(preprocessor, Debug(), LogisticRegression(max_iter=1000))\n",
    "pipe"
   ]
  },
  {
   "cell_type": "code",
   "execution_count": 33,
   "id": "aa98e7d5",
   "metadata": {
    "scrolled": true
   },
   "outputs": [
    {
     "name": "stdout",
     "output_type": "stream",
     "text": [
      "         0    1    2    3    4    5    6    7    8    9    10   11   12\n",
      "0  0.198456  0.0  0.0  1.0  0.0  0.0  1.0  0.0  0.0  1.0  0.0  0.0  1.0\n",
      "1  0.177652  0.0  0.0  1.0  0.0  0.0  1.0  0.0  0.0  1.0  0.0  0.0  1.0\n",
      "2  0.494201  0.0  0.0  1.0  0.0  0.0  1.0  1.0  0.0  0.0  0.0  0.0  1.0\n",
      "3 -1.165238  0.0  0.0  1.0  0.0  0.0  1.0  0.0  0.0  1.0  0.0  0.0  1.0\n",
      "4  1.029845  1.0  0.0  0.0  1.0  0.0  0.0  1.0  0.0  0.0  0.0  0.0  1.0\n",
      "(1122719, 13)\n",
      "         0    1    2    3    4    5    6    7    8    9    10   11   12\n",
      "0  0.991325  1.0  0.0  0.0  0.0  1.0  0.0  0.0  0.0  1.0  0.0  0.0  1.0\n",
      "1 -0.783375  0.0  0.0  1.0  0.0  0.0  1.0  1.0  0.0  0.0  0.0  0.0  1.0\n",
      "2 -0.785218  0.0  1.0  0.0  0.0  0.0  1.0  0.0  1.0  0.0  0.0  1.0  0.0\n",
      "3 -0.785218  0.0  1.0  0.0  0.0  0.0  1.0  0.0  1.0  0.0  0.0  0.0  1.0\n",
      "4 -1.083691  0.0  0.0  1.0  0.0  0.0  1.0  0.0  0.0  1.0  0.0  0.0  1.0\n",
      "(280680, 13)\n"
     ]
    },
    {
     "data": {
      "text/plain": [
       "0.4484395040615648"
      ]
     },
     "execution_count": 33,
     "metadata": {},
     "output_type": "execute_result"
    }
   ],
   "source": [
    "# Train pipeline\n",
    "pipe.fit(X_train, y_train)\n",
    "\n",
    "# Score model \n",
    "pipe.score(X_test, y_test)"
   ]
  },
  {
   "cell_type": "markdown",
   "id": "e2fe2321",
   "metadata": {},
   "source": [
    "There is the first score! What could we improve?\n",
    "- try different models\n",
    "- hyperparameter tuning"
   ]
  },
  {
   "cell_type": "code",
   "execution_count": null,
   "id": "82061da3",
   "metadata": {},
   "outputs": [],
   "source": []
  }
 ],
 "metadata": {
  "kernelspec": {
   "display_name": "Python 3 (ipykernel)",
   "language": "python",
   "name": "python3"
  },
  "language_info": {
   "codemirror_mode": {
    "name": "ipython",
    "version": 3
   },
   "file_extension": ".py",
   "mimetype": "text/x-python",
   "name": "python",
   "nbconvert_exporter": "python",
   "pygments_lexer": "ipython3",
   "version": "3.8.12"
  },
  "toc": {
   "base_numbering": 1,
   "nav_menu": {},
   "number_sections": true,
   "sideBar": true,
   "skip_h1_title": false,
   "title_cell": "Table of Contents",
   "title_sidebar": "Contents",
   "toc_cell": false,
   "toc_position": {},
   "toc_section_display": true,
   "toc_window_display": false
  }
 },
 "nbformat": 4,
 "nbformat_minor": 5
}
